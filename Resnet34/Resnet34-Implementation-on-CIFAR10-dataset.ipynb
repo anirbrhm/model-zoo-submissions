{
  "nbformat": 4,
  "nbformat_minor": 0,
  "metadata": {
    "colab": {
      "name": "Resnet34-Model Zoo.ipynb",
      "provenance": [],
      "authorship_tag": "ABX9TyMmoxxtyWpZFJbYGyEdJaVt",
      "include_colab_link": true
    },
    "kernelspec": {
      "name": "python3",
      "display_name": "Python 3"
    },
    "language_info": {
      "name": "python"
    },
    "accelerator": "GPU",
    "widgets": {
      "application/vnd.jupyter.widget-state+json": {
        "5eca3c934d5b4c0aae502465936cf71b": {
          "model_module": "@jupyter-widgets/controls",
          "model_name": "HBoxModel",
          "state": {
            "_view_name": "HBoxView",
            "_dom_classes": [],
            "_model_name": "HBoxModel",
            "_view_module": "@jupyter-widgets/controls",
            "_model_module_version": "1.5.0",
            "_view_count": null,
            "_view_module_version": "1.5.0",
            "box_style": "",
            "layout": "IPY_MODEL_5e1a3b32369946179bd1560dfa541be7",
            "_model_module": "@jupyter-widgets/controls",
            "children": [
              "IPY_MODEL_c32c7172b48d41df875aeff0a57a3b44",
              "IPY_MODEL_77f86e3e8fe849eaa0f4ad0a1c65a4d8"
            ]
          }
        },
        "5e1a3b32369946179bd1560dfa541be7": {
          "model_module": "@jupyter-widgets/base",
          "model_name": "LayoutModel",
          "state": {
            "_view_name": "LayoutView",
            "grid_template_rows": null,
            "right": null,
            "justify_content": null,
            "_view_module": "@jupyter-widgets/base",
            "overflow": null,
            "_model_module_version": "1.2.0",
            "_view_count": null,
            "flex_flow": null,
            "width": null,
            "min_width": null,
            "border": null,
            "align_items": null,
            "bottom": null,
            "_model_module": "@jupyter-widgets/base",
            "top": null,
            "grid_column": null,
            "overflow_y": null,
            "overflow_x": null,
            "grid_auto_flow": null,
            "grid_area": null,
            "grid_template_columns": null,
            "flex": null,
            "_model_name": "LayoutModel",
            "justify_items": null,
            "grid_row": null,
            "max_height": null,
            "align_content": null,
            "visibility": null,
            "align_self": null,
            "height": null,
            "min_height": null,
            "padding": null,
            "grid_auto_rows": null,
            "grid_gap": null,
            "max_width": null,
            "order": null,
            "_view_module_version": "1.2.0",
            "grid_template_areas": null,
            "object_position": null,
            "object_fit": null,
            "grid_auto_columns": null,
            "margin": null,
            "display": null,
            "left": null
          }
        },
        "c32c7172b48d41df875aeff0a57a3b44": {
          "model_module": "@jupyter-widgets/controls",
          "model_name": "FloatProgressModel",
          "state": {
            "_view_name": "ProgressView",
            "style": "IPY_MODEL_93beb6a00c1144988199f52b651fa5b7",
            "_dom_classes": [],
            "description": "",
            "_model_name": "FloatProgressModel",
            "bar_style": "success",
            "max": 170498071,
            "_view_module": "@jupyter-widgets/controls",
            "_model_module_version": "1.5.0",
            "value": 170498071,
            "_view_count": null,
            "_view_module_version": "1.5.0",
            "orientation": "horizontal",
            "min": 0,
            "description_tooltip": null,
            "_model_module": "@jupyter-widgets/controls",
            "layout": "IPY_MODEL_36974dafb85145fcbfa213232c166b3c"
          }
        },
        "77f86e3e8fe849eaa0f4ad0a1c65a4d8": {
          "model_module": "@jupyter-widgets/controls",
          "model_name": "HTMLModel",
          "state": {
            "_view_name": "HTMLView",
            "style": "IPY_MODEL_7610aafddb3c4fe98fe49731b2a81e1c",
            "_dom_classes": [],
            "description": "",
            "_model_name": "HTMLModel",
            "placeholder": "​",
            "_view_module": "@jupyter-widgets/controls",
            "_model_module_version": "1.5.0",
            "value": " 170499072/? [01:31&lt;00:00, 1867774.68it/s]",
            "_view_count": null,
            "_view_module_version": "1.5.0",
            "description_tooltip": null,
            "_model_module": "@jupyter-widgets/controls",
            "layout": "IPY_MODEL_6f46c00224c2482ca1c253dfbbaef5b7"
          }
        },
        "93beb6a00c1144988199f52b651fa5b7": {
          "model_module": "@jupyter-widgets/controls",
          "model_name": "ProgressStyleModel",
          "state": {
            "_view_name": "StyleView",
            "_model_name": "ProgressStyleModel",
            "description_width": "initial",
            "_view_module": "@jupyter-widgets/base",
            "_model_module_version": "1.5.0",
            "_view_count": null,
            "_view_module_version": "1.2.0",
            "bar_color": null,
            "_model_module": "@jupyter-widgets/controls"
          }
        },
        "36974dafb85145fcbfa213232c166b3c": {
          "model_module": "@jupyter-widgets/base",
          "model_name": "LayoutModel",
          "state": {
            "_view_name": "LayoutView",
            "grid_template_rows": null,
            "right": null,
            "justify_content": null,
            "_view_module": "@jupyter-widgets/base",
            "overflow": null,
            "_model_module_version": "1.2.0",
            "_view_count": null,
            "flex_flow": null,
            "width": null,
            "min_width": null,
            "border": null,
            "align_items": null,
            "bottom": null,
            "_model_module": "@jupyter-widgets/base",
            "top": null,
            "grid_column": null,
            "overflow_y": null,
            "overflow_x": null,
            "grid_auto_flow": null,
            "grid_area": null,
            "grid_template_columns": null,
            "flex": null,
            "_model_name": "LayoutModel",
            "justify_items": null,
            "grid_row": null,
            "max_height": null,
            "align_content": null,
            "visibility": null,
            "align_self": null,
            "height": null,
            "min_height": null,
            "padding": null,
            "grid_auto_rows": null,
            "grid_gap": null,
            "max_width": null,
            "order": null,
            "_view_module_version": "1.2.0",
            "grid_template_areas": null,
            "object_position": null,
            "object_fit": null,
            "grid_auto_columns": null,
            "margin": null,
            "display": null,
            "left": null
          }
        },
        "7610aafddb3c4fe98fe49731b2a81e1c": {
          "model_module": "@jupyter-widgets/controls",
          "model_name": "DescriptionStyleModel",
          "state": {
            "_view_name": "StyleView",
            "_model_name": "DescriptionStyleModel",
            "description_width": "",
            "_view_module": "@jupyter-widgets/base",
            "_model_module_version": "1.5.0",
            "_view_count": null,
            "_view_module_version": "1.2.0",
            "_model_module": "@jupyter-widgets/controls"
          }
        },
        "6f46c00224c2482ca1c253dfbbaef5b7": {
          "model_module": "@jupyter-widgets/base",
          "model_name": "LayoutModel",
          "state": {
            "_view_name": "LayoutView",
            "grid_template_rows": null,
            "right": null,
            "justify_content": null,
            "_view_module": "@jupyter-widgets/base",
            "overflow": null,
            "_model_module_version": "1.2.0",
            "_view_count": null,
            "flex_flow": null,
            "width": null,
            "min_width": null,
            "border": null,
            "align_items": null,
            "bottom": null,
            "_model_module": "@jupyter-widgets/base",
            "top": null,
            "grid_column": null,
            "overflow_y": null,
            "overflow_x": null,
            "grid_auto_flow": null,
            "grid_area": null,
            "grid_template_columns": null,
            "flex": null,
            "_model_name": "LayoutModel",
            "justify_items": null,
            "grid_row": null,
            "max_height": null,
            "align_content": null,
            "visibility": null,
            "align_self": null,
            "height": null,
            "min_height": null,
            "padding": null,
            "grid_auto_rows": null,
            "grid_gap": null,
            "max_width": null,
            "order": null,
            "_view_module_version": "1.2.0",
            "grid_template_areas": null,
            "object_position": null,
            "object_fit": null,
            "grid_auto_columns": null,
            "margin": null,
            "display": null,
            "left": null
          }
        }
      }
    }
  },
  "cells": [
    {
      "cell_type": "markdown",
      "metadata": {
        "id": "view-in-github",
        "colab_type": "text"
      },
      "source": [
        "<a href=\"https://colab.research.google.com/github/anirbrhm/model-zoo-submissions/blob/anirbrhm-patch-1/Resnet34/Resnet34-Implementation-on-CIFAR10-dataset.ipynb\" target=\"_parent\"><img src=\"https://colab.research.google.com/assets/colab-badge.svg\" alt=\"Open In Colab\"/></a>"
      ]
    },
    {
      "cell_type": "markdown",
      "metadata": {
        "id": "ElTn2bKg2Ndr"
      },
      "source": [
        "## Utilities "
      ]
    },
    {
      "cell_type": "markdown",
      "metadata": {
        "id": "ff0y7m2dyNyf"
      },
      "source": [
        "### Some basic Imports "
      ]
    },
    {
      "cell_type": "code",
      "metadata": {
        "id": "CAT3-WN1xY2F"
      },
      "source": [
        "import torch\n",
        "import torch.nn as nn\n",
        "import torch.nn.functional as F\n",
        "from torchvision import models\n",
        "import pdb"
      ],
      "execution_count": null,
      "outputs": []
    },
    {
      "cell_type": "markdown",
      "metadata": {
        "id": "jKgSBOeJyUZH"
      },
      "source": [
        "### Resnet architecture from torchvision\n",
        "First let us understand what we are trying to replicate. For that we look at the RESNET-34 model from PyTorch. "
      ]
    },
    {
      "cell_type": "code",
      "metadata": {
        "colab": {
          "base_uri": "https://localhost:8080/"
        },
        "id": "klk256e4yQUn",
        "outputId": "9cbfdd16-7ac9-4a7c-8717-6bc024be592b"
      },
      "source": [
        "models.resnet34()"
      ],
      "execution_count": null,
      "outputs": [
        {
          "output_type": "execute_result",
          "data": {
            "text/plain": [
              "ResNet(\n",
              "  (conv1): Conv2d(3, 64, kernel_size=(7, 7), stride=(2, 2), padding=(3, 3), bias=False)\n",
              "  (bn1): BatchNorm2d(64, eps=1e-05, momentum=0.1, affine=True, track_running_stats=True)\n",
              "  (relu): ReLU(inplace=True)\n",
              "  (maxpool): MaxPool2d(kernel_size=3, stride=2, padding=1, dilation=1, ceil_mode=False)\n",
              "  (layer1): Sequential(\n",
              "    (0): BasicBlock(\n",
              "      (conv1): Conv2d(64, 64, kernel_size=(3, 3), stride=(1, 1), padding=(1, 1), bias=False)\n",
              "      (bn1): BatchNorm2d(64, eps=1e-05, momentum=0.1, affine=True, track_running_stats=True)\n",
              "      (relu): ReLU(inplace=True)\n",
              "      (conv2): Conv2d(64, 64, kernel_size=(3, 3), stride=(1, 1), padding=(1, 1), bias=False)\n",
              "      (bn2): BatchNorm2d(64, eps=1e-05, momentum=0.1, affine=True, track_running_stats=True)\n",
              "    )\n",
              "    (1): BasicBlock(\n",
              "      (conv1): Conv2d(64, 64, kernel_size=(3, 3), stride=(1, 1), padding=(1, 1), bias=False)\n",
              "      (bn1): BatchNorm2d(64, eps=1e-05, momentum=0.1, affine=True, track_running_stats=True)\n",
              "      (relu): ReLU(inplace=True)\n",
              "      (conv2): Conv2d(64, 64, kernel_size=(3, 3), stride=(1, 1), padding=(1, 1), bias=False)\n",
              "      (bn2): BatchNorm2d(64, eps=1e-05, momentum=0.1, affine=True, track_running_stats=True)\n",
              "    )\n",
              "    (2): BasicBlock(\n",
              "      (conv1): Conv2d(64, 64, kernel_size=(3, 3), stride=(1, 1), padding=(1, 1), bias=False)\n",
              "      (bn1): BatchNorm2d(64, eps=1e-05, momentum=0.1, affine=True, track_running_stats=True)\n",
              "      (relu): ReLU(inplace=True)\n",
              "      (conv2): Conv2d(64, 64, kernel_size=(3, 3), stride=(1, 1), padding=(1, 1), bias=False)\n",
              "      (bn2): BatchNorm2d(64, eps=1e-05, momentum=0.1, affine=True, track_running_stats=True)\n",
              "    )\n",
              "  )\n",
              "  (layer2): Sequential(\n",
              "    (0): BasicBlock(\n",
              "      (conv1): Conv2d(64, 128, kernel_size=(3, 3), stride=(2, 2), padding=(1, 1), bias=False)\n",
              "      (bn1): BatchNorm2d(128, eps=1e-05, momentum=0.1, affine=True, track_running_stats=True)\n",
              "      (relu): ReLU(inplace=True)\n",
              "      (conv2): Conv2d(128, 128, kernel_size=(3, 3), stride=(1, 1), padding=(1, 1), bias=False)\n",
              "      (bn2): BatchNorm2d(128, eps=1e-05, momentum=0.1, affine=True, track_running_stats=True)\n",
              "      (downsample): Sequential(\n",
              "        (0): Conv2d(64, 128, kernel_size=(1, 1), stride=(2, 2), bias=False)\n",
              "        (1): BatchNorm2d(128, eps=1e-05, momentum=0.1, affine=True, track_running_stats=True)\n",
              "      )\n",
              "    )\n",
              "    (1): BasicBlock(\n",
              "      (conv1): Conv2d(128, 128, kernel_size=(3, 3), stride=(1, 1), padding=(1, 1), bias=False)\n",
              "      (bn1): BatchNorm2d(128, eps=1e-05, momentum=0.1, affine=True, track_running_stats=True)\n",
              "      (relu): ReLU(inplace=True)\n",
              "      (conv2): Conv2d(128, 128, kernel_size=(3, 3), stride=(1, 1), padding=(1, 1), bias=False)\n",
              "      (bn2): BatchNorm2d(128, eps=1e-05, momentum=0.1, affine=True, track_running_stats=True)\n",
              "    )\n",
              "    (2): BasicBlock(\n",
              "      (conv1): Conv2d(128, 128, kernel_size=(3, 3), stride=(1, 1), padding=(1, 1), bias=False)\n",
              "      (bn1): BatchNorm2d(128, eps=1e-05, momentum=0.1, affine=True, track_running_stats=True)\n",
              "      (relu): ReLU(inplace=True)\n",
              "      (conv2): Conv2d(128, 128, kernel_size=(3, 3), stride=(1, 1), padding=(1, 1), bias=False)\n",
              "      (bn2): BatchNorm2d(128, eps=1e-05, momentum=0.1, affine=True, track_running_stats=True)\n",
              "    )\n",
              "    (3): BasicBlock(\n",
              "      (conv1): Conv2d(128, 128, kernel_size=(3, 3), stride=(1, 1), padding=(1, 1), bias=False)\n",
              "      (bn1): BatchNorm2d(128, eps=1e-05, momentum=0.1, affine=True, track_running_stats=True)\n",
              "      (relu): ReLU(inplace=True)\n",
              "      (conv2): Conv2d(128, 128, kernel_size=(3, 3), stride=(1, 1), padding=(1, 1), bias=False)\n",
              "      (bn2): BatchNorm2d(128, eps=1e-05, momentum=0.1, affine=True, track_running_stats=True)\n",
              "    )\n",
              "  )\n",
              "  (layer3): Sequential(\n",
              "    (0): BasicBlock(\n",
              "      (conv1): Conv2d(128, 256, kernel_size=(3, 3), stride=(2, 2), padding=(1, 1), bias=False)\n",
              "      (bn1): BatchNorm2d(256, eps=1e-05, momentum=0.1, affine=True, track_running_stats=True)\n",
              "      (relu): ReLU(inplace=True)\n",
              "      (conv2): Conv2d(256, 256, kernel_size=(3, 3), stride=(1, 1), padding=(1, 1), bias=False)\n",
              "      (bn2): BatchNorm2d(256, eps=1e-05, momentum=0.1, affine=True, track_running_stats=True)\n",
              "      (downsample): Sequential(\n",
              "        (0): Conv2d(128, 256, kernel_size=(1, 1), stride=(2, 2), bias=False)\n",
              "        (1): BatchNorm2d(256, eps=1e-05, momentum=0.1, affine=True, track_running_stats=True)\n",
              "      )\n",
              "    )\n",
              "    (1): BasicBlock(\n",
              "      (conv1): Conv2d(256, 256, kernel_size=(3, 3), stride=(1, 1), padding=(1, 1), bias=False)\n",
              "      (bn1): BatchNorm2d(256, eps=1e-05, momentum=0.1, affine=True, track_running_stats=True)\n",
              "      (relu): ReLU(inplace=True)\n",
              "      (conv2): Conv2d(256, 256, kernel_size=(3, 3), stride=(1, 1), padding=(1, 1), bias=False)\n",
              "      (bn2): BatchNorm2d(256, eps=1e-05, momentum=0.1, affine=True, track_running_stats=True)\n",
              "    )\n",
              "    (2): BasicBlock(\n",
              "      (conv1): Conv2d(256, 256, kernel_size=(3, 3), stride=(1, 1), padding=(1, 1), bias=False)\n",
              "      (bn1): BatchNorm2d(256, eps=1e-05, momentum=0.1, affine=True, track_running_stats=True)\n",
              "      (relu): ReLU(inplace=True)\n",
              "      (conv2): Conv2d(256, 256, kernel_size=(3, 3), stride=(1, 1), padding=(1, 1), bias=False)\n",
              "      (bn2): BatchNorm2d(256, eps=1e-05, momentum=0.1, affine=True, track_running_stats=True)\n",
              "    )\n",
              "    (3): BasicBlock(\n",
              "      (conv1): Conv2d(256, 256, kernel_size=(3, 3), stride=(1, 1), padding=(1, 1), bias=False)\n",
              "      (bn1): BatchNorm2d(256, eps=1e-05, momentum=0.1, affine=True, track_running_stats=True)\n",
              "      (relu): ReLU(inplace=True)\n",
              "      (conv2): Conv2d(256, 256, kernel_size=(3, 3), stride=(1, 1), padding=(1, 1), bias=False)\n",
              "      (bn2): BatchNorm2d(256, eps=1e-05, momentum=0.1, affine=True, track_running_stats=True)\n",
              "    )\n",
              "    (4): BasicBlock(\n",
              "      (conv1): Conv2d(256, 256, kernel_size=(3, 3), stride=(1, 1), padding=(1, 1), bias=False)\n",
              "      (bn1): BatchNorm2d(256, eps=1e-05, momentum=0.1, affine=True, track_running_stats=True)\n",
              "      (relu): ReLU(inplace=True)\n",
              "      (conv2): Conv2d(256, 256, kernel_size=(3, 3), stride=(1, 1), padding=(1, 1), bias=False)\n",
              "      (bn2): BatchNorm2d(256, eps=1e-05, momentum=0.1, affine=True, track_running_stats=True)\n",
              "    )\n",
              "    (5): BasicBlock(\n",
              "      (conv1): Conv2d(256, 256, kernel_size=(3, 3), stride=(1, 1), padding=(1, 1), bias=False)\n",
              "      (bn1): BatchNorm2d(256, eps=1e-05, momentum=0.1, affine=True, track_running_stats=True)\n",
              "      (relu): ReLU(inplace=True)\n",
              "      (conv2): Conv2d(256, 256, kernel_size=(3, 3), stride=(1, 1), padding=(1, 1), bias=False)\n",
              "      (bn2): BatchNorm2d(256, eps=1e-05, momentum=0.1, affine=True, track_running_stats=True)\n",
              "    )\n",
              "  )\n",
              "  (layer4): Sequential(\n",
              "    (0): BasicBlock(\n",
              "      (conv1): Conv2d(256, 512, kernel_size=(3, 3), stride=(2, 2), padding=(1, 1), bias=False)\n",
              "      (bn1): BatchNorm2d(512, eps=1e-05, momentum=0.1, affine=True, track_running_stats=True)\n",
              "      (relu): ReLU(inplace=True)\n",
              "      (conv2): Conv2d(512, 512, kernel_size=(3, 3), stride=(1, 1), padding=(1, 1), bias=False)\n",
              "      (bn2): BatchNorm2d(512, eps=1e-05, momentum=0.1, affine=True, track_running_stats=True)\n",
              "      (downsample): Sequential(\n",
              "        (0): Conv2d(256, 512, kernel_size=(1, 1), stride=(2, 2), bias=False)\n",
              "        (1): BatchNorm2d(512, eps=1e-05, momentum=0.1, affine=True, track_running_stats=True)\n",
              "      )\n",
              "    )\n",
              "    (1): BasicBlock(\n",
              "      (conv1): Conv2d(512, 512, kernel_size=(3, 3), stride=(1, 1), padding=(1, 1), bias=False)\n",
              "      (bn1): BatchNorm2d(512, eps=1e-05, momentum=0.1, affine=True, track_running_stats=True)\n",
              "      (relu): ReLU(inplace=True)\n",
              "      (conv2): Conv2d(512, 512, kernel_size=(3, 3), stride=(1, 1), padding=(1, 1), bias=False)\n",
              "      (bn2): BatchNorm2d(512, eps=1e-05, momentum=0.1, affine=True, track_running_stats=True)\n",
              "    )\n",
              "    (2): BasicBlock(\n",
              "      (conv1): Conv2d(512, 512, kernel_size=(3, 3), stride=(1, 1), padding=(1, 1), bias=False)\n",
              "      (bn1): BatchNorm2d(512, eps=1e-05, momentum=0.1, affine=True, track_running_stats=True)\n",
              "      (relu): ReLU(inplace=True)\n",
              "      (conv2): Conv2d(512, 512, kernel_size=(3, 3), stride=(1, 1), padding=(1, 1), bias=False)\n",
              "      (bn2): BatchNorm2d(512, eps=1e-05, momentum=0.1, affine=True, track_running_stats=True)\n",
              "    )\n",
              "  )\n",
              "  (avgpool): AdaptiveAvgPool2d(output_size=(1, 1))\n",
              "  (fc): Linear(in_features=512, out_features=1000, bias=True)\n",
              ")"
            ]
          },
          "metadata": {
            "tags": []
          },
          "execution_count": 7
        }
      ]
    },
    {
      "cell_type": "markdown",
      "metadata": {
        "id": "n0wBWQkL2JtB"
      },
      "source": [
        "## Building ResNet "
      ]
    },
    {
      "cell_type": "markdown",
      "metadata": {
        "id": "E7Pyu2V_2bzZ"
      },
      "source": [
        "### Input\n",
        "Grab random input to understand how feature maps are generated in convolution layer.\n",
        "\n",
        "Pytorch nn.Conv2d layer expects inputs of (batch_size, channels, height, width).\n",
        "\n",
        "We are considering batch size of 2, 3 RGB color channels, height and width of 224 each. It is a rank 4 tensor."
      ]
    },
    {
      "cell_type": "code",
      "metadata": {
        "id": "nx9F2vUByYG7"
      },
      "source": [
        "inp = torch.randn([2,3,224,224])"
      ],
      "execution_count": null,
      "outputs": []
    },
    {
      "cell_type": "code",
      "metadata": {
        "colab": {
          "base_uri": "https://localhost:8080/"
        },
        "id": "d8YsJf5B2gx_",
        "outputId": "73207041-40de-40fc-88ab-8256e32b4d5e"
      },
      "source": [
        "inp.shape ## bs,rgb channels,width,height"
      ],
      "execution_count": null,
      "outputs": [
        {
          "output_type": "execute_result",
          "data": {
            "text/plain": [
              "torch.Size([2, 3, 224, 224])"
            ]
          },
          "metadata": {
            "tags": []
          },
          "execution_count": 9
        }
      ]
    },
    {
      "cell_type": "markdown",
      "metadata": {
        "id": "2T-8Dlgv3vYL"
      },
      "source": [
        "### Convolution block\n",
        "First we are going to construct a small sequential network for initial convolution block of resnet. It's the very first layer in our resnet architecture.\n",
        "\n",
        "It consists of 4 operations,\n",
        "\n",
        "1. Convolution\n",
        "2. Batch Normalization\n",
        "3. ReLU activation function\n",
        "4. Maxpooling"
      ]
    },
    {
      "cell_type": "code",
      "metadata": {
        "colab": {
          "base_uri": "https://localhost:8080/"
        },
        "id": "xHlVUeX-2pf0",
        "outputId": "ba468ae7-8458-458b-f07f-302129ced9a0"
      },
      "source": [
        "conv_block = nn.Sequential(nn.Conv2d(3,64,kernel_size=7, stride=2, padding=3, bias=False), #112,112\n",
        "                       nn.BatchNorm2d(64),\n",
        "                       nn.ReLU(inplace=True),\n",
        "                       nn.MaxPool2d(kernel_size=3, stride=2, padding=1)) # 56,56\n",
        "conv_block"
      ],
      "execution_count": null,
      "outputs": [
        {
          "output_type": "execute_result",
          "data": {
            "text/plain": [
              "Sequential(\n",
              "  (0): Conv2d(3, 64, kernel_size=(7, 7), stride=(2, 2), padding=(3, 3), bias=False)\n",
              "  (1): BatchNorm2d(64, eps=1e-05, momentum=0.1, affine=True, track_running_stats=True)\n",
              "  (2): ReLU(inplace=True)\n",
              "  (3): MaxPool2d(kernel_size=3, stride=2, padding=1, dilation=1, ceil_mode=False)\n",
              ")"
            ]
          },
          "metadata": {
            "tags": []
          },
          "execution_count": 10
        }
      ]
    },
    {
      "cell_type": "markdown",
      "metadata": {
        "id": "S103QFoE4VJ8"
      },
      "source": [
        "Conv2d layer takes 3 input channels and generate 64 filters/channels i.e feature maps. We can choose how many features we want to generate by convolution operation.\n",
        "\n",
        "Here, kernel size is 7 X 7 , stride is 2 and padding 3. Padding adds border of zeros around your input matrix.\n",
        "\n",
        "Conv2d layer downsamples input when stride is equal to 2, i.e convolution window skips over 1 pixel.\n",
        "\n",
        "So after conv2d layer output shape will be (2,64,112,112) tensor of activations. Basically height and width of input grid reduces to half."
      ]
    },
    {
      "cell_type": "code",
      "metadata": {
        "id": "8Ks4KOjT4BZM"
      },
      "source": [
        "# Just an illustration, do not execute this. Dimensions will get messed up \n",
        "# inp=nn.Conv2d(3,64,kernel_size=7, stride=2, padding=3, bias=False)(inp)\n",
        "# inp.shape"
      ],
      "execution_count": null,
      "outputs": []
    },
    {
      "cell_type": "markdown",
      "metadata": {
        "id": "5u-WGL6246iv"
      },
      "source": [
        "After maxpooling operation with stride of 2 again output from conv2d->batchNorm->Relu gets downsampled to half.\n",
        "\n",
        "Let's check what is shape of output after conv_block operations."
      ]
    },
    {
      "cell_type": "code",
      "metadata": {
        "colab": {
          "base_uri": "https://localhost:8080/"
        },
        "id": "akE7b9TB4l0B",
        "outputId": "a4e61b67-9430-409d-8afe-e42ba9e26f2c"
      },
      "source": [
        "out = conv_block(inp)\n",
        "out.shape"
      ],
      "execution_count": null,
      "outputs": [
        {
          "output_type": "execute_result",
          "data": {
            "text/plain": [
              "torch.Size([2, 64, 56, 56])"
            ]
          },
          "metadata": {
            "tags": []
          },
          "execution_count": 12
        }
      ]
    },
    {
      "cell_type": "code",
      "metadata": {
        "colab": {
          "base_uri": "https://localhost:8080/"
        },
        "id": "snHXItG94_Yn",
        "outputId": "712f5c7e-5e05-4814-9a55-ec09a6ee4dbd"
      },
      "source": [
        "list(models.resnet34().children())[:4]"
      ],
      "execution_count": null,
      "outputs": [
        {
          "output_type": "execute_result",
          "data": {
            "text/plain": [
              "[Conv2d(3, 64, kernel_size=(7, 7), stride=(2, 2), padding=(3, 3), bias=False),\n",
              " BatchNorm2d(64, eps=1e-05, momentum=0.1, affine=True, track_running_stats=True),\n",
              " ReLU(inplace=True),\n",
              " MaxPool2d(kernel_size=3, stride=2, padding=1, dilation=1, ceil_mode=False)]"
            ]
          },
          "metadata": {
            "tags": []
          },
          "execution_count": 13
        }
      ]
    },
    {
      "cell_type": "markdown",
      "metadata": {
        "id": "No5FGbA75p12"
      },
      "source": [
        "### Residual Block \n",
        "![image.png](data:image/png;base64,iVBORw0KGgoAAAANSUhEUgAABHYAAAHSCAYAAACJhEzfAAAgAElEQVR4AezdB7QURfr//9+XbBbMmECS5CgiKiiI6LomxKwIGDCgEhYWRUkCkpMCooiosGIAJKmogCAoIEkFJAqCYCAaQJI8//P0f6u2Z+7M3Jm5E7pn3nPOPXPvdHV19auaWfuz1VX/T3ghgAACCCCAAAIIIIAAAggggAACCPhS4P/5stU0GgEEEEAAAQQQQAABBBBAAAEEEEBACHa4CBBAAAEEEEAAAQQQQAABBBBAAAGfChDs+LTjaDYCCCCAAAIIIIAAAggggAACCCBAsMM1gAACCCCAAAIIIIAAAggggAACCPhUgGDHpx1HsxFAAAEEEEAAAQQQQAABBBBAAAGCHa4BBBBAAAEEEEAAAQQQQAABBBBAwKcCBDs+7TiajQACCCCAAAIIIIAAAggggAACCBDscA0ggAACCCCAAAIIIIAAAggggAACPhUg2PFpx9FsBBBAAAEEEEAAAQQQQAABBBBAgGCHawABBBBAAAEEEEAAAQQQQAABBBDwqQDBjk87jmYjgAACCCCAAAIIIIAAAggggAACBDtcAwgggAACCCCAAAIIIIAAAggggIBPBQh2fNpxNBsBBBBAAAEEEEAAAQQQQAABBBAg2OEaQAABBBBAAAEEEEAAAQQQQAABBHwqQLDj046j2QgggAACCCCAAAIIIIAAAggggADBDtcAAggggAACCCCAAAIIIIAAAggg4FMBgh2fdhzNRgABBBBAAAEEEEAAAQQQQAABBAh2uAYQQAABBBBAAAEEEEAAAQQQQAABnwoQ7Pi042g2AggggAACCCCAAAIIIIAAAgggQLDDNYAAAggggAACCCCAAAIIIIAAAgj4VIBgx6cdR7MRQAABBBBAAAEEEEAAAQQQQAABgh2uAQQQQAABBBBAAAEEEEAAAQQQQMCnAgQ7Pu04mo0AAggggAACCCCAAAIIIIAAAggQ7HANIIAAAggggAACCCCAAAIIIIAAAj4VINjxacfRbAQQQAABBBBAAAEEEEAAAQQQQIBgh2sAAQQQQAABBBBAAAEEEEAAAQQQ8KkAwY5PO45mI4AAAggggAACCCCAAAIIIIAAAgQ7XAMIIIAAAggggAACCCCAAAIIIICATwUIdnzacTQbAQQQQAABBBBAAAEEEEAAAQQQINjhGkAAAQQQQAABBBBAAAEEEEAAAQR8KkCw49OOo9kIIIAAAggggAACCCCAAAIIIIAAwQ7XAAIIIIAAAggggAACCCCAAAIIIOBTAYIdn3YczUYAAQQQQAABBBBAAAEEEEAAAQQIdrgGEEAAAQQQQAABBBBAAAEEEEAAAZ8KEOz4tONoNgIIIIAAAggggAACCCCAAAIIIECwwzWAAAIIIIAAAggggAACCCCAAAII+FSAYMenHUezEUAAAQQQQAABBBBAAAEEEEAAAYIdrgEEEEAAAQQQQAABBBBAAAEEEEDApwIEOz7tOJqNAAIIIIAAAggggAACCCCAAAIIEOxwDSCAAAIIIIAAAggggAACCCCAAAI+FSDY8WnH0WwEEEAAAQQQQAABBBBAAAEEEECAYIdrAAEEEEAAAQQQQAABBBBAAAEEEPCpAMGOTzuOZiOAAAIIIIAAAggggAACCCCAAAIEO1wDCCCAAAIIIIAAAggggAACCCCAgE8FCHZ82nE0GwEEEEAAAQQQQAABBBBAAAEEECDY4RpAAAEEEEAAAQQQQAABBBBAAAEEfCpAsOPTjqPZCCCAAAIIIIAAAggggAACCCCAAMEO1wACCCCAAAIIIIAAAggggAACCCDgUwGCHZ92HM1GAAEEEEAAAQQQQAABBBBAAAEECHa4BhBAAAEEEEAAAQQQQAABBBBAAAGfChDs+LTjaDYCCCCAAAIIIIAAAggggAACCCBAsMM1gAACCCCAAAIIIIAAAggggAACCPhUgGDHpx1HsxFAAAEEEEAAAQQQQAABBBBAAAGCHa4BBBBAAAEEEEAAAQQQQAABBBBAwKcCBDs+7TiajQACCCCAAAIIIIAAAggggAACCBDscA0ggAACCCCAAAIIIIAAAggggAACPhUg2PFpx9FsBBBAAAEEEEAAAQQQQAABBBBAgGCHawABBBBAAAEEEEAAAQQQQAABBBDwqQDBjk87jmYjgAACCCCAAAIIIIAAAggggAACBDtcAwgggAACCCCAAAIIIIAAAggggIBPBQh2fNpxNBsBBBBAAAEEEEAAAQQQQAABBBAg2OEaQAABBBBAAAEEEEAAAQQQQAABBHwqQLDj046j2QgggAACCCCAAAIIIIAAAggggADBDtcAAggggAACCCCAAAIIIIAAAggg4FMBgh2fdhzNRgABBBBAAAEEEEAAAQQQQAABBAh2uAYQQAABBBBAAAEEEEAAAQQQQAABnwoQ7Pi042g2AggggAACCCCAAAIIIIAAAgggQLDDNYAAAggggAACCCCAAAIIIIAAAgj4VIBgx6cdR7MRQAABBBBAAAEEEEAAAQQQQAABgh2uAQQQQAABBBBAAAEEEEAAAQQQQMCnAgQ7Pu04mo0AAggggAACCCCAAAIIIIAAAggQ7HANIIAAAggggEDKBXbu3CkdO3aU96dMSfmxOSACCCCAAAIIIJBJAgQ7mdSbnAsCCCCAAAI+EWjbtq38X758zs9PP/3kk1bTTAQQQAABBBBAwHsCBDve6xNahAACCCCAQMYLPP744zbY2bJlS8afLyeIAAIIIIAAAggkS4BgJ1my1IsAAggggECSBDZv2iydOnSULs88K72e6yn9+vSR/n37yfO9ekn3rl3l6U6d5O23JgQcfczo0dL5qafkue7dpU/v3tK/T19n32ef7ixvjH09oGwq/iDYSYUyx0AAAQQQQACBbBAg2MmGXuYcEUAAAQQySmDpkiVS6vwSEX86tGsfcM4t72setvy1V18dUDYVfxDspEKZYyCAAAIIIIBANggQ7GRDL3OOCCCAAAIZJbB/3z4ZNmSoDBowQJrf2yxHYFOlQkWZ+dFHAef8wfQZUql8BVu2Tq2LpH3bttK7Zy8ZO+a1gLKp+INgJxXKHAMBBBBAAAEEskGAYCcbeplzRAABBBDIWIGDBw/Kbbc0tYGNGckz6b2JAeeso3wqlrvQKdf4qkayZ/fugO2p/oNgJ9XiHA8BBBBAAAEEMlWAYCdTe5bzQgABBBDIGoFdu3ZJ/csuDwh3LixdRhYvWuQYbNiwQWpWreZsv7ROHdm+fXvabQh20t4FNAABBBBAAAEEMkSAYCdDOpLTQAABBBDIboH169ZJtUqVA8IdDXMWLVwo9epe6nxevXIVWbd2rSegCHY80Q00AgEEEEAAAQQyQIBgJwM6kVNAAAEEEEBABT6f97mULVU6INwxj2ZVKFtOFi9a7Bkogh3PdAUNQQABBBBAAAGfCxDs+LwDaT4CCCCAAAJugfHjxoUMdnTyZC+9CHa81Bu0BQEEEEAAAQT8LECw4+feo+0IIIAAAgiEEOjRrVuOcOeZp54OUTJ9HxHspM+eIyOAAAIIIIBAZgkQ7GRWf3I2CCCAAAIISLcuXXIEO/pI1phXX/WMDsGOZ7qChiCAAAIIIICAzwUIdnzegTQfAQQQQAABt8Aro14OGeposFOm5AUye9Ysd/G0/U6wkzZ6DowAAggggAACGSZAsJNhHcrpIIAAAghkr8CU99+X0iVKOsHOAy1ayuZNm6V2jZoBQU+VChVlzXdr0o5EsJP2LqABCCCAAAIIIJAhAgQ7GdKRnAYCCCCAQHYLLJg/Xy4sXcYJcZrccKPs37/fAVm2dKnoilhmdSx9v/ySurJjx460ghHspJWfgyOAAAIIIIBABgkQ7GRQZ3IqCCCAAALZKbB69WqpWrGSE940qF9fdu3aFQAxdcqUgGBHw50mN94kBw4cCCiXyj9atmwp/5cvn/NTsVIlqV6jRkw/FSpWlFNOPVXKlC0rl9erJw0bNpRrr71WbrzxRrntttvknnvuET3Gww8/LE888YR06NBBOnfuLN26d5fezz8vAwcNkhdefFFGvfyyvDZ2rPznrbfkvYkTZeq0afLRzJkyZ84cWbBggXz11Vfy9ddfy/fff++4Hj58OJVMHAsBBBBAAAEEEMhVgGAnVyIKIIAAAggg4C2B33//XdauWSsrli+XoYMHS81q1W1wM+m9iXIkRPjQoV17W8aM3nnisdbyw+bNzs+e3btTepKVq1SxwY4JePzwni9/fjm5aFG5oFQpuah2bWncuLHcdddd0rp1a+natasMGTpU3hw3TmZ88IEsXLhQ1q1b5wRCf//9d0p9ORgCCCCAAAIIZI8AwU729DVnigACCCCQIQLjx43LEdKYsEbft27ZEnCmy5cti1he9+nZ47mAfZL9x33Nm9tg55xzz5USJUvG9HP2OefI8ccf74zaKX722XLGmWc6v2vocsKJJ8oxxx4rhQoXlvwFCtjjpDM4KlCwoOh5XlynjjRp0sQJgnTk0OtvvCGzZs+WjRs3CqOBkn3VUT8CCCCAAAKZKUCwk5n9ylkhgAACCGSwgAY7ZUuVdh6/urhmLbnkotpSq3p1qVyhoujkyMGPYn2xYIGUvaCUVCpfQWpWrSbuffQRrnKlSqc82EnlHDsamPzxxx/OvEJbt26VDRs2yMqVK2XJkiUyf/58+XTWLGeEzcRJk2T8f/4jr44ZIyNGjpRBgwc7j2116dJF2rRpI82bN5ebbrpJrrjySqlWvboTRGmQlKjwqGChQs6jZddcc4089thjzvGnTJ0qq1atkr/++iuDr2hODQEEEEAAAQTyIkCwkxc99kUAAQQQQACBuARSGezE1cAYdjpy5Ij88ssvTlikc/O88+67TjDUvUcP0fO84447nDmAqlStKmcVL+6MJIp19JCGRyUvuMB59EvnDHpx+HD55NNP5YcffpCjR4/G0FqKIoAAAggggECmCRDsZFqPcj4IIIAAAgj4QCCTgp1YuXW+ne3bt8uiRYucCZsHDBzojNDRyZ/LXXihFDnmmJgeH9NHz2pffLG0aNFC+g8Y4Iw+2rx5M4FPrB1DeQQQQAABBHwqQLDj046j2QgggAACCPhZIJuDndz6TUcAbdq0yRmRo4+EtW/f3lntS1cCiyX00cfE6tWv76wKpo+XLV26NK0roeV23mxHAAEEEEAAgfgECHbic2MvBBBAAAEEEMiDAMFOfHga+ugcQdNnzBAd6fPggw86y72fdvrpUY3y0Qmla110kTz66KPOMu86fw8rdsXXF+yFAAIIIICAVwQIdrzSE7QDAQQQQACBLBIg2El8Z+s8PzoRtC65/sADD0idSy5xVgjLbT6fosWKyfXXXy/9+vd3lmg/dOhQ4htHjQgggAACCCCQNAGCnaTRUjECCCCAAAIIhBMg2Aknk9jPdTTO2rVr5a0JE6Rjx45y1VVXOcvCRwp7Tjr5ZGdJ9ldGjxZdRYwXAggggAACCHhbgGDH2/1D6xBAAAEEEMhIAYKd9HWrrqKlYc/Y11+Xhx9+WKpWqyYFChYM+ShXvvz55aLataVX797yzTffpK/RHBkBBBBAAAEEwgoQ7ISlYQMCCCCAAAIIJEuAYCdZsvHVu2fPHnl/yhR58sknpXKVKqKBTqhRPaVKl3Ymc/78889F5/vhhQACCCCAAALpFyDYSX8f0AIEEEAAAQSyToBgx9tdro9gDR8xQq655hopXKRIyJDnzLPOkkceecSZ1+fw4cPePiFahwACCCCAQAYLEOxkcOdyaggggAACCHhVgGDHqz2Ts12//fabvPPuu3LvvfeGnZ/n9DPOcFba+uyzz1hlKychnyCAAAIIIJBUAYKdpPJSOQIIIIAAAgiEEiDYCaXi/c90ZM4nn34qjz32mJx9zjkhR/Kce9558u9//1u+/vpr758QLUQAAQQQQCADBAh2MqATOQUEEEAAAQT8JkCw47cey9leXXFL59rReXnOOffckCFP9Ro1nOXXf/3115wV8AkCCCCAAAIIJESAYCchjFSCAAIIIIAAArEIEOzEouX9shry6GNYrVq1klNPOy1HyKPz9Nx+++3OaB8tywsBBBBAAAEEEidAsJM4S2pCAAEEEEAAgSgFCHaihPJhsYMHD8rk99+XJk2ahJx4uUzZsjJw0CDZvXu3D8+OJiOAAAIIIOA9AYId7/UJLUIAAQQQQCBjBN6bOFF08t3gV27BzqJFi2TlypXBu/G3zwR27Nghg4cMkSpVq+YYxXP8CSc4Ey6vXbvWZ2dFcxFAAAEEEPCWAMGOt/qD1iCAAAIIIJBRAq+/8YboDbw+hvP2O+/Izp07nfMLDnb08ZwVK1bIcz17SrXq1eX8EiVER37wyhyBL774Qu677z459rjjAkKe/AUKOKN7Fi5cmDkny5kggAACCCCQQgGCnRRicygEEEAAAQSyTUBXUSpbrlzAjfzJRYuK/vxfvnzOz5lnnZXjkZ2RL72UbVRZc74a7j3fp4+cd/759how10Ljxo1lwYIFWWPBiSKAAAIIIJAIAYKdRChSBwIIIIAAAgiEFdBRO+bGPZp3RuuEpcyoDRr6jRs/XnTlrODr4p///CfLpWdUb3MyCCCAAALJFCDYSaYudSOAAAIIIICAhBq1E3wj7/6b0TrZddEcPXpUZnzwgdS99NKAgEcf0XrooYfkl19+yS4QzhYBBBBAAIEYBQh2YgSjOAIIIIAAAgjELhDtqB1G68Rum0l7fPDhh1KzVq2AgEcf2xs0eLAcOnQok06Vc0EAAQQQQCBhAgQ7CaOkIgQQQAABBBAIJxDtqB1G64QTzJ7PdQSPPqIVPAdPpcqVZc6cOdkDwZkigAACCCAQpQDBTpRQFEMAAQQQQACBvAnkNmqH0Tp58820vfft2yddu3YNWEUrX/780qxZMx7PyrTO5nwQQAABBPIkQLCTJz52RgABBBBAAIFoBXIbtcNonWgls6vcpk2b5Oabbw54POuUU0+VMa+9Jjq6hxcCCCCAAALZLkCwk+1XAOePAAIIIIBACgXGvv56wA26mTSZ0Top7ASfHkonWC5VunTA9dOoUSPR4IcXAggggAAC2SxAsJPNvc+5I4AAAgggkGKBcKN2GK2T4o7w6eH2798vnTp1kkKFC9uA58STTpJRL7/M6B2f9inNRgABBBDIuwDBTt4NqQEBBBBAAAEEYhAIHrXDaJ0Y8CjqCCxfvjzH6lnXXXed/PTTTwghgAACCCCQdQIEO1nX5ZwwAggggAAC6RXQUTtlypa1Iy4YrZPe/vDr0fU66vHcc1K4SBF7LZ1+xhkyfcYMv54S7UYAAQQQQCAuAYKduNjYCQEEEEAAAQTyImBG7TBaJy+K7KsCy5YtE10K3czXpCtntW/fXg4dOgQQAggggAACWSFAsJMV3cxJIoAAAtkloP9Pvi6t3aZNG348avDEE09I0WLFpGHDhvSRR/tI//38+9//ljVr1nj+C+Svv/6S1q1bi4Y6JuC59LLL5Mcff/R822kgAggggAACeRUg2MmrIPsjgAACCHhO4LWxY+3NnbnJ4z0fJvkwiOffwRlnnum5f+PhGjT5/fel2Cmn2Gv9zLPOks8//zxccT5HAAEEEEAgIwQIdjKiGzkJBBBAAAG3QL/+/e2NXTw3suxDAMI1EHgNuP99ef13Xf681kUX2e8AnYPn1TFjvN5s2ocAAggggEDcAgQ7cdOxIwIIIICAVwXcwc748eNFb/T4wYBrILZroHr16jYc8eq/9XDt0kezmjdvbtuvQd1TTz3FkujhwPgcAQQQQMDXAgQ7vu4+Go8AAgggEErAHezMX7DAuZk7evQo7xhwDcRwDdx40002GAn178wPnw0cNEgKFCxoz6NZs2ZMquyHjqONCCCAAAIxCRDsxMRFYQQQQAABPwgQ7BBiEeTl/RrIhGBHv6+mTJ0qx59wgg13rr/+etERPbwQQAABBBDIFAGCnUzpSc4DAQQQQMAKEOzk/aaeYATDTAl29Ivhyy+/lFNPO82GO1dffbXs37/ffmfwCwIIIIAAAn4WINjxc+/RdgQQQACBkAIEO4QSBFN5vwYyKdjRL4qVK1fK2eecY8Oda665Rg4cOBDyO4QPEUAAAQQQ8JMAwY6feou2IoAAAghEJUCwk/ebeoIRDDMt2NEvj3Xr1sk5555rw52mTZvKkSNHovpeoRACCCCAAAJeFSDY8WrP0C4EEEAAgbgFCHYIJQim8n4NZGKwo18qa9askTPPOsuGOw899BCrZcX9bcuOCCCAAAJeECDY8UIv0AYEEEAAgYQKEOzk/aaeYATDTA129MtmxYoVUrRYMRvudOnSJaHfQVSGAAIIIIBAKgUIdlKpzbEQQAABBFIiQLBDKEEwlfdrIJODHf0imjt3rhx73HE23Hll9OiUfD9xEAQQQAABBBItQLCTaFHqQwABBBBIuwDBTt5v6glGMMz0YEe/qCZNniwFChZ0wp1ChQvLJ59+mvbvLxqAAAIIIIBArAIEO7GKUR4BBBBAwPMCBDuEEgRTeb8GsiHY0S+zocOG2VE7+niWzsHDCwEEEEAAAT8JEOz4qbdoKwIIIIBAVAIEO3m/qScYwTBbgh39UmndurUNd8pXqCB79+6N6ruGQggggAACCHhBgGDHC71AGxBAAAEEEipAsJO6UOKVV16Rs4oXlzJly8qOHTuc1YVSFQql89ipOsd0Hiebgp3Dhw9Lo0aNbLhz0003sVJWQr+VqQwBBBBAIJkCBDvJ1KVuBBBAAIG0CBDshA52dBRCtWrVnAlj27Vvn5AQpvMzz9ib4U2bNiWkzmjDjHQeO9o2+rlcNgU7+kW1a9cuuaBUKXs99+nbNy3fXxwUAQQQQACBWAUIdmIVozwCCCCAgOcFCHZCBzszZ860N636uEkiQoe8hit6M71u3TrZv39/zO3J67ETcf6ZXEe2BTv6xbZs2TK7UlbBQoVk/vz5nv++o4EIIIAAAggQ7HANIIAAAghknADBTuhgZ/v27famtemtt8YcpIQKMfIarhx3/PFO2HTX3XfH3J68HjvU+fDZ/66dbAx29Mvw5VdesQFoiZIlZc+ePRn3HckJIYAAAghklgDBTmb1J2eDAAIIICAiBDv/uzkPDir27dsnW7dujTlECa7H/J3XcEVHRfxfvnwST9CU12Obc+A99PWSrcGOfoneeeedNty5++67+V5FAAEEEEDA0wIEO57uHhqHAAIIIBCPAMFO6Bv1ZAQYeQ1XCHZS11ex9n82Bzs6H5WO1tHQUX/efe+9eL6K2AcBBBBAAIGUCBDspISZgyCAAAIIpFLAS8HOPffeK/Xr15e27dqFHCUzduxYufLKK+Wf11/vTN4afPP9yy+/yPU33CD16tWTyZMn56jjww8/lPuaN3dWpTrp5JOlbt268uhjj8nyFStylP3777/llqZN5YorrhBdUSr4WPr3suXLRduskyyfetppTr3X/uMfcnOTJvane/fudt/gYGfJ0qXyUKtWUqp0aTnn3HOlyS23yKRJk2x5PYbOq6MjdLTOfPnzOzfOJ5x4oq1fP/9qyZKAfUK1NfjY7jJ//fWXjBs3Tu648065sHx5OfGkk6T42Wc71gMHDpSDBw8G1K+faT/pscOt7nXo0CG58667nHJ9+/YN2F+PHWtf6LGubNBA5nz2mXzz7bfSoGFD0T4897zzZPDgwTnqd59fKn7P5mBHv69mz5kj+QsUcK7PM848U3bu3JnKrzGOhQACCCCAQNQCBDtRU1EQAQQQQMAvAl4KdqpUqeLcGGqA8fPPP+e4Wa9Ro4azXUcFjB8/Psf20aNH2+0vvfSS3a6PVD3y6KN2mxlZYN6POfbYHOGNBhNme/MWLWxdJiQYNWqUvZE15UK9V65c2e7rDlf+1aGDFC5SxB7DvW+PHj3sPho6ubeF+n3MmDG2vGlf8Lv72O4VuTSY0eXXQ9VrPrvoootEPUydukqY2TZkyBD7udmu7+7Jpx9/4glbJq99oUGcBjrm+PquYZr72On4PduDHf2+e/zxx22/tGjRwi9fgbQTAQQQQCDLBAh2sqzDOV0EEEAgGwS8FOy4wwcdneO+QdfROGbEit7M60gZ93b9XUe86DYtt23bNru9Q8eO9oazUqVKTojz8ccfiwYoxx53nLNNRxusXLnS7hMp2NmwYYOYiYyLFismw4YNk4kTJ8ptt98eENZ07dbNGQlj2uk+PxNMVK1aVbp07SruYEAfudq8ebPTlj///FO0/e3/9S97DmXLlXP+1s80ZNH2mGOEe3cf2x3s6AgYbUuBggWdkVDDhw93zqVPnz5y2umn22O++OKL9hjusKl27dr2c/exW7Rsaff9cuFCWyavfWHcdNTS3ffcI3p8HYXlPnY6fnf3XzZ8b4Q6xz/++EPOL1HC6Xf9Nzh37txQxfgMAQQQQACBtAoQ7KSVn4MjgAACCCRDwEvBzqLFi20YcOtttwXcrE+YMMFu05v70884Q44cOWLL6ONCZiRHnTp17OcbN26UIscc4+yrI35+//13u00DgFmzZtl6NZgxoUCkYGfo0KF2n48++sjuo/sOGjTIbpsxY0bANne4oufQq1evgO33P/CA3bdnz54B27TuZMyxoyN2nnr6aWcZdXPu5l0f8TJhmoZm5nN918fPTMiydu3agG0HDhwQDbx0u4ZQZr9E9IXWeeZZZ8maNWtsvab+dL4T7Pz/305Tpk6110XVatWcf6PJ+N6iTgQQQAABBOIVINiJV479EEAAAQQ8K+ClYEfntTn7nHOcG8OTixYNePzHHXqYQGHhokX25n7OnDn2hvL555+3n+uoGVP+k08+sZ+7QwANgrSMzitjPo8U7JjRKBoYmfLm3T2apX///gHb3cGOjogx+5j31atX27a2evjhHNuTEeyYY4d7NyMwNBRzl3EHWN26dQvYNtV1c++eYygRfaEjiz6fPz/geO52pet3gp3/fcVdf/319gwpjtAAACAASURBVDp+adSo/23gNwQQQAABBDwgQLDjgU6gCQgggAACiRXwUrCjN+UPP/KIvSnUsMbcqJtVd3QSXRPUaFBgtrsf8Vm1apX9XCfwNeU12Jk7b16OH50g2ZTRR5+0zkjBjnu+nhVff22Ppft9NneurSv4cTJ3sON+HMqcg446MiNk9DzN5+Y9VcGOPlKj7fv+++/FzHtU7sILA9qjcyCZ9gRvu+vuu63B+vXr7X6J6Av3qCrj4oV3gp3/fS+tW7fOPpKoo6v0euKFAAIIIICAVwQIdrzSE7QDAQQQQCBhAl4LdnS1JBOy6ATDetOuj/qYzzSc0cd79O+LL77YhgY6d45+Fhwy6MS/Zt9o3rds2eLUGSnYGTlypK2z2X33OTeu2k4NhXTlJnMcXTXLHTrkFuxoWV2RSvfX1b3c++rvJkjRVbKCt+X2d6Rja6D06quvSqOrrw6YV8ech74Hu+rxtI2mzOKvvnLapJMj6/w3+rmuOuZuVzL6wl1/On8n2An8SnryySfttdGzV6/AjfyFAAIIIIBAGgUIdtKIz6ERQAABBJIj4LVgR5feNuFGhYoVnWBgxIgRzk2iTnS8f/9+ebJNG+dvnfBYJ1XWiYZNwKAjd9w3+BpImG21atWSSD86SsYs7R0p2NEAx72ilT42piGHLr1tjhU8J422KVK4Ytps5glKVbCj8+H847rrbLu1/TpqSJes1sfiChUu7GwLFezohNHmfNu0beu4v/vuu/Yz7TdzXvqejL5w15/O3wl2Ar+ffv31V/vvuNgpp8jevXsDC/AXAggggAACaRIg2EkTPIdFAAEEEEiegNeCHb051xEpJjDQx4HM41c6okS364pWZvsbb7whurS5+Xv+ggUBYULja65xtmlYoSFGtDf/kYKdfv362eNpuGSObd41KNm5c2eOY3kx2NGVwUy7L7vsMudRMreTrjql20MFO1rulFNPdbafVby4HD58WG5p2tT5WwMhnZjZ7Z2MvnDXn87fCXZyfkd17tzZXluM2snpwycIIIAAAukRINhJjztHRQABBBBIooAXg50333zT3hAOGTLErrCkgYrevOuonuNPOMEpo/O23HDjjc7vOp+He6UsLftY69a2Lvdky7mFAJGCHR31o2GHLrOt84mMHj1atG26clfwClHu4yQq2NHzddcbze/hjt2gYUPnXHQiaB1VEVxXpGBHy7p9dQSPWT4+VBvdZRPVF8HtTdffBDs5v6Q03DSP5Z12+unOo4o5S/EJAggggAACqRUg2EmtN0dDAAEEEEiBgBeDnV27dtn5ZPQxDjOixD1njQlzNOA55thjnTK6clbwjb1OYGz2D/V4U3B583ekYEdvUrVOnetH5/z56aefnHl2dFUvs3+o93DhirtspEexTj3tNOe41atXj3gcd33m93DHLl+hglOnPlqm7qa8vusKX2ZEzoXlywdsM+V0bh3je9zxx9vf9ZEsU8a8J6MvTN3pfifYCf1l1bFjR3tNDBk6NHQhPkUAAQQQQCCFAgQ7KcTmUAgggAACqRHwYrCjN+nuSYg1ONA5X9zByahRo+wNowkWpk2bliNM0MeDKv53YmUtpzfgX3/zjbPqlY7u2bBhg+hkyPXq1ZMBAwbY/SMFO81btMhxbNMGnW9Hl0/XJcCDg5Jw4Yo7lIgU7GigY46jK4Jt3LhR9FE0PQd3HaF+D3dsXWXK1KkjavTxKZ1DaPz48XaOFN0e6lEscxy3r5ZVA50LyWw378noC1N3ut8JdkJ/X23fvl10NJheF7qynV4DvBBAAAEEEEinAMFOOvU5NgIIIIBAUgS8GuzoI1gmcNB3feTKffP+ww8/BGzXkTuhwgTdZ/bs2QEhhdanc8AUKFgwoI4nnnzSHiNSsKPz/phlyd1tDP695AUXiC4LbtodLlwx2/U9UrDTu3fvgPaa4+mja+46Qv0e7ti6/LvbQV3MCChTv75HCnb69u0b0K4HHnwwbHsS3RehzjUdnxHshP96euCBB+z18fY774QvyBYEEEAAAQRSIECwkwJkDoEAAgggkFoBrwY7mzZtClh5aty4cTnCAjP/iwYPt99xR47t7ht8DYL08a1QoYWGKTph83fffWfr0NE8ZkWoBx96KOBzc1yta/Lkyc6IGR0FNO/zz525dszS69qup55+2u7rnqj4xx9/tJ+722ke8wq1qtYff/whd99zj71J1vq1jZ/NnRuyLne9kY6tj02dd/75AfWefsYZ8sILL4gJk/Sc3PW5f9+2bZt9dE7bNOezz8KW1f0S1RfuNqT7d4Kd8N9bK1eutEHoZZdfHr4gWxBAAAEEEEiBAMFOCpA5BAIIIIBAagW8GuzojboGGVu3bpXdu3eHDAp0VI0GJPq4h/sxrUg3+RrYaGik4cOXCxeKjr4JnnDZ7L9nzx6nfj2O+WzmzJk2AOnfv7/93GzX91WrVtky11x7rS2jx9H2Bj+i5d73999/d87ZvTKVe7v+rpPS6uTD2v5wNsH75HZsPUcNp3REjZqY/c1++/bts5+ZbeZdJ1028+ucX6JEyvrCHN8L7wQ7kb+3GjVqZP9NLF++PHJhtiKAAAIIIJBEAYKdJOJSNQIIIIBAegS8HOx44YY9uA3Dhw+3N6jTp08PGXboyB8duaI/D7VqFbJMcL1+/nvEiBH2fDs99VTGn2+oviLYifz9Nfn99+018vDDD0cuzFYEEEAAAQSSKECwk0RcqkYAAQQQSI8Awc7RmIKIWbNm2RvUC0qVEl3pSVfr0vl99JEkXfK8TNmytsyUKVNiqj9UaOD1z2rUqGHP99uVKzP+fEP1B8FO5O8vnTT5nHPPda6TE086iaXPI3OxFQEEEEAgiQIEO0nEpWoEEEAAgfQIEOzEFuwcPHhQGl51lQ0yzMicUO/t2rfP+JDDvdx5tWrVMv58Q4U6+hnBTu7fX88++6z9dzP29ddz34ESCCCAAAIIJEGAYCcJqFSJAAIIIJBeAYKd2IIdvYnXuX8GDx4sVatWtUs5m2BHl2XX4Oedd97JipBDl4g35z5s2LCsOOdQ4Q7BTu7fYxs3brSTKDdo0CD3HSiBAAIIIIBAEgQIdpKASpUIIIAAAukVINiJPdgJvrHXCYw3b94cdrn14PKZ9Lc+YqOTLeuEzpl0XrGeC8FOdN9j9erXd4LA/AUKOJOER7cXpRBAAAEEEEicAMFO4iypCQEEEEDAIwIEO3kPdmINASifeeYEO9F9ob00apQd4TVw0KDodqIUAggggAACCRQg2EkgJlUhgAACCHhDgGAn80IGgqPU9ynBTnTfZzt27JCChQo54c4ldetGtxOlEEAAAQQQSKAAwU4CMakKAQQQQMAbAgQ7qQ8BCF4yz5xgJ/rvs6uvvtoJdvLlzy8//vhj9DtSEgEEEEAAgQQIEOwkAJEqEEAAAQS8JUCwk3khA8FR6vuUYCf677URI0fax7FGvvRS9DtSEgEEEEAAgQQIEOwkAJEqEEAAAQS8JUCwk/oQgOAl88wJdqL/Xtu6datdHeuf//xn9DtSEgEEEEAAgQQIEOwkAJEqEEAAAQS8JUCwk3khA8FR6vuUYCe277XqNWo4o3aOP+EEOXDgQGw7UxoBBBBAAIE8CBDs5AGPXRFAAAEEvClAsJP6EIDgJfPMCXZi+37r1KmTfRxr1uzZse1MaQQQQAABBPIgQLCTBzx2RQABBBDwpgDBTuaFDARHqe9Tgp3Yvt8+nTXLBjvPPPNMbDtTGgEEEEAAgTwIEOzkAY9dEUAAAQS8KeAOdv4vXz4pVLgwPx4z0OWhdQWhAgUL0jce6xvz70X/7Zgfb/5L91ar9u/fL0WOOcYxq1e/vrcaR2sQQAABBDJagGAno7uXk0MAAQSyU2DwkCH2htTcmPL+v5t0LLCI5RrQoIdXdAKXXX65891zzLHHMs9OdGSUQgABBBBIgADBTgIQqQIBBBBAwFsCf/75p/R47jm57rrr+PGoQYmSJW341rBhQ/rJo/3UtGlTmTt3rrf+gXu4Nf/+97/tdb1w4UIPt5SmIYAAAghkkgDBTib1JueCAAIIIICATwQef/xxewO8ZcsWn7SaZiIQWWDipEn2uh46bFjkwmxFAAEEEEAgQQIEOwmCpBoEEEAAAQQQiF6AYCd6K0r6R2Dr1q022GnWrJl/Gk5LEUAAAQR8LUCw4+vuo/EIIIAAAgj4U4Bgx5/9RqtzFzireHEn3KlYqVLuhSmBAAIIIIBAAgQIdhKASBUIIIAAAgggEJsAwU5sXpT2j4DO7aWTU+uKb/v27fNPw2kpAggggIBvBQh2fNt1NBwBBBBAAAH/ChDs+LfvaHlkgc6dO9vHsRYtWhS5MFsRQAABBBBIgADBTgIQqQIBBBBIhMD6deukRbP7ZM13axJRXcQ6fvvtN2l2992y8MsvI5ZjIwLJEiDYSZYs9aZbYMLbb9tg55XRo9PdHI6PAAIIIJAFAgQ7WdDJnCICCHhfYOmSJVKjSlVpeMUVsmf37qQ3+PDhw06wU65UaZk2dWrSj8cBEAgW8GOwc+jQIWfp7w8+/FB++umn4FPibwQcgZUrV9pgp23btqgggAACCCCQdAGCnaQTcwAEEPCzwI4dO+TzefPkvXfflXfefjv2nwkT5O23JsiMadNl+/btISl0pE6VChWlQtly8t1334Usk4wPddTOFZfXk7IXlJJ5c+cm4xDUiUBYAT8GOzM++MDesN98881hz40N2S2gAWChwoWda6Vx48bZjcHZI4AAAgikRIBgJyXMHAQBBPwmsHjRIrnr9jukTMkLpNT5JRLyowHK6tWrAyj27t0rDerXd+rXACjVr1UrVzqBUrVKlWXjxo2pPjzHy2IBPwY702fMsMHOTTfdlMW9x6nnJlChYkXnWjm/RIncirIdAQQQQACBPAsQ7OSZkAoQQCDTBF4aMVJKlyiZkDAnOBR6Z0JgePPYI484x2nXpk3aGDVQ0nb+89p/yJEjR9LWDg6cXQIEO9nV39l2tjqiS1fGypc/PytjZVvnc74IIIBAGgQIdtKAziERQMC7Ahs2bJCypUo7o1hef22s/PzTT7Jr1y7Rx5b279snW7dsCQh8vvziC+dz3WZ/9u93yn///ffSu2cvW/7O226XP/74w5687quBysU1azn72g1p+OWm66932jLujTfScHQOmY0CBDvZ2OvZc84dO3a0o7u++eab7DlxzhQBBBBAIC0CBDtpYeegCCDgVQENZ+Z+9pns+3NfyCZ++MEHNqipWrGSHDl8OGQ586HWN6Bff/n040/k6NGj5mNnZMx1ja9x6ho8cKD9PF2/TJ82zWmLTuC8e1fyJ29O13lyXO8IEOx4py9oSeIFXho1ygY770+ZkvgDUCMCCCCAAAIuAYIdFwa/IoAAArkJdO/a1QY7Dz3wQG7Fw25/f/Jkpx5dleqXn38OWy5VG/QRrPqXXua0aWD/Aak6LMfJYgGCnSzu/Cw49Y8/+cQGO4OHDMmCM+YUEUAAAQTSKUCwk059jo0AAr4TMKNs9BEqfVQr3pc+lqV1PNn68XirSPh+Y8e85rTpktoXM9dOwnWpMFggEcGOTj7+2tix8vIrr8i2bducQ8yaPVueeOIJefDBB2XgoEGiZUK9Nm/eLO9NnCidO3eWVq1ayQsvvijz58+Xv/76K1Rx57NIkyfrCnraFh2pETxJurvCxYsXy4iRI+XNceMiHsu9D7/7T2Dt2rU22GHJc//1Hy1GAAEE/CZAsOO3HqO9CCCQNoE9e/YETKqsy5TH89ryww+2Hl19yysvXY5dwyb9mfXJp15pFu3IUIFEBDvuoEVHRXTo0MHeTOvEtfrzVtCE5boUtZbTSW1NGfd76TJlZMmSJSHV3ccLXhVr7Ouv2/qaN28ecn/9sF79+rbcF198EbYcG/wtsH//fnuNNW3a1N8nQ+sRQAABBDwvQLDj+S6igQgg4BWBGdOm2+BDH1uK9zX8hRecesqXKSt6k+mlV726lzpta/dk+lbp8pIHbUmeQKKDHV1W2h3QmN/HjR9vT0Jvti+qXTug3IknnSTnnHtuwGeFixSRT2fNsvuZXwh2jATv0QicdvrpznVV55JLoilOGQQQQAABBOIWINiJm44dEUAg2wTaPvGkDXZ6du8R9+nfd889Tj1NbrgxYh2bN22WTh06SpdnnpVez/WUfn36SP++/eT5Xr1E5/p5ulMn0aXK3a8xo0dL56eekue6d5c+vXtL/z59nX2ffbqzvDH2dXfRkL9roKMjdi6rw41ISCA+TJhAooMdE+RowPP6G2/IlKlTpXXr1rJy5Urb5j59+9oAp9gpp8jUadPk77//drb/8MMPctVVV9ntNWrWDJjwXAsR7FhKfolCoGq1as71pNckLwQQQAABBJIpQLCTTF3qRgCBjBE4fPiwVK9cxQY7ixYujOvcdBWtyhUqOvV069IlYh1LlyyxxzOPSAW/d2jXPqCOlvc1D7vPtVdfHVA21B//GT/e7r9169ZQRfgMgYQIJCPYOfe88yTcdbtr1y4pWqyYDW4WLFiQ4zx0fh336J2ZH38cUIZgJ4CDP3IRaNy4sXO9FTnmmBwhYS67shkBBBBAAIGYBAh2YuKiMAIIZKvA/M/n28CjZrXqcU8urPPymHDm/UmTI3LqUunDhgyVQQMGSPN7m9n9zP5VKlSUmR99FFDHB9NnSKXyFWzZOrUukvZt20rvnr1EJ0fO7aWTvpr6tS5eCCRLINHBjs6ZM3fu3LDNfefdd22oc+2114Yt161bN1tuwMCBAeUIdgI4+CMXgWbNmtlrSedo44UAAggggECyBAh2kiVLvQggkFEC+jiUCTwurVPHeSRKH4sK9zNy+PCQ5//lF1/Yer75+puQZUJ9ePDgQbntlqZ2X9OWSe9NDCiuo3wqlrvQKdf4qkayZ/fugO25/fHrr7/aY4wa+VJuxdmOQNwCiQ52rrnmmoht6dmrl73JvvXWW2XevHkhf5588klb7rHHHguok2AngIM/chFo166dvZbWr1+fS2k2I4AAAgggEL8AwU78duyJAAJZIqATHOsoHROmRPMebv6caVOn2np0Dp1YXvooSf3LLrf7azsuLF1GzMpaGzZskJpVqznbNXzSVa5ifem5mvPTeXl4IZAsgUQHO8GrVAW32z16wszHk9v77bffHlANwU4AB3/kIuAOExfG+fhuLodgMwIIIIAAAo4AwQ4XAgIIIJCLwMczZ9qwQ4MUfbwp1I8JRG5v2lS2bdsWslZ9HMqU06Am1pc+ylWtUmVbh9alYY7O+WNWtNK5gNatXRtr1ba8mQPokYda2c/4BYFEC6Q62DHzneQW5ri39+vfP+C0CXYCOPgjF4HhI0bYETsfzZyZS2k2I4AAAgggEL8AwU78duyJAAJZIqABhwljdKnycC8NXXILVAb2H2Drinep88/nfS5lS5W29Zi26XuFsuVk8aLF4ZoY1eeXX1LXqbtFs/uiKk8hBOIRSHWw07JlS3uT3b1HD9m3b1/EH10aPfgVbbBz1113Be9q/65Xv75txxdffGE/55fMExg3frzt67ffeSfzTpAzQgABBBDwjADBjme6goYggIAXBXbs2OE87qShSfkyZSWeUTbu89LHm7QuHfmTl9f4ceNCBjuJmPD4H40bO3U/0KJlXprIvghEFEh1sON+LOaRRx6J2LZwGyMFO+9NnGhv4hs2bBiuCiHYCUuTcRumTptmr4nRr76acefHCSGAAAIIeEeAYMc7fUFLEEDAgwIvDnvBBijBS4vH01xd4lyDndIlSuZ5+dse3brZtmmd+vPMU0/H06yAfRpd2cCp68GWBDsBMPyRUIFUBzv/eeste5N9+hlnOKN1Yj2hSMGOLp9uHuPSJdP//vvvHNV/9tlnoktfm3KM2MlBlFEfzJo92/b10GHDMurcOBkEEEAAAW8JEOx4qz9oDQIIeEjgyOHDUvfiOjY8WbVyZZ5b1/f55219v//+e57qMyGRCXXM+5g8/j/DF9es5bSxU4eOeWofOyMQSSDVwY6Otjvl1FPtjbaufnXkyJGQTdTHsBYvzvlIY6RgZ+vWrbZuDW70MRz36+NPPpGTixYNKEOw4xbKvN+//PJL2999+vbNvBPkjBBAAAEEPCNAsOOZrqAhCCDgNYEZ06bbEOaOW29NSPN0GXQTwMSzapVpxCujXrb1mPrMe5mSF8jsWbNM0ZjfdZ4erat/H25EYsZjh6gFUh3saMOGvfCCvdHW8OXSyy6TESNHyvz580VDFh3V8+CDD0rRYsWccr/99lvA+UQKdrTgVVddZesvWKiQtG/fXl4aNUoaNWok+QsUsNsYsRPAmrF/LF++3PZ5t+7dM/Y8OTEEEEAAgfQLEOykvw9oAQIIeFSgyY032fBk1iefJqSVU6dMsXWu+W5NXHVOef9951EuDV90HhxdNr12jZq2Xv28SoWKEk/9Bw8etPWMGT06rvaxEwLRCKQj2Dl8+LDoEuYmWIn0ni9/fok12Jk7d27Ao1bB9VeqXFnuvfdee3xG7ERzpfi3zKpVq2xfd+7c2b8nQssRQAABBDwvQLDj+S6igQggkA4BXVnKjIDRyYSPHj2akGYsW7rU1vvhBx/EXOeC+fPtZM5NbrhRzMo9Wq8ZaWParatb6eTPsbw0JDL7a4DEC4FkCSQi2Pnk00/tjfMdd9wRdVN1ouMyZcuKhjfB4YvOgXNlgwYSahWjaI6nj9+UKl06oN7jTzhB7r77btHHL92TOC9dujTqNlPQfwLr1q2z10HHjjza6r8epMUIIICAfwQIdvzTV7QUAQQSLKAhyR233iZ1al0ka9esDaj9/uYtbMCho2wS9dIbO31USsOT/n37xVTt6tWrpWrFSs6+DerXz7FCl3s0kAlndNTRgQMHoj6Ohjlm32++/ibq/SiIQKwCiQh29Jg7d+4UfaxRR+PE+tIlz5ctWyaTJk8WnehW/43pqLVIr2iPt23bNtFHt3RUzqFDh2yVOqmytjevK+zZCvnFswLff/+9DXbatWvn2XbSMAQQQAAB/wsQ7Pi/DzkDBBCIQ+D9SZPt40waZFxxeT3Zs3u3U5MGGibcuOG6fyZstI5p5j+v/YdT/3333Gs+CvmuIZAGTiuWL5ehgwdLzWrVbbsmvTdRdHLn4Jeu3GXabt6feKy1/LB5s/NjzjF4P/N3z+49nP0rV6gYdmJZU5Z3BPIikKhgJy9tYF8EkimwefNmG+zoZN28EEAAAQQQSJYAwU6yZKkXAQQ8LaDzx5jgw7xfUvtiZ7nwa6++2tl2yUW1Zd3awJE8iTgps0x5rerVI1Y3fty4HG00bdX3rVu2BOy/fNmyiOV1n549ngvYJ/iPW5vc4tSRW+gUvB9/IxBOoMdzz8mUqVNzLP8dKdj56aefpEuXLrJkyZJw1fI5Ap4X2LJliw12nnjiCc+3lwYigAACCPhXgGDHv31HyxFAIA8CuszxLTfdHDYIaXpzE/nll1/ycITwu34+b5497ob168MW1GCnbKnSzuNXugS5Bk0aBuloGp0cOfhRji8WLJCyF5SSSuUrSM2q1cS9jz7CVa5U6YjBjj6CUrHchU7bxr35Zth2sQGBWATmzZvn3Nyefc450qpVK3lx+HCZNn263HXXXfamd9KkSTL+P/9x5p/RlaUKFS4sdS+9NJbDUBYBzwls3brVXuMaZPJCAAEEEEAgWQIEO8mSpV4EEPC8wO5du0UfPSpfpqwNWurVvVReGjEyYE6MRJ+IzrFR/9LLnGP2eq5noquPu77JEyc5bdJJmINXA4q7UnZEIGgZ8ODJisP9/dHMmdgh4GsBgh1fdx+NRwABBHwlQLDjq+6isQggkAyBv/76SzZ9vynHCJhkHMvU+cLQYU6IoiNrYpnc2OyfjHddZUsf12rzOI8MJMM3m+s0o3bChTjBnzNaJ5uvlsw59x9++MGO2OFRrMzpV84EAQQQ8KIAwY4Xe4U2IYBAxgv8+uuvzuNUGqToRM7pfq1YscIJdXTFLl0ZiBcCiRbQR6yCA5xwfzNaJ9H61JcOgU2bNtlrvm3btuloQkKPuXnTZunUoaN0eeZZ0dGm/fr0cVZ3fL5XL+netas83amTvP3WhIBj6nx2nZ96Sp7r3l369O4t/fv0dfZ99unO8sbY1wPK8gcCCCCAQPwCBDvx27EnAgggkCeBV0a97IQpOp9Pul/t2rRx2qL/Ac4LgWQIRDtqh9E6ydCnznQIbNiwwQY7//rXv9LRhIQec+mSJc7/Tuj/IRHuR1dmdL9a3tc8bFldqIAXAggggEBiBAh2EuNILQgggEDMAocPH5arGzR0/qN37JjXYt4/UTss/PJLZ9LlapUqp/RxtES1n3r8IxDNqB1G6/inP2lpZIHvvvvOBjudOnWKXNgHW/fv2yfDhgyVQQMGSPN7m+UIbHRS/5kffRRwJh9Mn+FM6G+CoDq1LpL2bdtK7569JJ3/uxfQSP5AAAEEMkCAYCcDOpFTQAAB/wosW7pULixdxvlZ+e23KT+RHTt2iP6Htv5H99QpU1J+fA6YXQK5jdphtE52XQ+ZfrbffPONDXa6dOmSUaerqyjedkvTHOHOpPcmBpynjvIxqy02vqqR7Nm9O2A7fyCAAAIIJEaAYCcxjtSCAAIIxC3wzttvO/9x3KB+ffnzzz/jrifWHXV1rnvvuts5dt/nn491d8ojEJdAw4YN7c1u8Bw7jNaJi5SdPCrw1Vdf2Wv9uZ7eWQExUVy7du2S+pddHhDu6P9RsXjRIucQ+iiaLhCg/8fBpXXqyPbt2xN1aOpBAAEEEAgSINgJAuFPBBBAIB0CgwcOdP7j94nHWsvRo0dT0oQhgwY5x9RVsDTk4YVAKgTCjdphtE4q9DlGKgXmz59vg53+Awak8tApO9b6detEH+M1j1rpu4Y5ixYulHp1L3U+r165iqxbuzZlbeJACCCAQDYKhj09xwAAIABJREFUEOxkY69zzggg4EkBnW9A/9/O1atWJb19+giWroDVs8dzhDpJ1+YAwQKhRu0wWidYib/9LvDJp5/aYOeFF1/0++mEbf/n8z6XsqVKB4Q7JuipULacLF60OOy+bEAAAQQQSIwAwU5iHKkFAQQQSIjAnj17ElJPNJXoMHpeCKRDIHjUDqN10tELHDPZAlOnTbPBzqtjxiT7cGmtf/y4cSGDHZ08mRcCCCCAQPIFCHaSb8wREEAAAQQQQCBIwD1qh9E6QTj8mRECb02YYIMd/T3TXz26dcsR7jzz1NOZftqcHwIIIOAJAYIdT3QDjUAAAQQQQCC7BObOnevc9DJaJ7v6PZvO9pXRo22wM2369Iw/9W5duuQIdvSRrDGvvprx584JIoAAAukWINhJdw9wfAQQQACBhAvoY2aPPvqoVKlalR8PG5xw4olS8oIL6CMP99HFderI5PffT/i/0WyocNDgwTbYmTNnTkaf8iujXg4Z6miwo/O5zZ41K6PPn5NDAAEE0i1AsJPuHuD4CCCAAAIJF+jTt6+9oQpeUpu/82GTD4NY/x0k/B9pFlTYvUcP+29t6dKlGXvGU95/X0qXKOkEOw+0aCmbN22W2jVqBgQ9VSpUlDXfrclYA04MAQQQSLcAwU66e4DjI4AAAggkXKBf//72hkpvYEuXKcMPBlwDMV4D7vAn4f9Is6DC9u3b2++hDRs2ZOQZL5g/31nNUUfmNLnhRtm/f79znsuWLhVdEcusjqXvl19SV3RFRl4IIIAAAokXINhJvCk1IoAAAgikWcAd7MxfsECOHj3KDwZcAzFeAzfedJMNJtL8T9qXh7///vutXyYGGqtXr5aqFSs54U2D+vUleKXFqVOmBAQ7Tvhz401y4MABX/YnjUYAAQS8LECw4+XeoW0IIIAAAnEJEOwQZBHm5f0aINiJ6+vH7tSkSRMn2MmXP78cPnzYfu7XX37//XdZu2atrFi+XIYOHiw1q1W3wc2k9ybKkRDn2KFde1vGjN554rHW8sPmzc7Pnt27/cpBuxFAAAFPCRDseKo7aAwCCCCAQCIECHbyflNPMIIhwU7evo2uuPJKJ9g5uWjRvFXkkb3HjxuXI6QxYY2+b92yJaCly5cti1he9+nZ47mAffgDAQQQQCA+AYKd+NzYCwEEEEDAwwIEO4QSBFN5vwYIdvL2JVe5ShUn2LmgVKm8VeSRvTXYKVuqtPP41cU1a8klF9WWWtWrS+UKFUUnRw5+FOuLBQuk7AWlpFL5ClKzajVx76OPcJUrVZpgxyN9SzMQQMD/AgQ7/u9DzgABBBBAIEiAYCfvN/UEIxgS7AR9scT451nFizvBTu2LL45xT4ojgAACCCAQmwDBTmxelEYAAQQQ8IEAwQ6hBMFU3q8Bgp34v+z0+itYqJAT7Fx33XXxV8SeCCCAAAIIRCFAsBMFEkUQQAABBPwlQLCT95t6ghEMCXbi/97buXOnE+rokvEtWrSIvyL2RAABBBBAIAoBgp0okCiCAAIIIOAvAYIdQgmCqbxfAwQ78X/vrVq1ygY7nTp1ir8i9kQAAQQQQCAKAYKdKJAoggACCCDgLwGCnbzf1BOMYEiwE//33qzZs22wM3jIkPgrYk8EEEAAAQSiECDYiQKJIggggAAC/hIg2CGUIJjK+zVAsBP/996b48bZYGfC22/HXxF7IoAAAgggEIUAwU4USBRBAAEEEPCXAMFO3m/qCUYwJNiJ/3uvb79+NtiZN29e/BWxJwIIIIAAAlEIEOxEgUQRBBBAAAF/CRDsEEoQTOX9GiDYif9778knn7TBzsaNG+OviD0RQAABBBCIQoBgJwokiiCAAAII+EuAYCfvN/XRBiOvvPKKnFW8uJQpW1Z27Ngh0e6XiHLpPHYi2u/1Ogh24v/eu/POO22ws2/fvvgrYk8EEEAAAQSiECDYiQKJIggggAAC/hIg2Akd7Ozdu1eqVasmxx53nLRr3z4hIUznZ56xN7CbNm1KSJ3RBh7pPHa0bfRzOYKd+L/3GjRo4Py7OOHEE+OvhD0RQAABBBCIUoBgJ0ooiiGAAAII+EeAYCd0sDNz5kwbwpSvUCEhIUxew5Vdu3bJunXrZP/+/TG3J6/H9nPokoq2E+zE/52n/77+L18+ZyRb/LWwJwIIIIAAAtEJEOxE50QpBBBAAAEfCRDshA52tm/f7ozW0RvOprfeGnOQEipMyGu4ctzxxzs3wHfdfXfM7cnrsUOdD5/979oh2In/S09H6ui/syuuvDL+StgTAQQQQACBKAUIdqKEohgCCCCAgH8ECHb+d3MeHFTofB9bt26NOUQJrsf8nddwpWChQs4NcDxBU16Pbc6B99DXC8FOfN95O3fudK5pDXaaNWsWXyXshQACCCCAQAwCBDsxYFEUAQQQQMAfAgQ7oW/UkxFg5DVcIdhJXV/F2v8EO/F933311Vc22OnSpUt8lbAXAggggAACMQgQ7MSARVEEEEAAAX8IeCnYuefee6V+/frStl27kKNkxo4dK1deeaX88/rrReebCb75/uWXX+T6G26QevXqyeTJk3Ns//DDD+W+5s2duTxOOvlkqVu3rjz62GOyfMWKHGX//vtvuaVpU7niiitEV5QKPpb+vWz5ctE26yTLp552mlPvtf/4h9zcpIn96d69u903ONhZsnSpPNSqlZQqXVrOOfdcaXLLLTJp0iRbXo+h56kjdLTOfPnzOzfB+uiK+xhfLVkSsE+otgYf213mr7/+knHjxskdd94pF5YvLyeedJIUP/tsx3rgwIFy8ODBgPr1M+0nbUO41b0OHTokd951l1Oub9++AfvrsWPtCz3WlQ0ayJzPPpNvvv1WGjRsKNqH5553ngwePDhH/e7zS8XvBDvxfd+9NWGCDXbGvv56fJWwFwIIIIAAAjEIEOzEgEVRBBBAAAF/CHgp2KlSpYpzk6cBxs8//5zjZr1GjRr2JnD8+PE5to8ePdpuf+mll+x2faTqkUcftdv0sQ/3zzHHHpsjvNFgwpRp3qKFrcuEBKNGjZL8BQrYMqZs8HvlypXtvu5w5V8dOkjhIkVC7t+jRw+7j4ZOwXUG/z1mzBhb3rQv+N19bPeKXBrM6PLrwXW6/77oootEPUydukqY2T5kyBD7udmu7+7Jpx9/4glbJq99oUGcBjrm+PquYZr72On4nWAnvu+77j162L5csGBBfJWwFwIIIIAAAjEIEOzEgEVRBBBAAAF/CHgp2HGHDzo6x32DrqNxzIgVvZnXkTLu7fq7jnjRbVpu27ZtdnuHjh3tzWOlSpWcEOfjjz8WDVB0OXPdR0OalStX2n0iBTsbNmwQM5Fx0WLFZNiwYTJx4kS57fbbA8Kart26OSNhTDvd56fH1J+qVatKl65dxR0M6CNXmzdvdtry559/ira//b/+Zc+hbLlyzt/6mYYs2h5zjHDv7mO7gx0dAaPtKFCwoDMSavjw4c659OnTR047/XR7zBdffNEewx021a5d237uPnaLli3tvl8uXGjL5LUvjJuOWrr7nntEj6+jsNzHTsfv7v7zx798b7TyzjvvtNeJjk7jhQACCCCAQLIFCHaSLUz9CCCAAAIpF/BSsLNo8WJ7k3frbbcF3KxPcD2yoTf3p59xhhw5csSW0ceFzEiOOnXq2M83btwoRY45xqlXR/z8/vvvdpsGALNmzbLH1GDGhAKRgp2hQ4fafT766CO7j+47aNAgu23GjBkB29zhip5Dr169Arbf/8ADdt+ePXsGbNO6kzHHjo7Yeerpp51l1M25m3d9xMuEaRqamc/1XR8/MyHL2rVrA7YdOHBANPDS7RpCmf0S0Rda55lnnSVr1qyx9Zr60/lOsBPfV1fl/47SO6t48fgqYC8EEEAAAQRiFCDYiRGM4ggggAAC3hfwUrCj89qcfc45TiBwctGiAY//uEMPEygsXLTI3tzPmTPHBg3PP/+8/VxHzZjyn3zyif3cHQJoEKRldF4Z83mkYMeMRtHAyJQ37+7RLP379w/Y7g52dESM2ce8r1692ra11cMP59iejGDHHDvc+/klSjht0lDMXcYdYHXr1i1g29SpU+15uOcYSkRf6Miiz+fPDzieu13p+p1gJ/bvOg0ACxUu7FwrjRs3jr0C9kAAAQQQQCAOAYKdONDYBQEEEEDA2wJeCnb0pvzhRx6xoYCGNeZGvUTJks7nOomuCWo0KDDb3Y/4rFq1yn6uE/ia8hrszJ03L8ePTpBsyuijT1pnpGDHPV/Piq+/tsfS/T6bO9fWFfw4mTvYcT8OZc5BRx2ZETJ6nuZz856qYOePP/4Qbd/3338vZt6jchdeGNAenQPJtCd42113320N1q9fb/dLRF+4R1UZFy+8E+zE/j23ZMkSe5107Ngx9grYAwEEEEAAgTgECHbiQGMXBBBAAAFvC3gt2NHVkkzIohMM6027PupjPtNwRh/v0b8vvvhiGxro3Dn6WXDIoBP/mn2jed+yZYtTZ6RgZ+TIkbbOZvfdJxqEaDs1FNKVm8xxdNUsd+iQW7CjZXVFKt1fV/dy76u/myBFV8kK3pbb35GOrYHSq6++Ko2uvjpgXh1zHvoe7KrH0zaaMou/+sppk06OrPPf6Oe66pi7XcnoC3f96fydYCf277lRL79srx9dHYsXAggggAACqRAg2EmFMsdAAAEEEEipgNeCHV1624QbFSpWdIKBESNGODeAOtHx/v375ck2bZy/dcJjnVRZJxo2AYOO3HHf4GsgYbbVqlVLIv3oKBmztHekYEcDHPeKVvrYmIYcuvS2OVbwnDTapkjhimmzmScoVcGOPg7zj+uus+3W9uuooTPOPNN5LM48KhMq2NEJo835tmnb1nF/99137Wfab+a89D0ZfeGuP52/E+zE/rV1//3322tFJwDnhQACCCCAQCoECHZSocwxEEAAAQRSKuC1YEdvznVEigkM9HEg8/iVjijR7bqildn+xhtviC5tbv6ev2BBQJjQ+JprnG0aVmiIEe3Nf6Rgp1+/fvZ4oZY816Bk586dOY7lxWBHVwYzdpdddpnzKJnbSVed0u2hgh0td8qppzrbdfLbw4cPyy1Nmzp/ayCkEzO7vZPRF+760/k7wU7sX1sV/zvKTidC177zyktX59LHxL777juvNIl2IIAAAggkUIBgJ4GYVIUAAggg4A0BLwY7b775pg0bhgwZYldY0kBFbwB1VM/xJ5zglNF5W2648Ubnd10tyb1SlpZ9rHVrW5d7suXcQoBIwY6O+tGwQ5fZXrdunYwePVq0bbpyV/AKUe7jJCrY0fN11xvN7+GO3aBhQ+dcdCLovXv35qg3UrCjx3X76gges3x8qDa6yyaqL6I591SUIdiJ7ftMg08zn9SNN94Y284RSuvcUAsWLHAej4xQLOIm9+OUixYtiljW6xs1fP3iiy+cVeS83lbahwACCKRKgGAnVdIcBwEEEEAgZQJeDHb0/zE388kUO+UUG8y456wxYY4GPMcce6xTRlfOCr6J1wmMzYiUUI83BZc3f0cKdk47/XSnTp3rR+f8+emnn5wbSV3Vy+wf6j1cuOIuG+lRrFNPO805bvXq1SMex12f+T3csctXqODUqY+Wqbspr++6wpcZkXNh+fIB20w5nVvH+B53/PH2d30ky5Qx78noC1N3ut8JdmL7ypr8/vv2Wuk/YEBsO4cp/Z+33rJ11qtfP0yp3D/Wfc01raGIn1/uxx9nzZ7t51Oh7QgggEDCBAh2EkZJRQgggAACXhHwYrCjN+nu/9dcb7J0zhd3cDJq1Ch782VuwqZNm5YjTNDHg8wjH1pOb8C//uYbZ9UrHd2jc3voZMj16tWTAQMG2P0jBTvNW7TIcWzTBp1vR5dP1yXAg4OScOGKO5SIFOxooGOOoyuCbdy4UfRRND0Hdx2hfg93bF1lytSpI2r08SmdQ2j8+PF2riPdHupRLHMct6+WVQOdC8lsN+/J6AtTd7rfCXZi+0Zr8995svR6Wbx4cWw7hyn95JNP2mtZA8l4X34IdvTf/NKlS53vmHDnuXv3buuhzsNeeCFH0WjqybETHyCAAAI+FyDY8XkH0nwEEEAAgZwCXg129BEsvRkxP/rIlfvm/YcffrDbtIyO3AkVJug+s2fPDggptLzOAVOgYMGAOp548kl7jEjBjs77Yx4jMe0L9V7yggtElwU37Q4Xrpjt+h4p2Ondu3dAe80x9dE1dx2hfg93bF3+3e2gLmYElKlf3yMFO3379g1o1wMPPhi2PYnui1Dnmo7PCHZyfrdE+qRS5crONVO0WDHn8clIZaPd9obrEc7L69WLdrcc5bwe7Kxevdr+e6tzySU52u/+oFTp0rbsJ59+6t4ksdQTsCN/IIAAAj4XINjxeQfSfAQQQACBnAJeDXZ0rgz3ylPjxo3LERaY+V80eLj9jjtybHff4GsQpI9vhQotNEzRCZt1slSzj47mMStCPfjQQwGfm+NqXZMnT3ZGzOgooHmff+7MtWOWXtd2PfX003Zf90TFP/74o/3cHFPfzWNeoVbV0mXV777nHnujpvVrGz+bOzdkXe56Ix1bH5s67/zzA+rVCW1feOEFMWGSnpO7Pvfv27Zts4/OaZvmfPZZ2LK6X6L6wt2GdP9OsJPzuyXcJ3rtm2D05ptvDlcs5s/1GtBJjxcuXOhM5B1zBf/dwevBztdff23/rdasVSviaeqqgfPmzZOtW7fmKBdLPTl25gMEEEDAxwIEOz7uPJqOAAIIIBBawKvBjt6kaZChNyT6SEGoG3cdVaM3idu3bw94TCtUWfOZBjYaGmn48OXChaKjb4InXDZl9+zZ49SvxzGfzZw5095U9e/f335utuv7qlWrbJlrrr3WltHjaHuDH9Fy7/v777875+xemcq9XX/XiWd18mFtfzib4H1yO7aeo4ZTOqJGTcz+Zr99+/bZz8w2866TLpv5dc4vUSJlfWGO74V3gp3Q3y+hPh396qv238fIl14KVSStn2VSsBMJkmAnkg7bEEAgkwUIdjK5dzk3BBBAIEsFvBzseOGGPbgNw4cPtzel06dPDxl26MgfHbmiPw+1ahWyTHC9fv57xIgR9nw7PfVUxp9vqL4i2In+C7RJkyb2etm8eXP0O+ZSUkPRN8eNEw2Lvv3224ildSTLexMnSrt27UTn5nn7nXdEP9NXtMGOtl3r6Ny5s7Rq1UpeePFFmT9/vrNqX7iD6/bhI0bIjA8+sEU0SB318sty//33S7fu3UUfmTp48KDdbn5Zv3696ATRfVyPPupoQ/3M/MyZM8cUd951Va8RI0fKWxMm2DpjqWflypWO55jXXhMdmRfpZY6lj8SFan+kfdmGAAIIpFKAYCeV2hwLAQQQQCAlAgQ7R2MKImbNmmVvSi8oVUp0pSddrUvn99EbH13yvEzZsrbMlClTYqo/VGjg9c9q1Khhz/fblSsz/nxD9QfBTnRfV3/99ZczH5aGnlWqVo1upyhLTZ8xw16HN910U9i9Xhs7NuAxTxPC6qizcePH5xrs6Oi2Dh062MfJzP7mvXSZMs4jYaEacFHt2k4bdYJxHZXXsmVL22azv75fUreuMz+Xu457gh7DdJc3v+ujnO6XOZ5uX758ubMplnrc7dP9wr3UxKygp8fS0UC8EEAAAa8KEOx4tWdoFwIIIIBA3AIEO7EFO/r/RDe86qqQN2Pm5sq8t2vfPuNDDvdy59WqVcv48w0V6uhnBDvRfQVNnTbN/tt55plnotspylLRBDs9nnvOHt/8O430HrzcuQa47rBE9z3xpJPknHPPDahX5wf7dNasHC1373txnToB+wS3o1r16gH7P/TQQxHL6/4lSpYM2Md9PBPsxFLPhLfftsfUCep1xbxQL7f9WcWLJ2xC7FDH4jMEEEAgrwIEO3kVZH8EEEAAAc8JEOzEFuzoTbzO/TN48GCpWrWqFDnmGHvjozdWuiy7Bj/vvPNOVoQcukS8uSEdNmxYVpxzqHCHYCe6r7bmzZvb60UnOk7kyx0uhBqxoyvUuf+9XnrZZTJr9mxnMu+hw4aJrmJnrmXzHhzsuB+DKnbKKaJB1d9//+2chk4KfpUr9K1Rs6bz78F9ju6gRY+hk0hr0KITHK9Zs0YefPDBgDZ88OGHdned82vFihXy7nvv2TLlK1RwRsfoCBn90Ta4X+7jmWAnlnp0hJWOLjIe+qhbqNe9995ry+jjbbwQQAABLwsQ7Hi5d2gbAggggEBcAgQ7sQc7wTf2OoGxzrcRbrn14PKZ9Pfhw4edyZZ1QudMOq9Yz4VgJ/evH330SJc315BAH2NU40S+cgt2nn76aRs+lC1XTjTgcL90YvMLy5e3ZbSd7mBHJz037ddtCxYscO/u/K5BiHv0zsyPPw4o4w5aNNQJNXn0FVdeadvQunXrgP31j1gmPXYfzwQ7psJo69H5g0ywc+2115rd7bues45aMmWWLl1qt/ELAggg4EUBgh0v9gptQgABBBDIkwDBTt6DnVhDAMpnnjnBTu5fQ+9PmWJv/jt16pT7DjGWyC3YqVCxoj3+sBdeCFm7juo597zzbDl3sPPOu+/az0MFHKbCbt262XIDBg40Hzvv7qBl8JAhAdvMH6+OGWP3v/XWW83H9j3aQEZ3cB8v3mBHDUxoU6BgwRxz/0ycNMlur1ipkm0nvyCAAAJeFSDY8WrP0C4EEEAAgbgFCHYyL2QgOEp9nxLs5P4VdNttt9kAQB8pSvQrt2BH54gxAcXWrVvDHj7cqlg9e/Wy+2vgoo9PhfrRVbbMcR577LGA40QKWkxBnZvH7F//iivMx/Y91cGOHrjchRfaNulja+6Xu197P/+8exO/I4AAAp4UINjxZLfQKAQQQACBvAgQ7KQ+BCB4yTxzgp3I30L6qN4xxx7rhAOVq1SJXDjOrZGCHT2+CUt0nh39NxjuFS7Yadasma3D1JXb++233x5wmGiCHQ29TL06D1DwKx3BTq/evW2bal98sW2Szjd27HHHOdv00bLgOX5sQX5BAAEEPCRAsOOhzqApCCCAAAKJESDYybyQgeAo9X1KsBP5+6i/a5Lt4MeTIu8Z/dZIwc6qVatsMBG8JHjwEcIFO40bN7Z1mOAlt3f9fnW/ogl23MGNV4KdLVu2SP4CBez5r1271jmt8f/5j/1M5wbihQACCPhBgGDHD71EGxFAAAEEYhIg2El9CEDwknnmBDvhv3Z0gm2z4pSO7tDRM8l4RQp2dO4cE8LoPDHxjNhp2bKlraN7jx6yb9++iD86mXrwy6/Bjp5Ho0aN7Pl37drVObUbbrjBfvbK6NHBp8vfCCCAgCcFCHY82S00CgEEEEAgLwIEO5kXMhAcpb5PCXbCfwu5R3Xoct7JekUKdvTfRKHChW0IoUuLh3tdXq+eLeeePNk9x84jjzwSbveInyc62NEl1SO9Ih3PPTIot3r0GLrUuQnHypQtK7oaYOEiRZzP9PG2vXv3RmoK2xBAAAHPCBDseKYraAgCCCCAQKIECHZSHwIQvGSeOcFO6G+kv//+W3SlJA0E9FGe7777LnTBBHwaKdjR6kuVLm2DiXCT/M6aPTsgAHIHO/956y27/+lnnOGM1om12ZGCFlOXO3AJ9SiW+7EyXTY+0ivS8WKpR4+hI5Tcy5q7l0EPtXpXpHaxDQEEEEinAMFOOvU5NgIIIIBAUgTcwU6fPn1k7rx5/HjQ4N333hNdLYf+8eb1ecqpp9qb/qT8Q/VppePGj7cuwRMJJ/qUcgt2OnfubNui/bV+/fqAJsz8+GM5uWhRW0bDKHews2vXLnH3s65+deTIkYA6zB/6GNbixYvNn/Y9UtBiCuUW7OzZs8e2UR8r++WXX8yuOd4jHS+WekzF999/vz22Gb2j77qUPS8EEEDALwIEO37pKdqJAAIIIBC1gDvYcf+HOr/nC3kDgwsuuV0DUf/jy/CCBw4cEB1Rol4aQOgIkWS+cgt2Nm/eHDAB8PklSki37t1lwttvy7333huwzfSxO9jRtg974YWA7wUdUTNi5EiZP3++EwLpqB593KxosWJOud9++y3glCMFLaZgbsGOljv1tNNsO9T4xeHDRee9ufPOO001zntux4u2HlPp3Llz7XGNkdZx6NAhU4R3BBBAwPMCBDue7yIaiAACCCAQq8CMDz7I8R/q5j/YeSfE4BqI7RpI1lLesf679kL5vv362e8WnXg42a/cgh09/pChQ0WX5Q53XZe78EJ54IEH7PbgYEcngtaRR+H2d3+ux0lWsPPss8+GbEPxs88OYM4t2Im2HlOpPkbqfqRNz/fRRx81m3lHAAEEfCFAsOOLbqKRCCCAAAKxCnzy6aeiSxDz402Dyy6/3N7EPfPss/STR6/VF158UXT1JV4iP/74o52P5fgTTnD+TraLfo+ZYOWOO+4IezidBDg4nNBHrJo1ayb6eJJ7VM7SpUtD1vPexImiEwiHCol0IuErGzSQt995J8e+7n/L4eYb0qXEzXk0aNAgRx36wZ9//umMDDLlzHtw+dyOF2097kb06t3btk+Pu2DBAvdmfkcAAQQ8L0Cw4/kuooEIIIAAAghknsDjjz9ub6S2bNmSeSfIGWWcQNOmTe01q0FAql66lPr27dtFR9bk9tIQTkf5LF++PGD5cx2VotuiWZZdJxRetmyZTJo8WXTi5dWrV8vBgwfDHlq3aeilAVKkl644tW3btoh16f66EtWSJUucY3/77bcB56Hboz1ebvW42/rqmDG2b0uXKePexO8IIICALwQIdnzRTTQSAQQQQACBzBIg2Mms/sz0s9GQw4wgKV+hguhcO7wyR+CSunVt/+ocRbwQQAABvwkQ7Pitx2gvAggggAACGSBAsJMBnZglp7Bjxw45q3hx58ZfH1PSyXZ5ZY7AN998Y0MdDe82btyYOSfHmSCAQNYIEOxkTVdzoggggAACCHhHgGDHO31BSyIL3HLLLfbKOHrqAAAgAElEQVTGv3Xr1pELs9V3Au7vIp2/hxcCCCDgRwGCHT/2Gm1GAAEEEEDA5wLumynm2PF5Z2Zw818aNcqGOmXLlXMm+M3g0826Uzty5Ihdxl1H64x6+eWsM+CEEUAgMwQIdjKjHzkLBBBAAAEEfCVAsOOr7srKxq5YsUKOPe44J9gpVLiwLFq0KCsdMvmkdULqm266SRo1aiS6fP3vv/+eyafLuSGAQAYLEOxkcOdyaggggAACCHhVgGDHqz1Du1Rg165doqsjmQmT+/brBwwCCCCAAAKeFSDY8WzX0DAEEEAAAQQyV4BgJ3P71u9ndujQIWnQoIENdW644YYcS277/RxpPwIIIIBAZgkQ7GRWf3I2CCCAAAII+EKAYMcX3ZR1jTx69Kg0a9bMhjq6tPnevXuzzoETRgABBBDwlwDBjr/6i9YigAACCCCQEQIEOxnRjRl3Em3atLGhzmmnny7r16/PuHPkhBBAAAEEMk+AYCfz+pQzQgABBBBAwPMCBDue76Ksa2CnTp1sqHP8CSfIl19+mXUGnDACCCCAgD8FCHb82W+0GgEEEEAAAV8LEOz4uvsyqvH6+FWHDh1sqFPkmGNk5scfZ9Q5cjIIIIAAApktQLCT2f3L2SGAAAIIIOBJAYIdT3ZL1jXqyJEj0qpVq4BQZ9r06VnnwAkjgAACCPhbgGDH3/1H6xFAAAEEEPClAMGOL7stoxq9f/9+adKkiQ11jj3uOPngww8z6hw5GQQQQACB7BAg2MmOfuYsEUAAAQQQSIvAggULQi4VnVuw8/PPPzNxbVp6LDsOqtfXJXXr2lDn5KJFZe7cudlx8pwlAggggEDGCRDsZFyXckIIIIAAAgh4R2DAwIFS8oILpGPHjrJ06VLbsFDBzh9//CHjxo+XG2+8Uc4qXlx+++03W55fEEiUwLJly+T8EiVsqHPOuefKihUrElU99SCAAAIIIJByAYKdlJNzQAQQQAABBLJH4M8//xRdNvr/8uVzfk486SS5sHx50Ztp81nVatWcvwsWKmQ/69q1a/YgcaYpE3hz3Dg57vjj7XVWvUYN2bp1a8qOz4EQQAABBBBIhgDBTjJUqRMBBBBAAAEErECv3r3tjbQJcyK9a/iza9cuuz+/IJBXgQMHDkjr1q0DrsNbbrlFdJQYLwQQQAABBPwuQLDj9x6k/QgggAACCHhcYO/evVK0WLGAm+pIwU6nTp08fkY0z08Ca9askZq1atnrL3+BAvJcz54h537y03nRVgQQQAABBIwAwY6R4B0BBBBAAAEEkiagj1ZFCnPMNn1M5pdffklaO6g4ewT+/vtvGTpsWMCjV6eedpp8+NFH2YPAmSKAAAIIZIUAwU5WdDMniQACCCCAQHoF9NEqfcTKBDjh3tu2bZvehnL0jBBYtWqVXF6vXsD1Vv+KK2TLli0ZcX6cBAIIIIAAAm4Bgh23Br8jgAACCCCAQNIE9BGrcIGOfn7MscfKtm3bknZ8Ks58AZ0zR6+zwkWK2GutyDHHSN9+/eTIkSOZD8AZIoAAAghkpQDBTlZ2OyeNAAIIIIBA6gX0ESv3ikTBIc+jjz6a+kZxxIwQ0Meuxr7+esBqa3p9XXrZZaKjd3ghgAACCCCQyQIEO5ncu5wbAggggAACHhNo06aNHUnhDnYKFS4smzdv9lhraY4fBGZ+/LHUqFkz4LrSuXRGvfyyaODDCwEEEEAAgUwXINjJ9B7m/BBAAAEEEPCQwI8//ij6aIw71NHfH3jgAQ+1kqb4QeDzzz+XKxs0CLiWChYq5CxrvnPnTj+cAm1EAAEEEEAgIQIEOwlhpBIEEEAAAQQQiFbgkUceyXEzvn79+mh3p1yWC8ydO1caNWoUcA1pOHjDDTfw2FWWXxucPgIIIJCtAgQ72drznDcCCCCAAAJpEti0aZPoo1dm1M69996bppZwWL8IHD16VKbPmJFjpSu9hnS1Kx29wwsBBBBAAIFsFSDYydae57wRQAABBBBIo0DLli2dYCd/gQKyevXqNLaEQ3tZ4MCBA/LqmDFSqXJlGwSaQPCyyy+XTz791MvNp20IIIAAAgikRIBgJyXMHAQBBBBAAAEE3ALr1q2TAgULym233eb+mN8RcAR+/vln6datm5x51lk5Ah19DGv2nDlIIYAAAggggMB/BQh2uBQQQAABBBBAIKkCOuri22+/lXffe0+e69lT9NGri2rXdh7HKn722XLNNdeIrpY18qWXZM6cOfLTTz8ltT1U7k0BfdxK+//OO++UwkWKBAQ6GgLefvvt8tVXX3mz8bQKAQQQQACBNAoQ7KQRn0MjgAACCCCQyQJ//fWXvDh8uJxctGjATbp5lCbS+8033yxr1qzJZB7O7b8C33//vXTv0UPKlC2b4zo56eSTpV27dqJleCGAAAIIIIBAaAGCndAufIoAAggggAACcQroyIu3JkyQEiVL5rhR1zDnhBNPlAoVK8pVjRpJ3br/X3tnAn7VtPfx98U1h8zXTIMGkVs0SWRIkpkoFVGGkiEZShSiUDJW5ohCJFSmujQoVC4qZLgJRVSicinW+3z3+6797rP/5+yzz9n7jP/Pep7z7DOs9Vtrfdba++z13Wv9VlOzx557Osuy/EKPZml0797dsHV1lg1RxMm07f2wu+82TZs1MxttvHGFfqL+IVHwl19+KeJaUDQIQAACEIBAcRBA2CmOdqAUEIAABCAAgbIgsHTpUtO6deuEgfrmW2xh2pxwgrn77rsdR8kSfvyvX3/91bzyyivm0p49zX7VqiWkl5+VSZMnlwWfylyJzz77zAy+/XZHzJHTbL+Qt3WVKubcc8812s5c/YMAAQhAAAIQgEA4Agg74TgRCwIQgAAEIACBNATkR2f3PfZwB+yacXP+BReYr7/+uoKQ4xd2vJ/Xr19vHn30UbPnXnu5tiQEaAYHoXQI/P777+bNKVOcpVS1atd229Ir6Pxt000dIfCJJ59kdk7pNC0lhQAEIACBIiOAsFNkDUJxIAABCEAAAqVI4IsvvjA777KLO3ivV6+eeX/OnIwEHa+4o/dahtPtwgvdpTpasiMBgFC8BOQX6Z577zVt27Z1ltx5RRz7ftPNNnMcZj/08MNm+fLlxVsZSgYBCEAAAhAoEQIIOyXSUBQTAhCAAAQgUKwEVq9e7fjMsQP3E9q2NWvWrIkk6nhFnhEjRhi7dGeLLbc0c+bMKVYUla5cixcvNo89/rjp3Llzwgwr2xfsser225v27dubp8eMMatWrap0nKgwBCAAAQhAIJcEEHZySRfbEIAABCAAgUpAQAN2O4BvedRRRtube4WZON4PHjzYzaPm/vs7wlElQFt0VZSfnIcfecQRcvy+kGwf0FGzq/7RoIHp06eP4zNHy+sIEIAABCAAAQjkhgDCTm64YhUCEIAABCBQKQg8+9xzruCigb52sAoj5CxZssR06tzZPPLII+bPP/8Mlea0009389IW2ITcEpCPnFmzZpk7hwwxp512mpETa69443+/1957my5dupinnn7afP/997ktHNYhAAEIQAACEHAJIOy4KHgDAQhAAAIi8PmiRea8Tp3Np598mnMgWsLTqUMHM3vWrJznRQbxE1i7dq2zVbkG+HKUPGPmzFACjYSfS7p3d0UCLecJIwZJNLLigpzuavZItkFLxT7//PNsk5ddOvkzmj59urn3vvvMBRdcYBo0bGi0m5lfvPF+1jb155xzjpGvHFiWXZegQhCAAAQgUEIEEHZKqLEoKgQgAIFcE5g7Z475x4EHmaOOOMKsWrky19kZLc+QsLN/term5Zdeynl+ZBAvgTvuvNMd+EuoCSPO2Dg9Lr3UTZvJrlmPPfaYm65Tp04ZV0gCxm2DBpnddt/dfPXVVxmnL/UEK1asMDNmzHDEmF69epnjjz/e7Lvffq6Daq9w439fvUYNZ0aOfOrIWTYBAhCAAAQgAIHiIICwUxztQCkgAAEIBBL48ccfzfRp08y4554zzz7zTOavsWPNM2PGmokvv2KWLl2aNC/N1DmwTl1Tp+b+5pNPPkkaJxdfatbOEc0PNzX3q2amvf12LrLAZg4IbNiwwWjpjQb/W229tbP0xoo2YY7ZCjsSA+VjR/lutvnmoXdVWrlypek/YIDZYccdnbQnnHBCDqgUh0ntNKUlVE+OHm369+9vOnbsaJo0bWp22nlnVxTzizb+z9tVrWqOOeYY07dvXzPhpZfMsmXLiqNylAICEIAABCAAgQoEEHYqIOELCEAAAsVD4L133zXt251lauy7n6m29z6xvCSgLFy4MKGSP//8s2nZooVjXwJQvsOC+fMdQan+AfXMl19+me/syS8LAlOmTnVFgq7dumU0W0fCT7bCjtIOHTrUzXv4iBGBpZfIIQe+2263nZtGIoZEj1INqtP7779vnhs3zmjW1KWXXupsL37gQQeZbbbdNqGefsHG/1lL6GrVrm3OPPNMc9PNN5sXJ0xwzkFxJkAAAhCAAAQgUBoEEHZKo50oJQQgUAkJjHhguKm+z76xiDl+UejZsYniTfeLL3byufLyywtGWoKSynlC6+ONZoMQiptA7969XQFh6tSpeRV2tHTLChRy6pssaGbaVVddZbauUsWNa9Nox6YffvghWbKi+E6zY6ZNm2YeefRRc8MNN5jzzjvPmT0jAUazo2w9Mjlqu/HGTZo4u1kNvPVWM+75583HH39sfvvtt6KoM4WAAAQgAAEIQCB7Agg72bMjJQQgAIGcEZD/iprVqjuzWEY99rj5ftkyI98YWra0bu1a882SJQmCz6x33nG+12/ua906J778iNx6y0A3/tlntjO//vqrW3allaDSqEFDJ637QwHenNy2rVOW0U88UYDcyTITAke2bOkIDFoOJXEgzPIrb5woM3Zkx261raM3aLctzWDZYsstUwog/jTe9HG8Fw+JM1rSqCVRk1991YwZO9ZodtGtt91mrrnmGnPhhReadu3amVatWplGjRub/WvVMrvsuquzvCwTwcbG3XiTTZylcUcceaTjB+eWgQPN02PGmNmzZ4derhZH3bEBAQhAAAIQgED+CSDs5J85OUIAAhBIS0DizNtvvWXWrlmbNO7kSZNcoeagugeYDevXJ41nv5S9O2+/w7z5+hvOANx+r5kxbVod59i6a8gQ+3XBjq+8/LJTFjlwXrki986bbUUnvTLR3HB9v7QcbXyOxhVWatepk1LUkYCoba+Tvc4//3xXeJk3b17SOEqXaiv0Y1u1ctJrdywJPVrC161bt1DCSPPDDzcffPCBmTlzpnlzyhTz8iuvGG3bPuqJJxzxZehddxnNaunXr58z66d79+7OrJmzzjrLnHTSSebYY481stHwkENMnbp1HefD2q1Ly7023Wwzt15WdInjKKFKvoXk90bsBtx0k5ETYy2JkxCsrckJEIAABCAAAQhUTgIIO5Wz3ak1BCBQ4gQG3HijK+x0u+CCrGvz4vjxjh3tSvXD999nbSeuhBKaWjQ7zCnTkDvujMtsWjvamUuzlr777ru0cYnwvwR23mUXR8Bo2rRpUmFn4sSJRg54o4oax7dpY1atWlUhjzPOPNO1fU7HjkYCT9S8CpVes560M9XhLVqYDh06ODN6tO24/N3MmTPHWTYm8YoAAQhAAAIQgAAEkhFA2ElGhe8gAAEIFDkBO8tGYoSWamUbtCxLNi7rcWm2JmJP9/ijjzllanJoo7z52pGDanFY8vXXsdenXA1aYadZs2YVRBeJECedfHJsQsv0GTMq5HFmu3aufS1DyqcoIx89clKsLdO1hEozd7Q07cQTT3SEmYsuusiZ6aNduIYMHWoefOghZynWKxMnmrfeesvMnTvXLFq0yFmutWbNGqdu5dpPqBcEIAABCEAAArkngLCTe8bkAAEIQCBWApq94HWqrG3KswkSMawd7b5VLEFObyWy6DXljTfzUiyEncwxyx+MxJRGjRpVEF0k7Mg5cb8bbjDaMSvZq+4BB7hiTPsOHZLGUbrx48cnXY512umnu+k/+ugj06lTp9CzdmrVqmVuvPFGc9ugQeauYcPMiJEjzeOjRplnnn3WvPTyy+b1N94w06dPd3aemj9/vrPUSbO5tGX6unXrEGIy7y6kgAAEIAABCEAghwQQdnIIF9MQgAAEckFg4suvuMKHli1lG+6/917HTu0aNc0ff/yRrZmcpDu8aTOnbFdelp9duhB2Mm9G+ZaRsLPX3nsnFXYk7gS9ojpPbt68uZO/dr2yQb5munbtmtbPjnaHIkAAAhCAAAQgAIFyIYCwUy4tST0gAIFKQ+CKnpe5ws4tA27Kut6dzznHsXPqiScF2lj878Xm2t5XO86FB958i7l90CBzx+DbzW0DBxr5+ulz7bVGW5V7w6MPP2z6XneduXnAADPo1lvNHYMGG6Xt16eveeLxUd6oSd9L0NGMncMa52cAnmthpxAMk4KN8cuT/2+plZYl/fjjj4EiTjKBJ4qwI4fK2++wgyPs1D/44Aq10nboPXr0SLkzVpVttsnbMr8KheMLCEAAAhCAAAQgEDMBhJ2YgWIOAhCAQC4JrF+/3hxc70BX2Hl39uysstMuWvXq1HXs9L/hhkAbc+fMcfOzS6T8x95X9kqw0aXzuSnTtD722IS4yT48/dRTbvpvvvkmWZRYv8u1sFMIhrECSmJs8O23u0uhxowZk1dh5/05c9y8tW14qqBlfb169TKa1eP3wfPee++lSsb3EIAABCAAAQhAoKQIIOyUVHNRWAhAoLITmDF9hit4NKh/cNazDuSXx4ozL74wPhCrtkq/Z9jdZuidd5pzO3Zy09n0B9apa1579dUEG9o+/IDaddy4jRseYnpdcYW59ZaBRs6R04WFCxe6aWUr1yHXwk4hGOaa2YIFC1yxRDtXJZuVE/RdlBk7V/Xu7eY9/sUX01Z1+fLl5rrrrnO2I7cCT9++fdOmIwIEIAABCEAAAhAoBQIIO6XQSpQRAhCAwP8RuOH6fq7g0axxY2dJlJZFpXoNv//+pOxmvfOOa+ejDz9KGifZl7///rs587TT3bRW3Hlh3PMJ0TVDpe7+tZx4rY4+xqxauTLh93QfNBC3tkcOH5EueuTfcy3seAuYL4bePHP1vlHjxo7Aol2pPvr444zEnWyFnV9++cXssOOOTr477rST+e2330JXT86P+/fv7yzjkm+gDRs2hE5LRAhAAAIQgAAEIFCsBBB2irVlKBcEIAABHwE5ONYsHSt4hDmm8p/z8ksvuXbk/yWTsGLFCtPisOZuepWjVvUaxu6sJQe2DQ6q7/wu8UnLYTINqqutn/zy5DrkU9hRXfLBMNfMZF+7SNkZMG1OOCEvws6AAQPcPLOddbN69Wpz6223mSlTp+YDE3lAAAIQgAAEIACBnBJA2MkpXoxDAAIQiI/A66+95oodElK0vCnZywoi7U4/3WiL5mRBy6FsPIkMmQYt5ap/QD3XhmxJzJHPH7ujlXwBLfrss0xNu/GtD6CLu6X2oeJGjvgm38KOipsPhhGxpE0uJ8YNGjZ0hZZnnnkmtLhzac+ebrolS5aESvf555+brbbe2km3XdWqjtPmtIUkAgQgAAEIQAACEChzAgg7Zd7AVA8CECgfAhI4rBijrcpTBQkG6QSVIXfc6drKdqvz6dOmm5rVqrt2bNl0rFNzf/Peu9Gc0zZv0tSxfV6nzqmqGvi9/PRMnzYt1KtNq+OcvEY/+WSo+LNnzTJaUhU15Jph1PKFST9r1iyjpViauaMlUl999VUokUYzuS7p3t08/fTTRgJRkD8e/aZ+ethhh7li0F3DhoUpHnEgAAEIQAACEIBA2RNA2Cn7JqaCEIBAORDQdtKapSPRpHaNms5Snij10vIm2ZLNKOGp0aMdO15RR+/jcHh8fKtWju0LzuuScRGXLV1mau5XLWnZ/GXN9rO2dI8j5JJhHOULY+Paa691BZeDDz7YyA9OOqEm09+vuPJKN4+mzZrhHydMwxAHAhCAAAQgAIFKQQBhp1I0M5WEAARKncB999zrihT+rcWzqZu2OJegUX2ffZ0BeDY2bJqb+vd3y2ZFkuuv62N/zvp4zJEtHbtdu2Qu7Eg0uPuuYea6a64J9aqx735OXj279wgV/8Z+N5hMfRMFgcgVw6A84/xNs2kOb9HCFV6aNWtmfvrpp9jEHTk8tr58tt9hB2dWUJzlxxYEIAABCEAAAhAoZQIIO6XcepQdAhCoFAQ2rF9vmjZq7IonC+bPj1zvwbfd5trT7IoowYpEVtSxx0cfeSSKWdOoQUOnjNf2vjqSnTCJC+Fjx1uuXDH05pHr9z/88IPZr1o1V4DZZ999zRtvvBFJ3NHuaKeedpprc5O//c1MfvXVXFcF+xCAAAQgAAEIQKCkCCDslFRzUVgIQKAyEpj48iuuCHPWGWfEgkDboFsBJptdq2whHhr5oGvH2rNHzYKZOmWKjZrxUX56ZOuOQYMzTptpgkIKO7lkmCmHqPEXL15satWu7QoxG228sSPMLFiwICOBR1uYDxkyxGg7cztTZ7PNN3d24YpaRtJDAAIQgAAEIACBciOAsFNuLUp9IACBsiNw6kknu+LJlDfejKV+L02Y4Nr89JNPs7I54cUXnaVcEl/kB0dLkw79RwPXrr4/sE5dk419OSa2AlFcvmyCKlkoYSeXDIPqm8vffv75Z9OxY0dXkJEwo5k2TZo0MX2vv95MmTLFrFu3roLQI6fLDz/8sDm7fXuz8y67JKSvVr26kZNmAgQgAAEIQAACEIBARQIIOxWZ8A0EIACBoiGgnaWswCFnwvIdE0eYN3eua3fypEkZm5w5Y4brzPnUE09yBuoyIrt2po0tt3a3kvPnTIJEIpte4keuQyGEnVwzzDWzdPZfe/11c0C9egkCjZ19I6Fn9z32MH/fbTez1157GW1dbn/zHrfYckvTr18/s2bNmnTZ8TsEIAABCEAAAhCotAQQdipt01NxCECgWAhogH/WGWeaxg0PMZ99+llCsc4/9zxX4NAsm7iC/OpYh8F3DL49I7PaRvygugc45WrZokWFHbq8s4GsOKNZR//5z39C5yMxx6b96MOPQqfLNmK+hZ18MMyWRZzpNmzYYJ4cPdoRcbyCTZj3Xbp0MUuWLImzONiCAAQgAAEIQAACZUkAYacsm5VKQQACpULgxRfGu8uZJGQc0fxws2rlSqf4EjSsuHFimxNim61j2ZzQ+njHfudzOtqvkh4lAklw+tcHH5i777rLNKh/sFuuF8Y9b+Tc2R+0c5ctuz1qx6mvFy92XraO/nT28y0DbnLS16tTNy/bWuda2CkEQ8uyGI7r1683ixYtMq9MnGiGDB1qLrroIrPHnnu6s3TatGlj+vTpYx4fNcpZcrXy/86BYig7ZYAABCAAAQhAAALFTgBhp9hbiPJBAAJlTUD+Y6zwYY9NDm1ktF1462OPdX5rcsihZtFniTN54oBit9huePDBgeaeGj26QhltWXX8xjer4oN58wLjK80tN90cmOcZp57m2EgnOgUayeDHXAs7hWCYQfULEvXSSy91hR1m5hSkCcgUAhCAAAQgAIEyIYCwUyYNSTUgAIHSJKClKqedfEpKIeT0U0412kY6F2H6tGluvl98/nnKLCRK1KxW3Vl+pS3IJTRJDNJsGjlHXrFiRULad2bONDX3q2YOqF3HNDiovrNtuU2jJVz7V6seKOzIcXLd/Ws5ZRv95JMJtnP1IR/CTj4Z5opTnHYRduKkiS0IQAACEIAABCozAYSdytz61B0CECgKAitXrDRaelS7Rk1XaDm8aTMz4oHh5o8//shZGf/880/TotlhTp4Db74lZ/lkanj88y84ZZIT5tWrV2eaPKv4uRZ2sipUmScqRWFH5+Pbb79tJk2ebJYtW1bmLUT1IAABCEAAAhAoFQIIO6XSUpQTAhAoewK//fab+fdX/64wAyaXFb/37nscEUUzazJxbpzLMmmXLS3XuvzSnrnMJsE2wk4Cjrx8KEVhZ+KkSe7ysVNOOSUvnMgEAhCAAAQgAAEIpCOAsJOOEL9DAAIQKGMCy5cvd5ZTSUiRI+dCh3/961+OqKMdu7RzVL7CzQMGOLuSrV2zNl9ZVvp8SlHYkfNnu6PXySefXOnbEAAQgAAEIAABCBQHAYSd4mgHSgEBCECgYAQeGvmgI6bIn0+hw5WXX+6Upe911+W9KPJ3RMgfAYSd/LEmJwhAAAIQgAAEypsAwk55ty+1gwAEIJCWgLaiPrblUY6g8vijj6WNn6sIs2fNcpwu1z+gXl6Xo+WqPtgNJoCwE8yHXyEAAQhAAAIQgEBYAgg7YUkRDwIQgEAZE5g3d66pVb2G85r/8cd5r+mPP/7oLIXSkrCXJkzIe/5kmH8CCDv5Z06OEIAABCAAAQiUJwGEnfJsV2oFAQhAIGMCzz7zjDNrp2WLFmbNmjUZp882gXbn6ti+g5P34Ntuy9YM6UqMAMJOiTUYxYUABCAAAQhAoGgJIOwUbdNQMAhAAAL5J3DXkCGOwNKzew/z119/5aUAw4YOdfLULlgSeQiVg0Acws7PP/9sHnv8cfPgQw+Z7777zgE3ZepU07NnT9O1a1czZOhQozjJwuLFi8245583ffv2NRdeeKG59777zIwZM4x2p0sVgpwna9aZyjJi5MhAx9/vvfeeeWD4cPPk6NGBeaUqA99DAAIQgAAEIAABPwGEHT8RPkMAAhCo5ATkZ0fLshYuWJBzEhoMawesW266GVEn57SLK4M4hB2v0HLXsGGmd+/e7q5VdveqMWPHJlT8jz/+cOJttPHGFeIqTfUaNcycOXMS0tgP3vz8u2I9PmqUa+/cc8+1SSocD2/Rwo33zjvvVPidLyAAAQhAAAIQgECmBBB2MiVGfAhAAAKVgMCqVavyVssVK1bkLS8yKh4CcQs7e++zjyuYWFFHx9FPPeVWet26deaQQw9NiLfNttuaPRfBqNAAACAASURBVPbcM+G7zTbf3Lw5ZYqbzr5B2LEkOEIAAhCAAAQgUEwEEHaKqTUoCwQgAAEIQKCSEIhb2LFijgSeUU88YSa89JLp0aOHmT9/vkt00ODBroCz/Q47mJdeftmdKfb111+bo48+2v39Hw0aVFiOiLDjouQNBCAAAQhAAAJFRABhp4gag6JAAAIQgAAEKguBXAg7e+61l/nmm2+SItTMsKrbb+8KNzNnzqwQT/51vLN3Xnv99YQ4CDsJOPgAAQhAAAIQgECREEDYKZKGoBgQgAAEIACBciSQygl3GGEnVVrLySu0yGfO22+/bX+qcHz2uedcUad169YVfrdf9O/f341355Ah9mvn6M0PHzsJaPgAAQhAAAIQgEABCSDsFBA+WUMAAhCAAATKncA111zj7Di1evXqhKoGCTtz5841Xbp0MToGBa/QctxxxwVFNbcMHOgKNmeccYaZNm1a0tdll13mxuvevXuCTW9+CDsJaPgAAQhAAAIQgEABCSDsFBA+WUMAAhCAAATKnYC295b/my232sq0bdvW9OnTxwwfMcKceOKJroBy/wMPmMG3324uueQSU6duXef7li1bpkUTJLT4E3fq1MnNz/rjSXds165dgpmg/NgVKwEVHyAAAQhAAAIQyCMBhJ08wiYrCEAAAhCAQGUkoKVP6UQU/+9Tpk5NiypIaPEnbtWqVcZluP2OOxLMBOWHsJOAig8QgAAEIAABCOSRAMJOHmGTFQQgAAEIQKAyEpgxY0ZGokqzww4LhSlIaPEb0NIuKx4NuOkms3bt2sCXtkb3h6D8vMJO+/bt/Undz4e3aOGW45133nG/5w0EIAABCEAAAhDIlgDCTrbkSAcBCEAAAhCAQGgCWlplhZV0x0mTJ4eyGyS0+A14fexcfPHF/p9DfQ7Kb9zzz7v1O+qoo1LaQ9hJiYYfIAABCEAAAhDIkgDCTpbgSAYBCEAAAhCAQHgCWlqVTtDR74ccemhoo0FCi9/I02PGuPnvvMsuzmwdf5x0n4Py0/bptn7aMv3PP/+sYO6tt94ym2+xhRuPGTsVEPEFBCAAAQhAAAJZEEDYyQIaSSAAAQhAAAIQyJyAllhZ8SPVcfyLL4Y2HCS0+I2sWLHC7LDjjm7+2v1qw4YN/mjOZy3DktNnfwjK75tvvnFtq26jn3oqIfnrb7xhtqtaNSEOwk4CIj5AAAIQgAAEIJAlAYSdLMGRDAIQgAAEIACBzAhoiVUqQUffH1S/vvnrr79CGw0SWpIZuefeexPyl9D0wPDhRj6AJLJoVk/Xrl1N1e23d+L5t2hPl9/RRx/t2v/bppuaXr16mREjR5pjjjnGbLzJJu5vlgHCTrJW4jsIQAACEIAABDIlgLCTKTHiQwACEIAABCCQFQGJNg0POaSCwGGFjrHPPJOR3XRCi9/Y+vXrjbYwt/kFHTfaeGOTqbDz9ttvJyy18ts/oF4907FjRzd/hB1/C/EZAhCAAAQgAIFsCCDsZEONNBCAAAQgAAEIZEXghfHjXWHDK3zUrlMnqV+aoEzeePNN19ZZZ50VFDXhNzk6rlGzppF44y2D3ssHzpEtW5pnnn02IY0+hMlv1qxZplr16gl2t65SxXTo0MH88ssvxuvEee7cuRXy4AsIQAACEIAABCCQKQGEnUyJER8CEIAABCAAgawJaNbOgQcdlCB8SFB54skns7L5008/maVLlxrNxsk0aMvzefPmGYlNcu68cOFC8/vvvweaCZvfd999ZzSjSLNy/vjjD9emnCqrvPL5Q4AABCAAAQhAAAJxEEDYiYMiNiAAAQhAAAIQCE1gzNixCcJO9Ro1shJmQmdIRAhAAAIQgAAEIFDGBBB2yrhxqRoEIAABCECgGAloN6patWu74s5DDz9cjMWkTBCAAAQgAAEIQKAkCCDslEQzUUgIQAACEIBAeRF4fNQoR9jZe5990i5/Kq+aUxsIQAACEIAABCAQLwGEnXh5Yg0CEIAABCAAgRAE5BNHTobvu//+ELGJAgEIQAACEIAABCCQigDCTioyfA8BCEAAAhCAQE4JjH/xRfPbb7/lNA+MQwACEIAABCAAgXIngLBT7i1M/SAAAQhAAAIQgAAEIAABCEAAAhAoWwIIO2XbtFQMAhCAAAQgAAEIQAACEIAABCAAgXIngLBT7i1M/SAAAQhAAAIQgAAEIAABCEAAAhAoWwIIO2XbtFQMAhCAAAQgAAEIQAACEIAABCAAgXIngLBT7i1M/SAAAQhAAAIQgAAEIAABCEAAAhAoWwIIO2XbtFQMAhCAAAQgAAEIQAACEIAABCAAgXIngLBT7i1M/SAAAQhAAAIQgAAEIAABCEAAAhAoWwIIO2XbtFQMAhCAAAQgAAEIQAACEIAABCAAgXIngLBT7i1M/SAAAQhAAAIQgAAEIAABCEAAAhAoWwIIO2XbtFQMAhCAAAQgAAEIQAACEIAABCAAgXIngLBT7i1M/SAAAQhAAAIQgAAEIAABCEAAAhAoWwIIO2XbtFQMAhCAAAQgAAEIQAACEIAABCAAgXIngLBT7i1M/SAAAQhAAAIQgAAEIAABCEAAAhAoWwIIO2XbtFQMAhCAAAQgAAEIQAACEIAABCAAgXIngLBT7i1M/SAAAQhAAAIQgAAEIAABCEAAAhAoWwIIO2XbtFQMAhCAAAQgAAEIQAACEIAABCAAgXIngLBT7i1M/SAAAQhAAAIQgAAEIAABCEAAAhAoWwIIO2XbtFQMAqVPYObMmaZXr15m3LhxpV+ZIqnB+vXrzYcffmheeOEFM3v2bLNy5coiKVnpFiPOfvrXX3857dK3b1+zZMmSooby7bffmhEjRphRo0ZFLmectiIXpkgMxNmviqRKRVuM5cuXO335qaeeKngZw7Z7XOdMmGtO2DIVHF6GBYiz3eNqjwyrkHH033//3bz22mumd+/eZu3atRmnJwEEIFC8BBB2irdtKBkESoLAWWedZWrXrh3La/To0W6dP/vsM/Pf//3f5r/+67+c15gxY9zfeJM5gS+++MK0atXKbLHFFi5Tsd1oo43MGWecYebPn5+50ZApbrjhhlD9o27duuawww4zp556qrnsssvMhAkTzC+//BIyl8JEi6Of/vzzz+b555833bp1M3vssYfbPu+9915hKpUi119//dVMnjzZXH311ebggw92y9m+ffsUKVJ/Haet1LmU7i9x9KvSrX3uSy4x44MPPjC33nqrad68udl4442d/nzeeeflPvOAHILaPc5zJpNrTlCZAqpSlD/F2e5xtkeuYS1atMjcd999pm3btmbrrbd2r90//vhjrrPGPgQgkEcCCDt5hE1WEChHAtOnTzdDhw41tWrVcm8WrBij47bbbmt22mmnhJduLLyijY0/ZMgQF5FuQuz3OurpEiE7Ao899ljCzZyXq31ftWpV8/HHH2eXQZpUH330kbnnnntMo0aNEtrU5q1B1VZbbZX0t7/97W/mmmuuMevWrUuTS2F+jqOf3nbbbUb1tDzssdiEHQl02223XYVyZiPsxGmrMC2f21zj6Fe5LWFpW5ew8fe//90Rtu35pmOhhZ2gdo/znMnkmhNUplLrBXG2e5ztkWuO1apVM5tttlmFazfCTq7JYx8C+SWAsJNf3uQGgbIloCU9VapUSbhxuOmmm1LW988//zRffvmlufnmm92npYMGDXLjS2TYdNNNHXsSgd599133N96EJzBp0iS3TdQ+DRs2NAcccEBSIUEDHbVJrsKGDRvMvvvu65ZHA6mTTz7Z/Pbbb06Wmp2zYMECc91115ntt98+IZ5uTD/55JNcFS1ru3H1UzHQueAdZBabsGMhaXaX96lvNsJOLmxZm+VwjKtflQOLXNbhu+++cx4+2POu0MJOmHaP6/wLe80JU6ZctlEubMfZ7nG1Ry7q6bWpGUYdO3ZM+I9B2PES4j0ESp8Awk7ptyE1gEDREGjatGnCTYP8uIQJdkCrozdokD98+HCjZUSEzAlIbJNYo0HLlVdeaXRjZ4Nu6vv161dB4Dn99NNtlJwctXTPDqJ01EyeZGHFihUVRKAWLVoki1rw7+Lqp3Pnzk1gU6zCjoA3adLELWsUYSduWwXvDDEWIK5+FWORytKUdyZhoYUdAQ7T7nGdf2GvOWHKVGqdI852j6s9cs1w7Nix7nVb/78IO7kmjn0I5JcAwk5+eZMbBMqawPHHH59w0xBW2Pn++++dpVkSGgjxEdDSNt28XXzxxSmNylmoV2jRkiA7gyZlogg/dO3aNSG/e++9N6U1CRvesum9lv6Va9CTcW99i1nYadmypVvWqMJOnLbKtW9Qr9wRkF8ve94Vg7ATpqZxnTOldM0JwyWTOHG2e1ztkUn5s4n70ksvuX1dfR5hJxuKpIFA8RJA2CnetqFkECg5AieccELCTUNYYUcVveqqq8xzzz1XcnUu5gI3btzYccarXTCCwtFHH53Qbp9++mlQ9Ei/XXjhhQl5BQk7ysi/JOv++++PlH8xJy6lQdZRRx3ltmNUYSdOW8XcvpStOAnEOcDPVw3jOmdK6ZoTN9s42z2u9oi7jn57CDt+InyGQHkRQNgpr/akNhAoKIEowk5BC16GmctfjZwS33333Wlrd/vtt7uDdD3F03bouQqZCjve3ZdUNgmA5RpKaZAV50AmTlvl2jeoV+4IxDnAz10pEy3Hdc6U0jUnkUD0T3G2e1ztEb1WwRYQdoL58CsESp0Awk6ptyDlh0AREchU2Pn3v//tOPNdvHhxylosXLjQ9O3b1zzxxBMp49gffvjhBzNq1Chnq2z5irn++uvNuHHjzDfffGOjJBxffvll88wzzyS8ZsyY4caRs1//7/o8bdo0N47/zZo1a8wjjzxievTo4fz0xx9/mAceeMCcffbZpnPnzikdAMuHwciRI80ll1ziOBTWTlBvvvmmSTfbxp+//ayyv/XWW6GWVYmRXYqg4+rVq62Z2I+ZCDvr16+vsFvWgAEDQpUpW55yNn3jjTeac845x9nWW/1Og5/XX3/dyO9PqpBJP9XOLK+88oqz05vtp1OnTnXy8baDdylWLvqqfC5px7Rrr73WyPeRtr1Xv5s1a5bRtsBBIc6BTCa2sm1X1SVKfTM9r5ctW+aIqlp6aIP6iPiqzXUeiL36eFAI06/iysuWI9PrqE1njzpfVE85z49rqUeUtrPlSnVMNsDXNVDX7W7dujntpf8gXQP8IRfnpfJI1+6ZnDOyl801x1/XdGVS/Dj7YtR+6C+//3OUdvfbyrQ9fvrpJ/Pqq68a7U6me4MOHTo454z+f9JdE2zeatMXX3zRaHcuXVO6d+9uNKNV18hUIUjY0Zboye537HerVq1KZZbvIQCBIiGAsFMkDUExIFAOBDIVdjRo1kDWv/Tn22+/NXfeeafxzta4+uqrAxFJ0LHLdvbbbz9ne3U7SNauWgceeKCzI0SfPn2MXvIt07NnT7P77rsniBonnXSSm89//vMfoxu2XXfdNSGOtub2Bt2Ivfbaa6ZLly7uzmAqgwaDhx9+eEJa7e7kDbpZkg+cjTbaKCGeLXu9evVy7jxaN4M2vz333NNbvNjfZyLszJw50y2XLd8777wTWKZseWoQIefMymfzzTc36sutW7dOaBev6KdCZNNPNZi3287qqB3KlJ/yPeSQQxLq6xV24uqrFt6tt97q7ga02267Of3clktlUf3V/1OFTAcyqezo+zC2sm1Xm2829c30vJZQPXToUKcfabacOMp5uURWCQP2O31vX0cccYTR7DpvCNOv4srLm6/eZ3Md9drQNW+bbbZx63fMMcd4f87qfTZtl0lG/gG+hG5vHWxb6ahrgnZUsiHO8zJMu9t8w5wzNm621xylD1OmXPTFqP3Q1j3oGKXd/XYzaQ9tCKF7CPUn7S7ovwfR54kTJ/qzSPj85JNPmp133tmxod1D99lnH8dPoWzqXkKCsjZP8IcgYUcPkk455ZSE/zzZ+8c//mHatWtnlixZ4jfHZwhAoMgIIOwUWYNQHAiUMoFMhB3NZKlfv75zY+IVdh566KEKNxa6uQgSdh588EF3IDFw4EAHoWYcyH+L0iZ71alTx4mnJ7M77rijG8cr7Ni20ABPAxRrZ8stt7Q/OUeJIfY3e9S23rJlP9ujRKZ169Y56XTjtffeeztxJHhoO289ydNsDq/N7bbbLqfbkHvFFg1Acxm8eYlJKh87msXlZaC4ErmCZpJky1M2jzvuOKcddIPuHWhr1pMVXnTja0Om/fTPP/90diaz/UA7wFkn1RIt5KfG/maPXmFH+cbRV2VHbWzz0NNeG8TP6wQ0yOl2JgMZaz/VMZ2tbNvV5pdtff39T8yCzmvtPGcHW5avBAJ7XdR77Z5TtWpVl7/ieXcDDNuvdD2MmpflY49RrqPWxoQJExLqJrEwSsi27TLJ0zvA16Ba12jbfsmO+t9au3atm0Uc52XYdreZpjtnFC/qNSdsmeLui3H0Q8sp6Bi13b22w7SH+oz9n5HIO2zYMEf0lR0JaHLc7e1v/fv392bhvNd/1WmnnebE22KLLRwh1v6PvPvuuwl998gjj6zwfxkk7CgDiTdW1GzQoIGZN29ehTLwBQQgULwEEHaKt20oGQRKjoAdwNibE81g0c2L9zVo0CDTq1evhK2svcKORI8vv/zSWXpl7eiYStjR00I99VIcPbnybuktgCqD187DDz9s3njjDeOd+eEVbZIJO7IzePBg145f2Pnqq6/M7NmzE+qkPCUIjBkzxmh69V577eWk1xNfG7T0RfFURn/45z//6eanOHpilougWRl2ppMGYeKZy5BO2NHTcLHeY489Euov8U39Iihky1P9z/YRPa33By3/0u/ep6iZ9tMRI0a4eSS7YdcgzD+7yy/sqFxR+6oGAeq/tr4aDHiDnpTb33SDn2opYJiBjNdu0Pt0trJtV+UZpb7ZnNdqx06dOrkMxVI7zWkmj2buKCxfvtzUqlXLjSOBxoZM+lXUvGyeOsZxHZWdL774wqmv7UMahGYborRdJnl6B/gqt8S7Z5991hFStfxIS8r8Myp1HfOGqOdlJu2ufNOdM4oT9ZqTSZni6otx9UNv26R6H0e7W9th2kP3MPa80I6V/iCGWhJr4+ioZVDeYP3hbbLJJsZ/7Va8Nm3aJKTXskhvCBJ2Pv/8c6MZxcpXM9HCLgnz2uc9BCBQWAIIO4XlT+4QKCsCfmHHe4MS9N4r7FggejJlBRulTSXsaMBkbWu2gT9ocGx/1zHZrkonnniiGyeVsOOd/eMXdmye8qHjzUs+c2yQgKIZOTZI8LFxU/kAql27thtHcZcuXWqTx3b0bneuAUyug1/Y0TTv888/35x66qlGTwj9y1X09Pzcc881WioVFKLwfPrpp13OyRjIt44G588//3yFIoTppxIbd9llFyePbbfdtoL4aI2OHTvWLYfaO5mwE7WvfvDBBwl5aAmhN3z//fcJv6fyfxVmIOO1G/Q+yFaUdlWecdQ3k/NaeWqphT23dfQzVhxdG7xxNGvLG8L0q7jykp04rqO2/BKlxUxLqKL42Imj7WyZgo7eAb5mRyZbcvL4448nzIaQaO/1uRX1vLTlC9vuQeeMbMV5zQlbpjj6fZz90DJNdYyj3a3tdO0xf/58V/CUkCvRLFnQrB79R9hrg5ZyanazgoQcCTr6TbN7kgW/vzydQ96QStiR7Z122smxL99SBAhAoDQJIOyUZrtRaggUJQG/sCOR5J577kl4aTZG79693SdDuklJJuyogvvvv797g5NK2PEuYZEDwWRB68/tjZKcevpDXDfl3mUDVapUCXziJSFDZdKTYA1ek73q1q3rlltx9RQ5zqAn4vIFJNta5mRvIOPMw2/LL+zYdvEftURNT5xTiV5+u1F4esUDTW/XUjh/0JNU71Is7+/p+qlm6Nj6BS1v0m5kNp6OuRB2NEhr2LChk0/NmjXd5WC2PhoQesuQaip+uoGMtRfmGGQrSrsq7zjqm8l5rTzl08TLUE/i/UEO2L1xku1El65fxZlXHNdRfx2jfo6j7cKUwTvAT/UfIjtHH310Qpt5HxLE9R+ifMK0e9A5IxtxXnPClimOfp/PfhhHu4uNQrr2kDN+e76rjkFBGyjYuDpK8Fe44IIL3O+TXS+sTd3jHHTQQcYuS7ff65hM2NH/nR5WSVBKJkJ70/MeAhAobgIIO8XdPpQOAiVFwC/svPDCCynLr2m+1jlyFGFHzkftTVCjRo2S5mfXtSveFVdcUSFOXDfl3gGgBJNUQQMWr18fW/50R4licYZ+/fo57PQEMddLsGy5/cKOmGnJi7cNxEHOJT/66CObLPAYlaemoHuXWljnk2FnG6QbiB166KFuHw16Ghpm62Evp2xnl2lJkPLyCw5adqLd3Lz90Ltk0dsI6QYy3rjp3qeyFbVdbb5R6xv2vLb5aXaHl6Gfs+Kpb3vjJBPx0vUr2Ykrrziuo7b+cR6jtl2YsngH+KlmQsiOfzaE3flQv8VxXtqyhmn3VOeMtRHnNUc2w5Qpjr6Yz34YR7tb3unaQw9O7Pmu60lQmDNnjhtXaezOeloiqM+a1ZrtQxi/sKNduWRPDzTC/t8GlZ3fIACBwhJA2Cksf3KHQFkRyETYUcVT7YploYS5mfQ+CdPNiRyt+sPJJ5/s3ijJMaM/xHVTHnYAqGnZ9iZPvjbmzp0b6qUdZ+IK2uFJPonETP6B8hX8wo51nqylKHZ9v2WjG1k5k04X4uCpm2ebrz3Kye19993n+kZJVY50/VSzt6xNbY+cKuRL2PHmr4GzBqx2QKWp/7asOhZS2ImjXb111fts6hv2vLZ5hRnghmnrdP1K+cWVVxzXUVv/XB2zabswZQk7wNcyGe+5of87G+L6D5G9MO2eTkiI85oTtkxx9MV89sM42t22f1B76CGW/mtt30m23Nfa0VHLtGxcHTVTTA8/7HfyP5dt8As71qaWeGkWIQECEChtAgg7pd1+lB4CRUUgU2FHznC13XOq2SJhbnC9/lF0k6Jt0r1BT7bkN0G/aSZGMv8Jcd2Uhx0AanBvb6i0w0q+g/ymaJaO/MYECQ25KFcqYUd5yR+AhCbLRkft7JHOiWMcPNVP7G4j3vz1Xn6AFixYkBJHUD9Vf/Pae/XVV1PaCTPYj6uvahaJRE67FK958+bOErSff/45obyFFHbiaFcLO0p9w57XNq84BriyFdSv4s4rjuuoLVPcxyhtF6YsYQf4smUdzeuc1oDbhrjOS9kL0+5BQkLc15ywZYqj3+ezH8bR7rb9g9rjs88+S7imduvWzSZLedxhhx3cNJrt470WajZrtiGVsKP+LD9w2ryAAAEIlC4BhJ3SbTtKDoGiI5CpsJOuAmFucPUU17sjiYSBKVOmuKZHjx7t3iDJmWeyENdNedgBoPcmTaKT6pCvoIH7gQce6Ey/9u+4kY8yBAk7yv/RRx9128sKIpdeemlg0eLkKZ9QXqfdtgxylqrd1JKFoH46ffr0hPpoV7ZUIV/CjvwWadmi6qa6PvLII+62uH4fO8Ui7EQ5T6LWN+x5bds1jgGubAX1q7jziuM6assU5zFq24UpSyYDfD2IsNeEyy67zDUf13+IDIZp9yAhIe5rTtgyxdHv89kP42h32wGC2sMvtB1//PE2Wcqjd+lW27ZtK/jGyVaA8Qs7+r/VBgW2Tzdp0iTlTogpC8sPEIBA0RBA2CmapqAgECh9AoUQdkRNU+T1FMzenGjNeLNmzcyxxx7rzNLREy5tE5oqxHVTHnYA6PevkUow8Jc3lS8if7xUn8VJXHQjJ0eXhQjphB2Vyesk0rZpkCASN89vv/3WaEmA94ZX5dBT1GQiXNBAzP+0Vn6NUoV8CDu//PKLO0tHdfLv9FVMwk4c7RpHfcOe17Zd4xjgylZQv4o7L9mLeh21ZYrrGEfbhSlLJgN8O8NN544EURvi+g+RvTDtHiQkxH3NCVumuPp9vvphHO1u2z+oPTTjTLNj7X+ZnNanC95+1qdPnwq7+1mHyuns+H/3CzvyI9erVy+3bCpjkIN/vz0+QwACxUUAYae42oPSQKCkCRRK2BG0t956yxFxtANWx44djZ6KaXA+ZMiQtDsrxXVTHnYAKF859iZPR+38ky5o5wotJdNa+2zC77//7ghdyk9+Y4KCliV5By1BcTP9LYywo926tPzJy0g+CmbOnJk0u6g8J02aZC6//PIKtmfNmmX22muvhHK8/fbbFeIFDcS0zb1XINKT2FQhH8KOBgmWq2Zu+UMxCTtR21V1i6O+Yc9ryzKuAW5Qv4o7L2svynXU2ojrGEfbhSlL2AG+nHl7faW8//77rvm4/kNkMEy7BwkJcV9zwpYprn6v/PLRD+Nod9sBgtpDcbwzcHT9TeeoWDNE7XVauzb6l8jWqVOngvN7WxZ71LJ03QN5QzJhR//3jRs3dvNTvoV68OMtK+8hAIHMCSDsZM6MFBCAQAoC3t2ndHMQtCtWChMJX4e5wVUCbdGpG6EzzjjDZONgWLsL2ZuoFi1aJJTBfrj++uvdOFrulSxkMgD0CwaDBg1KZtL5Tk9gtYuWttzOJmiWid02OszOWtddd50zqyObvNKl8c/G0dKnZEEClpwX23bRcdddd00p0kXhKSfe8p2RbDbOsmXLjLZet+VI5vgyXT+Vg2ybXsdU26b7Z6i8++67FdBE7at2q3OVQwMbf1B9vWVNJaalG8j47QZ9DrIVpV2VZxz1zeS8Vp5xDXDT9as485KtqNdR2YgzxNF2YcoTdoDv3a2oadOm7vJF5RH1vPSWM0y7B50zshXnNUf2wpQprn6fr34YR7vbdkvXHnfddVfCdbV37942aYWj12m8/pfsBgLawtx7bQ76L3/99ded5dbDhw9PsJ9M2FEE+d3z/t/qfkqbOhAgAIHSIoCwU1rtRWkhUNQEdLPrvfGI+tTHO6D2+jPwQtBNlRan/wAAD/RJREFUkHW4m+2NiHcWiZZt+devf/3112bPPfdMqJueivqD9wmz4gcFPU3zstKsDq1318wab9ANmkQd7VqxaNEi70+h3uspc+fOnZ28JKosXbo06Ut1loPgq6++2omrbVBtWL58ufPkT7OhOnXq5OzaYX/L9NiuXbuEeg8cODClCc1S8s52ES8N9jSjxx+i8LS7s+mmN1m46qqr3DIrrj+k66eaIeVtaz1tlYDiD2LujSffQf4Qta+qDW0eWrL4ww8/JGSh7djt7zqOHz8+4Xf7we6ipThnn322/TqrY5CtKO2qwsRR30zOa+WpZYNehlqK4Q+a7eGNk2y783T9Ks684riO2jpqpzv5opEfJ+2+l22Io+3C5B12gC9hXW2ma7F/xkXU89JbzjDtHnTOyFac1xzZC1OmOPp9nP3QyzTZ+zja3dpN1x7ardMrnOy2224p/0d79OjhXhtGjBhhs0jqf07LprR0zQY9nHjooYfMZptt5swS8m88MGHCBNe2+rKWYtng/01tnux/SvHjvCew+XOEAASiE0DYic4QCxCAgDHOYNt746KbhmTLW8LCksAhkcUOfiQIJAtyrGvjaJq8nlS2adPGESIuuugio0F5//79nZudTz75JJkJ5zdrQ0ctUdHuRf/85z+NZupsueWWbh42Xvfu3Y13Kr4Me/38qCzJBAhbAN2MaWcqa88e5cxW0/ply7scaeTIkTZpRkfvTaLNI91R/gC+//57Nx/x86YJelLoJkrxxvvkVzbPPPPMFDH/92vvbAlbBjmT1Jaw3hCFpxV25PsgmWDXs2dPp/5qU4l83hCmn6ps2qLWll9Hbe0uIUlT7FevXu3s5ub9Xe+13fu1115rPvzwQzdL3bR742XaVyXCeNO3bt3a2dJcN/WadeAX0jp06OCcB5rF5Q01atRw7ch5eZQQZCtKu6pMcdQ3k/NaecpJu5exv88ojnwbeeNMnjw5AWGYfhVXXrITx3VUdlRXLRm1dVPbZhviaLsweXsH+A0aNDBamuIPmo0iIVT18p8Lihv1vLT5hW33oHNGtuK85oQtUxz9Pq5+aHkGHeNod2s/XXsons5x77lxyimnVFhOpeW/9r7n0EMPTfhd/03+WTvqj/q/Vlxdv60Ap/uIf/3rX7Z47tG7mYTSev9bFOmKK65wz139rvwk4vhDnPcEftt8hgAEsieAsJM9O1JCAALGGDma1dISv38d3RRoJo1mZOhptAawYYNmEfhvMHSzo4Gwbli9wX8zqXyDXhIWtM26N0gk8M/I8dqoXr268d8Q6XcJM9rxQk/jJA5ss802CXnL14+WFCV7Yq/8teNQMnHHm7cG2tkKKclEEa/tVO+1pM0bvP4jlEbOFjMJmkounwl25pA3Xw2WJF5oyY+dcu61LXbaVtibRu8POeQQIweS3ieO2fK0wo7sakbQvHnznGUWmt2kpWLWr8bdd9/tLZoz2yVsP5WomKqtrZji3XHH1leCkPqeDVH7qnZCs7b9Rw06dD75lz8pnradV9C5qeVo3rSawfDcc89VODdtmVMdw9rKtl2Vb5T6Znpea3acZnLoeuHl07Vr14S+/fnnnzv91xtHfdwKQGGuf3HlZdsmjuuobPmf+m+77bY2i4yPUdouk8wk1HjbQv5QNEtL4psEHfkp0e/6P/POoPDmEfW8lK0w7R72nJG9OK45YcoUZ1+Mqx962ybV+zjaPZP2UDk0K9f7oEgPocaNG+csexo2bJi7I6MeZEnw9wfNrLXijbfPet9XqVLFeTDlTav7pqlTpyY8LFKa9u3bmy+++MKNKhFPM4S99vQfpP8+LdeyIeo9gbXDEQIQiJcAwk68PLEGgUpHoGXLlgk3Ad4bAu97LfEJE5IN/r12NAjWFrg26Omqf3DtjZ/s/S677GLkJNYbtMypfv36CXXRQFdTnRVXwoRs6aZKN4Tyf6IbWk11tkvBkuWl75I5qbV562ZJjp6T2RBb+XXIJmjGjRUMUpUr1ff+XbrkvNHGVTlTzXxKVU7N3LLpg45aKpYs6Imhf8aLtXPjjTcmJMmGp4Qd3QxL1LFOK1VPy0/95amnnkrIJ9N+qsS6gVY67w4pqofyllimp6f6rJlvEgPU59TH/CHbvmrt3H///QlPjiXMSLixM9DkcFzfWcaakZNqVpGNY4/JnEvbfL1H/xIrm9579NrKpl1tftnUd8WKFUnPSW/5/Od1un4u8Uv9yGvD/17t4P/O+9le/+LIy7vMLq7r6KpVqxLO1aBd4Gz7BB2zabtkA+KgPPTbs88+a+RfLdl1WH5O9OBi4cKFgWainJdhridi6e0Lyd57zxkVNso1J0yZ9F8cZ1+Mqx8GNpTnxyjtnuk1zGYrn3kSRvz/A3rIoWtK0A6QsqGHGWKu5VbePqBrw+mnn+48bLN52aP+w7xx/e81c1b3OV7RyR9HnyV2K0S9J7Dl4ggBCMRLAGEnXp5YgwAE8kxAsyo0DVk331o+penO8u2jp1+aLaQnr/LP06VLF8fngx2wyn9LsiA/PRqAaRmWttu1QQM9+YtINtC2caIcNc1aT9R0w6QZChogFVPQzejTTz9ddOVKxSgTnmpnO/NHQp12p9LsMN30673fT0GqPMN+r6e8U6ZMcWaTaIaHndGlAan6r56ahglR+qpmRykvnTN+kVN5SxjUeaB2L6aQSbt6y12q9fXWIZfv47yOqj+p7/iXeWRb/ny2na7vmjklcVszKbyzGcKWP8p5GTaPTOPFdc3JNN9M48fZDzPJO452zyQ/xZVIMn36dOd/RoJcphs/aBb07Nmznf8R3TMku45nWqZM4pfaPUEmdSMuBEqVAMJOqbYc5YYABBwnx7vvvrvzJCqVUOPHpBsgPXnSGnECBCAAgcpOQMs7uI5W9l5Q+PrTDwvfBpQAAhAobQIIO6XdfpQeApWagF22kImDTvnEkbCTyldCpQZK5SEAgUpHgOtopWvyoqww/bAom4VCQQACJUQAYaeEGouiQgAC/09ADpDtGnD5JAkzDVkOLuUYWH4U7Frx/7fIOwhAAAKViwDX0crV3sVaW/phsbYM5YIABEqJAMJOKbUWZYUABFwCWt9thR0d69SpYyZOnJjUP4n8C2iGjnY7kUNk7bZCgAAEIFDZCXAdrew9oDjqTz8sjnagFBCAQGkTQNgp7faj9BCo1ATs1G2vwLP11lubunXrmubNmzu7XP397393dwDSNsTajpcAAQhAAAL/S4DrKD2hGAjQD4uhFSgDBCBQygQQdkq59Sg7BCo5Ae0ioe2ut9pqq4TZO16hR+932203Z8ZO3LsbVXL8VB8CECgDAlxHy6ARy6AK9MMyaESqAAEIFJQAwk5B8ZM5BCAQB4Fly5Y5W3FL5DnrrLPMqaee6mxzPnr0aDNv3ryky7PiyBcbEIAABMqFANfRcmnJ0q4H/bC024/SQwAChSOAsFM49uQMAQhAAAIQgAAEIAABCEAAAhCAAAQiEUDYiYSPxBCAAAQgAAEIQAACEIAABCAAAQhAoHAEEHYKx56cIQABCEAAAhCAAAQgAAEIQAACEIBAJAIIO5HwkRgCEIAABCAAAQhAAAIQgAAEIAABCBSOAMJO4diTMwQgAAEIQAACEIAABCAAAQhAAAIQiEQAYScSPhJDAAIQgAAEIAABCEAAAhCAAAQgAIHCEUDYKRx7coYABCAAAQhAAAIQgAAEIAABCEAAApEIIOxEwkdiCEAAAhCAAAQgAAEIQAACEIAABCBQOAIIO4VjT84QgAAEIAABCEAAAhCAAAQgAAEIQCASAYSdSPhIDAEIQAACEIAABCAAAQhAAAIQgAAECkcAYadw7MkZAhCAAAQgAAEIQAACEIAABCAAAQhEIoCwEwkfiSEAAQhAAAIQgAAEIAABCEAAAhCAQOEIIOwUjj05QwACEIAABCAAAQhAAAIQgAAEIACBSAQQdiLhIzEEIAABCEAAAhCAAAQgAAEIQAACECgcAYSdwrEnZwhAAAIQgAAEIAABCEAAAhCAAAQgEIkAwk4kfCSGAAQgAAEIQAACEIAABCAAAQhAAAKFI4CwUzj25AwBCEAAAhCAAAQgAAEIQAACEIAABCIRQNiJhI/EEIAABCAAAQhAAAIQgAAEIAABCECgcAQQdgrHnpwhAAEIQAACEIAABCAAAQhAAAIQgEAkAgg7kfCRGAIQgAAEIAABCEAAAhCAAAQgAAEIFI4Awk7h2JMzBCAAAQhAAAIQgAAEIAABCEAAAhCIRABhJxI+EkMAAhCAAAQgAAEIQAACEIAABCAAgcIRQNgpHHtyhgAEIAABCEAAAhCAAAQgAAEIQAACkQgg7ETCR2IIQAACEIAABCAAAQhAAAIQgAAEIFA4Agg7hWNPzhCAAAQgAAEIQAACEIAABCAAAQhAIBIBhJ1I+EgMAQhAAAIQgAAEIAABCEAAAhCAAAQKRwBhp3DsyRkCEIAABCAAAQhAAAIQgAAEIAABCEQigLATCR+JIQABCEAAAhCAAAQgAAEIQAACEIBA4Qgg7BSOPTlDAAIQgAAEIAABCEAAAhCAAAQgAIFIBBB2IuEjMQQgAAEIQAACEIAABCAAAQhAAAIQKBwBhJ3CsSdnCEAAAhCAAAQgAAEIQAACEIAABCAQiQDCTiR8JIYABCAAAQhAAAIQgAAEIAABCEAAAoUjgLBTOPbkDAEIQAACEIAABCAAAQhAAAIQgAAEIhFA2ImEj8QQgAAEIAABCEAAAhCAAAQgAAEIQKBwBBB2CseenCEAAQhAAAIQgAAEIAABCEAAAhCAQCQCCDuR8JEYAhCAAAQgAAEIQAACEIAABCAAAQgUjgDCTuHYkzMEIAABCEAAAhCAAAQgAAEIQAACEIhEAGEnEj4SQwACEIAABCAAAQhAAAIQgAAEIACBwhFA2Ckce3KGAAQgAAEIQAACEIAABCAAAQhAAAKRCCDsRMJHYghAAAIQgAAEIAABCEAAAhCAAAQgUDgCCDuFY0/OEIAABCAAAQhAAAIQgAAEIAABCEAgEgGEnUj4SAwBCEAAAhCAAAQgAAEIQAACEIAABApHAGGncOzJGQIQgAAEIAABCEAAAhCAAAQgAAEIRCKAsBMJH4khAAEIQAACEIAABCAAAQhAAAIQgEDhCCDsFI49OUMAAhCAAAQgAAEIQAACEIAABCAAgUgEEHYi4SMxBCAAAQhAAAIQgAAEIAABCEAAAhAoHAGEncKxJ2cIQAACEIAABCAAAQhAAAIQgAAEIBCJAMJOJHwkhgAEIAABCEAAAhCAAAQgAAEIQAAChSOAsFM49uQMAQhAAAIQgAAEIAABCEAAAhCAAAQiEUDYiYSPxBCAAAQgAAEIQAACEIAABCAAAQhAoHAEEHYKx56cIQABCEAAAhCAAAQgAAEIQAACEIBAJAIIO5HwkRgCEIAABCAAAQhAAAIQgAAEIAABCBSOwP8AfvizywV6lHgAAAAASUVORK5CYII=)"
      ]
    },
    {
      "cell_type": "markdown",
      "metadata": {
        "id": "bpZka7Ma51Rg"
      },
      "source": [
        "After 2 convolution operations input of those 2 convolution is added to their output."
      ]
    },
    {
      "cell_type": "markdown",
      "metadata": {
        "id": "iM3HNb9k6a4l"
      },
      "source": [
        "**Basic Block**\n",
        "\n",
        "Each basic block constitutes of 2 convolution operations.\n",
        "\n",
        "Each convolutional layer is followed by a batch normalization layer and a ReLU activation function.\n",
        "\n",
        "except if downsample has to be applied the 2nd conv layer's output is added to input before applying relu."
      ]
    },
    {
      "cell_type": "code",
      "metadata": {
        "id": "dAq5Vah45V0V"
      },
      "source": [
        "class BasicBlock(nn.Module):\n",
        "    expansion = 1\n",
        "\n",
        "    def __init__(self, inplanes, planes, stride=1, downsample=None):\n",
        "        super().__init__()\n",
        "        self.conv1 = nn.Conv2d(inplanes, planes, kernel_size=3, stride=stride,\n",
        "                     padding=1, bias=False)\n",
        "        self.bn1 = nn.BatchNorm2d(planes)\n",
        "        self.relu = nn.ReLU(inplace=True)\n",
        "        self.conv2 = nn.Conv2d(planes, planes, kernel_size=3, stride=1,\n",
        "                     padding=1, bias=False)\n",
        "        self.bn2 = nn.BatchNorm2d(planes)\n",
        "        self.downsample = downsample\n",
        "        self.stride = stride\n",
        "\n",
        "    def forward(self, x):\n",
        "        identity = x\n",
        "\n",
        "        out = self.conv1(x)\n",
        "        out = self.bn1(out)\n",
        "        out = self.relu(out)\n",
        "\n",
        "        out = self.conv2(out)\n",
        "        out = self.bn2(out)\n",
        "\n",
        "        if self.downsample is not None:\n",
        "            identity = self.downsample(x)\n",
        "        \n",
        "        out += identity\n",
        "        out = self.relu(out)\n",
        "\n",
        "        return out"
      ],
      "execution_count": null,
      "outputs": []
    },
    {
      "cell_type": "code",
      "metadata": {
        "colab": {
          "base_uri": "https://localhost:8080/"
        },
        "id": "tga-FiDR6sCV",
        "outputId": "32247eea-0455-4018-981a-13ccbf3c816c"
      },
      "source": [
        "BasicBlock(64,128)"
      ],
      "execution_count": null,
      "outputs": [
        {
          "output_type": "execute_result",
          "data": {
            "text/plain": [
              "BasicBlock(\n",
              "  (conv1): Conv2d(64, 128, kernel_size=(3, 3), stride=(1, 1), padding=(1, 1), bias=False)\n",
              "  (bn1): BatchNorm2d(128, eps=1e-05, momentum=0.1, affine=True, track_running_stats=True)\n",
              "  (relu): ReLU(inplace=True)\n",
              "  (conv2): Conv2d(128, 128, kernel_size=(3, 3), stride=(1, 1), padding=(1, 1), bias=False)\n",
              "  (bn2): BatchNorm2d(128, eps=1e-05, momentum=0.1, affine=True, track_running_stats=True)\n",
              ")"
            ]
          },
          "metadata": {
            "tags": []
          },
          "execution_count": 15
        }
      ]
    },
    {
      "cell_type": "code",
      "metadata": {
        "colab": {
          "base_uri": "https://localhost:8080/"
        },
        "id": "LcbIDC--6zse",
        "outputId": "eb6cdc87-a5b5-46d1-d340-8f5e5d856652"
      },
      "source": [
        "t = torch.randn((2,64,56,56))\n",
        "t.shape"
      ],
      "execution_count": null,
      "outputs": [
        {
          "output_type": "execute_result",
          "data": {
            "text/plain": [
              "torch.Size([2, 64, 56, 56])"
            ]
          },
          "metadata": {
            "tags": []
          },
          "execution_count": 16
        }
      ]
    },
    {
      "cell_type": "code",
      "metadata": {
        "colab": {
          "base_uri": "https://localhost:8080/"
        },
        "id": "tJauftVd62DU",
        "outputId": "debea3cf-9d8f-45db-e9bf-a946df963144"
      },
      "source": [
        "BasicBlock(64,64)(t).shape"
      ],
      "execution_count": null,
      "outputs": [
        {
          "output_type": "execute_result",
          "data": {
            "text/plain": [
              "torch.Size([2, 64, 56, 56])"
            ]
          },
          "metadata": {
            "tags": []
          },
          "execution_count": 17
        }
      ]
    },
    {
      "cell_type": "markdown",
      "metadata": {
        "id": "6zknjl3V8yCi"
      },
      "source": [
        "make_layer()\n",
        "Next 4 layers after initial conv_block are called as layer 1, 2, 3, 4 respectively. Each layer consists of multiple convolution blocks. Conv_block refers to set of operations as in Convolution->BatchNorm->ReLU activation to an input. Instead of adding new layers to create a deeper neural network, resnet authors added many conv_block within each layer, thus keeping depth of neural network same - 4 layers.\n",
        "\n",
        "In the PyTorch implementation they distinguish between the blocks that includes 2 operations – Basic Block – and the blocks that include 3 operations – Bottleneck Block.\n",
        "\n",
        "The make_layer() function takes which type of block to use as an argument, the number of input and output filters, and number of blocks to be stacked together. Every layer downsamples the input at the start using stride equals to 2 i.e for 1st convolutional layer in 1st block of a layer. For all the rest convolution layers stride is 1. Also, if downsample has to be applied to input stride 2 convolution is used followed by BatchNorm."
      ]
    },
    {
      "cell_type": "code",
      "metadata": {
        "id": "OW3JBbRy653G"
      },
      "source": [
        "def _make_layer(block, inplanes,planes, blocks, stride=1):\n",
        "    downsample = None  \n",
        "    if stride != 1 or inplanes != planes:\n",
        "        downsample = nn.Sequential(            \n",
        "            nn.Conv2d(inplanes, planes, 1, stride, bias=False),\n",
        "            nn.BatchNorm2d(planes),\n",
        "        )\n",
        "    layers = []\n",
        "    layers.append(block(inplanes, planes, stride, downsample))\n",
        "    inplanes = planes\n",
        "    for _ in range(1, blocks):\n",
        "        layers.append(block(inplanes, planes))\n",
        "    return nn.Sequential(*layers)"
      ],
      "execution_count": null,
      "outputs": []
    },
    {
      "cell_type": "code",
      "metadata": {
        "id": "756EpAGI82MZ"
      },
      "source": [
        "layers=[3, 4, 6, 3]"
      ],
      "execution_count": null,
      "outputs": []
    },
    {
      "cell_type": "code",
      "metadata": {
        "colab": {
          "base_uri": "https://localhost:8080/"
        },
        "id": "db2r0BTa85w_",
        "outputId": "66cf8226-559c-432f-f815-62f9b5b787b6"
      },
      "source": [
        "layer1 =_make_layer(BasicBlock, inplanes=64,planes=64, blocks=layers[0])\n",
        "layer1"
      ],
      "execution_count": null,
      "outputs": [
        {
          "output_type": "execute_result",
          "data": {
            "text/plain": [
              "Sequential(\n",
              "  (0): BasicBlock(\n",
              "    (conv1): Conv2d(64, 64, kernel_size=(3, 3), stride=(1, 1), padding=(1, 1), bias=False)\n",
              "    (bn1): BatchNorm2d(64, eps=1e-05, momentum=0.1, affine=True, track_running_stats=True)\n",
              "    (relu): ReLU(inplace=True)\n",
              "    (conv2): Conv2d(64, 64, kernel_size=(3, 3), stride=(1, 1), padding=(1, 1), bias=False)\n",
              "    (bn2): BatchNorm2d(64, eps=1e-05, momentum=0.1, affine=True, track_running_stats=True)\n",
              "  )\n",
              "  (1): BasicBlock(\n",
              "    (conv1): Conv2d(64, 64, kernel_size=(3, 3), stride=(1, 1), padding=(1, 1), bias=False)\n",
              "    (bn1): BatchNorm2d(64, eps=1e-05, momentum=0.1, affine=True, track_running_stats=True)\n",
              "    (relu): ReLU(inplace=True)\n",
              "    (conv2): Conv2d(64, 64, kernel_size=(3, 3), stride=(1, 1), padding=(1, 1), bias=False)\n",
              "    (bn2): BatchNorm2d(64, eps=1e-05, momentum=0.1, affine=True, track_running_stats=True)\n",
              "  )\n",
              "  (2): BasicBlock(\n",
              "    (conv1): Conv2d(64, 64, kernel_size=(3, 3), stride=(1, 1), padding=(1, 1), bias=False)\n",
              "    (bn1): BatchNorm2d(64, eps=1e-05, momentum=0.1, affine=True, track_running_stats=True)\n",
              "    (relu): ReLU(inplace=True)\n",
              "    (conv2): Conv2d(64, 64, kernel_size=(3, 3), stride=(1, 1), padding=(1, 1), bias=False)\n",
              "    (bn2): BatchNorm2d(64, eps=1e-05, momentum=0.1, affine=True, track_running_stats=True)\n",
              "  )\n",
              ")"
            ]
          },
          "metadata": {
            "tags": []
          },
          "execution_count": 20
        }
      ]
    },
    {
      "cell_type": "code",
      "metadata": {
        "colab": {
          "base_uri": "https://localhost:8080/"
        },
        "id": "Wzr0SSEo89Cc",
        "outputId": "c5a7de35-195d-4370-ee33-4dd963dedf1b"
      },
      "source": [
        "list(models.resnet34().children())[4]"
      ],
      "execution_count": null,
      "outputs": [
        {
          "output_type": "execute_result",
          "data": {
            "text/plain": [
              "Sequential(\n",
              "  (0): BasicBlock(\n",
              "    (conv1): Conv2d(64, 64, kernel_size=(3, 3), stride=(1, 1), padding=(1, 1), bias=False)\n",
              "    (bn1): BatchNorm2d(64, eps=1e-05, momentum=0.1, affine=True, track_running_stats=True)\n",
              "    (relu): ReLU(inplace=True)\n",
              "    (conv2): Conv2d(64, 64, kernel_size=(3, 3), stride=(1, 1), padding=(1, 1), bias=False)\n",
              "    (bn2): BatchNorm2d(64, eps=1e-05, momentum=0.1, affine=True, track_running_stats=True)\n",
              "  )\n",
              "  (1): BasicBlock(\n",
              "    (conv1): Conv2d(64, 64, kernel_size=(3, 3), stride=(1, 1), padding=(1, 1), bias=False)\n",
              "    (bn1): BatchNorm2d(64, eps=1e-05, momentum=0.1, affine=True, track_running_stats=True)\n",
              "    (relu): ReLU(inplace=True)\n",
              "    (conv2): Conv2d(64, 64, kernel_size=(3, 3), stride=(1, 1), padding=(1, 1), bias=False)\n",
              "    (bn2): BatchNorm2d(64, eps=1e-05, momentum=0.1, affine=True, track_running_stats=True)\n",
              "  )\n",
              "  (2): BasicBlock(\n",
              "    (conv1): Conv2d(64, 64, kernel_size=(3, 3), stride=(1, 1), padding=(1, 1), bias=False)\n",
              "    (bn1): BatchNorm2d(64, eps=1e-05, momentum=0.1, affine=True, track_running_stats=True)\n",
              "    (relu): ReLU(inplace=True)\n",
              "    (conv2): Conv2d(64, 64, kernel_size=(3, 3), stride=(1, 1), padding=(1, 1), bias=False)\n",
              "    (bn2): BatchNorm2d(64, eps=1e-05, momentum=0.1, affine=True, track_running_stats=True)\n",
              "  )\n",
              ")"
            ]
          },
          "metadata": {
            "tags": []
          },
          "execution_count": 21
        }
      ]
    },
    {
      "cell_type": "code",
      "metadata": {
        "colab": {
          "base_uri": "https://localhost:8080/"
        },
        "id": "7CZlC5BA9Bbr",
        "outputId": "0f35a554-a0e1-4ea6-eb9a-5d85d944fe10"
      },
      "source": [
        "layer2 = _make_layer(BasicBlock, 64, 128, layers[1], stride=2)\n",
        "layer2"
      ],
      "execution_count": null,
      "outputs": [
        {
          "output_type": "execute_result",
          "data": {
            "text/plain": [
              "Sequential(\n",
              "  (0): BasicBlock(\n",
              "    (conv1): Conv2d(64, 128, kernel_size=(3, 3), stride=(2, 2), padding=(1, 1), bias=False)\n",
              "    (bn1): BatchNorm2d(128, eps=1e-05, momentum=0.1, affine=True, track_running_stats=True)\n",
              "    (relu): ReLU(inplace=True)\n",
              "    (conv2): Conv2d(128, 128, kernel_size=(3, 3), stride=(1, 1), padding=(1, 1), bias=False)\n",
              "    (bn2): BatchNorm2d(128, eps=1e-05, momentum=0.1, affine=True, track_running_stats=True)\n",
              "    (downsample): Sequential(\n",
              "      (0): Conv2d(64, 128, kernel_size=(1, 1), stride=(2, 2), bias=False)\n",
              "      (1): BatchNorm2d(128, eps=1e-05, momentum=0.1, affine=True, track_running_stats=True)\n",
              "    )\n",
              "  )\n",
              "  (1): BasicBlock(\n",
              "    (conv1): Conv2d(128, 128, kernel_size=(3, 3), stride=(1, 1), padding=(1, 1), bias=False)\n",
              "    (bn1): BatchNorm2d(128, eps=1e-05, momentum=0.1, affine=True, track_running_stats=True)\n",
              "    (relu): ReLU(inplace=True)\n",
              "    (conv2): Conv2d(128, 128, kernel_size=(3, 3), stride=(1, 1), padding=(1, 1), bias=False)\n",
              "    (bn2): BatchNorm2d(128, eps=1e-05, momentum=0.1, affine=True, track_running_stats=True)\n",
              "  )\n",
              "  (2): BasicBlock(\n",
              "    (conv1): Conv2d(128, 128, kernel_size=(3, 3), stride=(1, 1), padding=(1, 1), bias=False)\n",
              "    (bn1): BatchNorm2d(128, eps=1e-05, momentum=0.1, affine=True, track_running_stats=True)\n",
              "    (relu): ReLU(inplace=True)\n",
              "    (conv2): Conv2d(128, 128, kernel_size=(3, 3), stride=(1, 1), padding=(1, 1), bias=False)\n",
              "    (bn2): BatchNorm2d(128, eps=1e-05, momentum=0.1, affine=True, track_running_stats=True)\n",
              "  )\n",
              "  (3): BasicBlock(\n",
              "    (conv1): Conv2d(128, 128, kernel_size=(3, 3), stride=(1, 1), padding=(1, 1), bias=False)\n",
              "    (bn1): BatchNorm2d(128, eps=1e-05, momentum=0.1, affine=True, track_running_stats=True)\n",
              "    (relu): ReLU(inplace=True)\n",
              "    (conv2): Conv2d(128, 128, kernel_size=(3, 3), stride=(1, 1), padding=(1, 1), bias=False)\n",
              "    (bn2): BatchNorm2d(128, eps=1e-05, momentum=0.1, affine=True, track_running_stats=True)\n",
              "  )\n",
              ")"
            ]
          },
          "metadata": {
            "tags": []
          },
          "execution_count": 22
        }
      ]
    },
    {
      "cell_type": "code",
      "metadata": {
        "colab": {
          "base_uri": "https://localhost:8080/"
        },
        "id": "gHIjahIC9FL_",
        "outputId": "c7124899-74b7-4c6f-8728-35fc01f53fec"
      },
      "source": [
        "list(models.resnet34().children())[5]"
      ],
      "execution_count": null,
      "outputs": [
        {
          "output_type": "execute_result",
          "data": {
            "text/plain": [
              "Sequential(\n",
              "  (0): BasicBlock(\n",
              "    (conv1): Conv2d(64, 128, kernel_size=(3, 3), stride=(2, 2), padding=(1, 1), bias=False)\n",
              "    (bn1): BatchNorm2d(128, eps=1e-05, momentum=0.1, affine=True, track_running_stats=True)\n",
              "    (relu): ReLU(inplace=True)\n",
              "    (conv2): Conv2d(128, 128, kernel_size=(3, 3), stride=(1, 1), padding=(1, 1), bias=False)\n",
              "    (bn2): BatchNorm2d(128, eps=1e-05, momentum=0.1, affine=True, track_running_stats=True)\n",
              "    (downsample): Sequential(\n",
              "      (0): Conv2d(64, 128, kernel_size=(1, 1), stride=(2, 2), bias=False)\n",
              "      (1): BatchNorm2d(128, eps=1e-05, momentum=0.1, affine=True, track_running_stats=True)\n",
              "    )\n",
              "  )\n",
              "  (1): BasicBlock(\n",
              "    (conv1): Conv2d(128, 128, kernel_size=(3, 3), stride=(1, 1), padding=(1, 1), bias=False)\n",
              "    (bn1): BatchNorm2d(128, eps=1e-05, momentum=0.1, affine=True, track_running_stats=True)\n",
              "    (relu): ReLU(inplace=True)\n",
              "    (conv2): Conv2d(128, 128, kernel_size=(3, 3), stride=(1, 1), padding=(1, 1), bias=False)\n",
              "    (bn2): BatchNorm2d(128, eps=1e-05, momentum=0.1, affine=True, track_running_stats=True)\n",
              "  )\n",
              "  (2): BasicBlock(\n",
              "    (conv1): Conv2d(128, 128, kernel_size=(3, 3), stride=(1, 1), padding=(1, 1), bias=False)\n",
              "    (bn1): BatchNorm2d(128, eps=1e-05, momentum=0.1, affine=True, track_running_stats=True)\n",
              "    (relu): ReLU(inplace=True)\n",
              "    (conv2): Conv2d(128, 128, kernel_size=(3, 3), stride=(1, 1), padding=(1, 1), bias=False)\n",
              "    (bn2): BatchNorm2d(128, eps=1e-05, momentum=0.1, affine=True, track_running_stats=True)\n",
              "  )\n",
              "  (3): BasicBlock(\n",
              "    (conv1): Conv2d(128, 128, kernel_size=(3, 3), stride=(1, 1), padding=(1, 1), bias=False)\n",
              "    (bn1): BatchNorm2d(128, eps=1e-05, momentum=0.1, affine=True, track_running_stats=True)\n",
              "    (relu): ReLU(inplace=True)\n",
              "    (conv2): Conv2d(128, 128, kernel_size=(3, 3), stride=(1, 1), padding=(1, 1), bias=False)\n",
              "    (bn2): BatchNorm2d(128, eps=1e-05, momentum=0.1, affine=True, track_running_stats=True)\n",
              "  )\n",
              ")"
            ]
          },
          "metadata": {
            "tags": []
          },
          "execution_count": 23
        }
      ]
    },
    {
      "cell_type": "markdown",
      "metadata": {
        "id": "1Km0J2389Wtu"
      },
      "source": [
        "why we need to downsample input"
      ]
    },
    {
      "cell_type": "code",
      "metadata": {
        "colab": {
          "base_uri": "https://localhost:8080/"
        },
        "id": "_SZqYOKZ9V5K",
        "outputId": "e50ff1b1-268c-4f45-ca76-34f25386c520"
      },
      "source": [
        "t = torch.rand((2,64,56,56))\n",
        "t.shape #batch, RGB channels/filters,width,height"
      ],
      "execution_count": null,
      "outputs": [
        {
          "output_type": "execute_result",
          "data": {
            "text/plain": [
              "torch.Size([2, 64, 56, 56])"
            ]
          },
          "metadata": {
            "tags": []
          },
          "execution_count": 24
        }
      ]
    },
    {
      "cell_type": "code",
      "metadata": {
        "colab": {
          "base_uri": "https://localhost:8080/"
        },
        "id": "hwgPhI0M9JDV",
        "outputId": "ac0c44da-cdc5-407a-e39a-6229f295f6b7"
      },
      "source": [
        "o = nn.Conv2d(64,128,3,2,1)(t)\n",
        "o.shape"
      ],
      "execution_count": null,
      "outputs": [
        {
          "output_type": "execute_result",
          "data": {
            "text/plain": [
              "torch.Size([2, 128, 28, 28])"
            ]
          },
          "metadata": {
            "tags": []
          },
          "execution_count": 25
        }
      ]
    },
    {
      "cell_type": "code",
      "metadata": {
        "colab": {
          "base_uri": "https://localhost:8080/"
        },
        "id": "gn-eAGU49drL",
        "outputId": "58ae595d-0c4e-4aa8-9249-362cca6777d8"
      },
      "source": [
        "torch.Size([2, 128, 28, 28])"
      ],
      "execution_count": null,
      "outputs": [
        {
          "output_type": "execute_result",
          "data": {
            "text/plain": [
              "torch.Size([2, 128, 28, 28])"
            ]
          },
          "metadata": {
            "tags": []
          },
          "execution_count": 26
        }
      ]
    },
    {
      "cell_type": "code",
      "metadata": {
        "colab": {
          "base_uri": "https://localhost:8080/"
        },
        "id": "s_CjE44E9jUm",
        "outputId": "5d19c5a6-7b6a-4323-d64c-89a6eaeb021c"
      },
      "source": [
        "t_d =nn.Conv2d(64,128,1,2,0)(t)\n",
        "o.shape,t_d.shape"
      ],
      "execution_count": null,
      "outputs": [
        {
          "output_type": "execute_result",
          "data": {
            "text/plain": [
              "(torch.Size([2, 128, 28, 28]), torch.Size([2, 128, 28, 28]))"
            ]
          },
          "metadata": {
            "tags": []
          },
          "execution_count": 28
        }
      ]
    },
    {
      "cell_type": "code",
      "metadata": {
        "colab": {
          "base_uri": "https://localhost:8080/"
        },
        "id": "WxIhhP3-9op8",
        "outputId": "de1cdf42-2cd2-41a9-8800-f1c1102fd259"
      },
      "source": [
        "(o+t_d).shape"
      ],
      "execution_count": null,
      "outputs": [
        {
          "output_type": "execute_result",
          "data": {
            "text/plain": [
              "torch.Size([2, 128, 28, 28])"
            ]
          },
          "metadata": {
            "tags": []
          },
          "execution_count": 29
        }
      ]
    },
    {
      "cell_type": "markdown",
      "metadata": {
        "id": "qlTubyow-VfG"
      },
      "source": [
        "Classifier block\n",
        "This is a fully connected layer. It's the final layer in our resnet architecture. It consists of 3 operations -\n",
        "\n",
        "Average pooling layer - aggregates all features. It's output grid size is 1X 1 which forms rank 3 tensor of (512, 1,1)\n",
        "\n",
        "Flatten- Our loss function expects a vector of tensor instead of rank 3 tensor. So in forward() we call 'torch.flatten' to remove any unit axis from matrix and make it just a vector of length 512.\n",
        "\n",
        "x = torch.flatten(x, 1)\n",
        "\n",
        "Linear Layer - It's a fully connected layer just before applying softmax, which takes in 512 features and outputs 1000 class probabilities. (In case of Imagenet, we have 1000 categories.)"
      ]
    },
    {
      "cell_type": "code",
      "metadata": {
        "colab": {
          "base_uri": "https://localhost:8080/"
        },
        "id": "DTU8B65j9sUs",
        "outputId": "339a097c-f73a-4474-e568-d0c8454d50b4"
      },
      "source": [
        "num_classes=1000\n",
        "nn.Sequential(nn.AdaptiveAvgPool2d((1, 1)),\n",
        "              nn.Linear(512 , num_classes))"
      ],
      "execution_count": null,
      "outputs": [
        {
          "output_type": "execute_result",
          "data": {
            "text/plain": [
              "Sequential(\n",
              "  (0): AdaptiveAvgPool2d(output_size=(1, 1))\n",
              "  (1): Linear(in_features=512, out_features=1000, bias=True)\n",
              ")"
            ]
          },
          "metadata": {
            "tags": []
          },
          "execution_count": 30
        }
      ]
    },
    {
      "cell_type": "markdown",
      "metadata": {
        "id": "A_GJjCED-e3Y"
      },
      "source": [
        "Let's confirm our classifier block matches Pytorch's resnet implementation"
      ]
    },
    {
      "cell_type": "code",
      "metadata": {
        "colab": {
          "base_uri": "https://localhost:8080/"
        },
        "id": "UV7qrr4Z-b7k",
        "outputId": "631f0a60-f6ab-4306-d2d9-df90ad9fbd88"
      },
      "source": [
        "list(models.resnet34().children())[8:]"
      ],
      "execution_count": null,
      "outputs": [
        {
          "output_type": "execute_result",
          "data": {
            "text/plain": [
              "[AdaptiveAvgPool2d(output_size=(1, 1)),\n",
              " Linear(in_features=512, out_features=1000, bias=True)]"
            ]
          },
          "metadata": {
            "tags": []
          },
          "execution_count": 31
        }
      ]
    },
    {
      "cell_type": "markdown",
      "metadata": {
        "id": "9PgCYiy1-mQp"
      },
      "source": [
        "### Resnet class"
      ]
    },
    {
      "cell_type": "code",
      "metadata": {
        "id": "4YVGmY3P-hXd"
      },
      "source": [
        "class ResNet(nn.Module):\n",
        "\n",
        "    def __init__(self, block, layers, num_classes=1000):\n",
        "        super().__init__()\n",
        "        \n",
        "        self.inplanes = 64\n",
        "\n",
        "        self.conv1 = nn.Conv2d(3, self.inplanes, kernel_size=7, stride=2, padding=3,\n",
        "                               bias=False)\n",
        "        self.bn1 = nn.BatchNorm2d(self.inplanes)\n",
        "        self.relu = nn.ReLU(inplace=True)\n",
        "        self.maxpool = nn.MaxPool2d(kernel_size=3, stride=2, padding=1)\n",
        "        \n",
        "        self.layer1 = self._make_layer(block, 64, layers[0])\n",
        "        self.layer2 = self._make_layer(block, 128, layers[1], stride=2)\n",
        "        self.layer3 = self._make_layer(block, 256, layers[2], stride=2)\n",
        "        self.layer4 = self._make_layer(block, 512, layers[3], stride=2)\n",
        "        \n",
        "        self.avgpool = nn.AdaptiveAvgPool2d((1, 1))\n",
        "        self.fc = nn.Linear(512 , num_classes)\n",
        "\n",
        "    def _make_layer(self, block, planes, blocks, stride=1):\n",
        "        downsample = None  \n",
        "   \n",
        "        if stride != 1 or self.inplanes != planes:\n",
        "            downsample = nn.Sequential(\n",
        "                nn.Conv2d(self.inplanes, planes, 1, stride, bias=False),\n",
        "                nn.BatchNorm2d(planes),\n",
        "            )\n",
        "\n",
        "        layers = []\n",
        "        layers.append(block(self.inplanes, planes, stride, downsample))\n",
        "        \n",
        "        self.inplanes = planes\n",
        "        \n",
        "        for _ in range(1, blocks):\n",
        "            layers.append(block(self.inplanes, planes))\n",
        "\n",
        "        return nn.Sequential(*layers)\n",
        "\n",
        "\n",
        "    def forward(self, x):\n",
        "        x = self.conv1(x)           # 224x224\n",
        "        x = self.bn1(x)\n",
        "        x = self.relu(x)\n",
        "        x = self.maxpool(x)         # 112x112\n",
        "\n",
        "        x = self.layer1(x)          # 56x56\n",
        "        x = self.layer2(x)          # 28x28\n",
        "        x = self.layer3(x)          # 14x14\n",
        "        x = self.layer4(x)          # 7x7\n",
        "\n",
        "        x = self.avgpool(x)         # 1x1\n",
        "        x = torch.flatten(x, 1)     # remove 1 X 1 grid and make vector of tensor shape \n",
        "        x = self.fc(x)\n",
        "\n",
        "        return x"
      ],
      "execution_count": null,
      "outputs": []
    },
    {
      "cell_type": "markdown",
      "metadata": {
        "id": "kL_plbWT_DRu"
      },
      "source": [
        "### Creating Resnet34 model"
      ]
    },
    {
      "cell_type": "code",
      "metadata": {
        "id": "Tni4vbWS-0el"
      },
      "source": [
        "def resnet34():\n",
        "    layers=[3, 4, 6, 3]\n",
        "    model = ResNet(BasicBlock, layers)\n",
        "    return model"
      ],
      "execution_count": null,
      "outputs": []
    },
    {
      "cell_type": "code",
      "metadata": {
        "colab": {
          "base_uri": "https://localhost:8080/"
        },
        "id": "agMx9SvFBTEM",
        "outputId": "a005dc24-c795-4502-f3f7-6b96623a25d5"
      },
      "source": [
        "# Device configuration\n",
        "device = torch.device('cuda' if torch.cuda.is_available() else 'cpu')\n",
        "print(device)"
      ],
      "execution_count": null,
      "outputs": [
        {
          "output_type": "stream",
          "text": [
            "cuda\n"
          ],
          "name": "stdout"
        }
      ]
    },
    {
      "cell_type": "code",
      "metadata": {
        "id": "5WsRZjBw-_y-"
      },
      "source": [
        "model = resnet34().to(device)"
      ],
      "execution_count": null,
      "outputs": []
    },
    {
      "cell_type": "code",
      "metadata": {
        "colab": {
          "base_uri": "https://localhost:8080/"
        },
        "id": "Mpz7jSsA_HqJ",
        "outputId": "b79edce8-5c51-4dc4-b6dd-a7331e3da4ae"
      },
      "source": [
        "model"
      ],
      "execution_count": null,
      "outputs": [
        {
          "output_type": "execute_result",
          "data": {
            "text/plain": [
              "ResNet(\n",
              "  (conv1): Conv2d(3, 64, kernel_size=(7, 7), stride=(2, 2), padding=(3, 3), bias=False)\n",
              "  (bn1): BatchNorm2d(64, eps=1e-05, momentum=0.1, affine=True, track_running_stats=True)\n",
              "  (relu): ReLU(inplace=True)\n",
              "  (maxpool): MaxPool2d(kernel_size=3, stride=2, padding=1, dilation=1, ceil_mode=False)\n",
              "  (layer1): Sequential(\n",
              "    (0): BasicBlock(\n",
              "      (conv1): Conv2d(64, 64, kernel_size=(3, 3), stride=(1, 1), padding=(1, 1), bias=False)\n",
              "      (bn1): BatchNorm2d(64, eps=1e-05, momentum=0.1, affine=True, track_running_stats=True)\n",
              "      (relu): ReLU(inplace=True)\n",
              "      (conv2): Conv2d(64, 64, kernel_size=(3, 3), stride=(1, 1), padding=(1, 1), bias=False)\n",
              "      (bn2): BatchNorm2d(64, eps=1e-05, momentum=0.1, affine=True, track_running_stats=True)\n",
              "    )\n",
              "    (1): BasicBlock(\n",
              "      (conv1): Conv2d(64, 64, kernel_size=(3, 3), stride=(1, 1), padding=(1, 1), bias=False)\n",
              "      (bn1): BatchNorm2d(64, eps=1e-05, momentum=0.1, affine=True, track_running_stats=True)\n",
              "      (relu): ReLU(inplace=True)\n",
              "      (conv2): Conv2d(64, 64, kernel_size=(3, 3), stride=(1, 1), padding=(1, 1), bias=False)\n",
              "      (bn2): BatchNorm2d(64, eps=1e-05, momentum=0.1, affine=True, track_running_stats=True)\n",
              "    )\n",
              "    (2): BasicBlock(\n",
              "      (conv1): Conv2d(64, 64, kernel_size=(3, 3), stride=(1, 1), padding=(1, 1), bias=False)\n",
              "      (bn1): BatchNorm2d(64, eps=1e-05, momentum=0.1, affine=True, track_running_stats=True)\n",
              "      (relu): ReLU(inplace=True)\n",
              "      (conv2): Conv2d(64, 64, kernel_size=(3, 3), stride=(1, 1), padding=(1, 1), bias=False)\n",
              "      (bn2): BatchNorm2d(64, eps=1e-05, momentum=0.1, affine=True, track_running_stats=True)\n",
              "    )\n",
              "  )\n",
              "  (layer2): Sequential(\n",
              "    (0): BasicBlock(\n",
              "      (conv1): Conv2d(64, 128, kernel_size=(3, 3), stride=(2, 2), padding=(1, 1), bias=False)\n",
              "      (bn1): BatchNorm2d(128, eps=1e-05, momentum=0.1, affine=True, track_running_stats=True)\n",
              "      (relu): ReLU(inplace=True)\n",
              "      (conv2): Conv2d(128, 128, kernel_size=(3, 3), stride=(1, 1), padding=(1, 1), bias=False)\n",
              "      (bn2): BatchNorm2d(128, eps=1e-05, momentum=0.1, affine=True, track_running_stats=True)\n",
              "      (downsample): Sequential(\n",
              "        (0): Conv2d(64, 128, kernel_size=(1, 1), stride=(2, 2), bias=False)\n",
              "        (1): BatchNorm2d(128, eps=1e-05, momentum=0.1, affine=True, track_running_stats=True)\n",
              "      )\n",
              "    )\n",
              "    (1): BasicBlock(\n",
              "      (conv1): Conv2d(128, 128, kernel_size=(3, 3), stride=(1, 1), padding=(1, 1), bias=False)\n",
              "      (bn1): BatchNorm2d(128, eps=1e-05, momentum=0.1, affine=True, track_running_stats=True)\n",
              "      (relu): ReLU(inplace=True)\n",
              "      (conv2): Conv2d(128, 128, kernel_size=(3, 3), stride=(1, 1), padding=(1, 1), bias=False)\n",
              "      (bn2): BatchNorm2d(128, eps=1e-05, momentum=0.1, affine=True, track_running_stats=True)\n",
              "    )\n",
              "    (2): BasicBlock(\n",
              "      (conv1): Conv2d(128, 128, kernel_size=(3, 3), stride=(1, 1), padding=(1, 1), bias=False)\n",
              "      (bn1): BatchNorm2d(128, eps=1e-05, momentum=0.1, affine=True, track_running_stats=True)\n",
              "      (relu): ReLU(inplace=True)\n",
              "      (conv2): Conv2d(128, 128, kernel_size=(3, 3), stride=(1, 1), padding=(1, 1), bias=False)\n",
              "      (bn2): BatchNorm2d(128, eps=1e-05, momentum=0.1, affine=True, track_running_stats=True)\n",
              "    )\n",
              "    (3): BasicBlock(\n",
              "      (conv1): Conv2d(128, 128, kernel_size=(3, 3), stride=(1, 1), padding=(1, 1), bias=False)\n",
              "      (bn1): BatchNorm2d(128, eps=1e-05, momentum=0.1, affine=True, track_running_stats=True)\n",
              "      (relu): ReLU(inplace=True)\n",
              "      (conv2): Conv2d(128, 128, kernel_size=(3, 3), stride=(1, 1), padding=(1, 1), bias=False)\n",
              "      (bn2): BatchNorm2d(128, eps=1e-05, momentum=0.1, affine=True, track_running_stats=True)\n",
              "    )\n",
              "  )\n",
              "  (layer3): Sequential(\n",
              "    (0): BasicBlock(\n",
              "      (conv1): Conv2d(128, 256, kernel_size=(3, 3), stride=(2, 2), padding=(1, 1), bias=False)\n",
              "      (bn1): BatchNorm2d(256, eps=1e-05, momentum=0.1, affine=True, track_running_stats=True)\n",
              "      (relu): ReLU(inplace=True)\n",
              "      (conv2): Conv2d(256, 256, kernel_size=(3, 3), stride=(1, 1), padding=(1, 1), bias=False)\n",
              "      (bn2): BatchNorm2d(256, eps=1e-05, momentum=0.1, affine=True, track_running_stats=True)\n",
              "      (downsample): Sequential(\n",
              "        (0): Conv2d(128, 256, kernel_size=(1, 1), stride=(2, 2), bias=False)\n",
              "        (1): BatchNorm2d(256, eps=1e-05, momentum=0.1, affine=True, track_running_stats=True)\n",
              "      )\n",
              "    )\n",
              "    (1): BasicBlock(\n",
              "      (conv1): Conv2d(256, 256, kernel_size=(3, 3), stride=(1, 1), padding=(1, 1), bias=False)\n",
              "      (bn1): BatchNorm2d(256, eps=1e-05, momentum=0.1, affine=True, track_running_stats=True)\n",
              "      (relu): ReLU(inplace=True)\n",
              "      (conv2): Conv2d(256, 256, kernel_size=(3, 3), stride=(1, 1), padding=(1, 1), bias=False)\n",
              "      (bn2): BatchNorm2d(256, eps=1e-05, momentum=0.1, affine=True, track_running_stats=True)\n",
              "    )\n",
              "    (2): BasicBlock(\n",
              "      (conv1): Conv2d(256, 256, kernel_size=(3, 3), stride=(1, 1), padding=(1, 1), bias=False)\n",
              "      (bn1): BatchNorm2d(256, eps=1e-05, momentum=0.1, affine=True, track_running_stats=True)\n",
              "      (relu): ReLU(inplace=True)\n",
              "      (conv2): Conv2d(256, 256, kernel_size=(3, 3), stride=(1, 1), padding=(1, 1), bias=False)\n",
              "      (bn2): BatchNorm2d(256, eps=1e-05, momentum=0.1, affine=True, track_running_stats=True)\n",
              "    )\n",
              "    (3): BasicBlock(\n",
              "      (conv1): Conv2d(256, 256, kernel_size=(3, 3), stride=(1, 1), padding=(1, 1), bias=False)\n",
              "      (bn1): BatchNorm2d(256, eps=1e-05, momentum=0.1, affine=True, track_running_stats=True)\n",
              "      (relu): ReLU(inplace=True)\n",
              "      (conv2): Conv2d(256, 256, kernel_size=(3, 3), stride=(1, 1), padding=(1, 1), bias=False)\n",
              "      (bn2): BatchNorm2d(256, eps=1e-05, momentum=0.1, affine=True, track_running_stats=True)\n",
              "    )\n",
              "    (4): BasicBlock(\n",
              "      (conv1): Conv2d(256, 256, kernel_size=(3, 3), stride=(1, 1), padding=(1, 1), bias=False)\n",
              "      (bn1): BatchNorm2d(256, eps=1e-05, momentum=0.1, affine=True, track_running_stats=True)\n",
              "      (relu): ReLU(inplace=True)\n",
              "      (conv2): Conv2d(256, 256, kernel_size=(3, 3), stride=(1, 1), padding=(1, 1), bias=False)\n",
              "      (bn2): BatchNorm2d(256, eps=1e-05, momentum=0.1, affine=True, track_running_stats=True)\n",
              "    )\n",
              "    (5): BasicBlock(\n",
              "      (conv1): Conv2d(256, 256, kernel_size=(3, 3), stride=(1, 1), padding=(1, 1), bias=False)\n",
              "      (bn1): BatchNorm2d(256, eps=1e-05, momentum=0.1, affine=True, track_running_stats=True)\n",
              "      (relu): ReLU(inplace=True)\n",
              "      (conv2): Conv2d(256, 256, kernel_size=(3, 3), stride=(1, 1), padding=(1, 1), bias=False)\n",
              "      (bn2): BatchNorm2d(256, eps=1e-05, momentum=0.1, affine=True, track_running_stats=True)\n",
              "    )\n",
              "  )\n",
              "  (layer4): Sequential(\n",
              "    (0): BasicBlock(\n",
              "      (conv1): Conv2d(256, 512, kernel_size=(3, 3), stride=(2, 2), padding=(1, 1), bias=False)\n",
              "      (bn1): BatchNorm2d(512, eps=1e-05, momentum=0.1, affine=True, track_running_stats=True)\n",
              "      (relu): ReLU(inplace=True)\n",
              "      (conv2): Conv2d(512, 512, kernel_size=(3, 3), stride=(1, 1), padding=(1, 1), bias=False)\n",
              "      (bn2): BatchNorm2d(512, eps=1e-05, momentum=0.1, affine=True, track_running_stats=True)\n",
              "      (downsample): Sequential(\n",
              "        (0): Conv2d(256, 512, kernel_size=(1, 1), stride=(2, 2), bias=False)\n",
              "        (1): BatchNorm2d(512, eps=1e-05, momentum=0.1, affine=True, track_running_stats=True)\n",
              "      )\n",
              "    )\n",
              "    (1): BasicBlock(\n",
              "      (conv1): Conv2d(512, 512, kernel_size=(3, 3), stride=(1, 1), padding=(1, 1), bias=False)\n",
              "      (bn1): BatchNorm2d(512, eps=1e-05, momentum=0.1, affine=True, track_running_stats=True)\n",
              "      (relu): ReLU(inplace=True)\n",
              "      (conv2): Conv2d(512, 512, kernel_size=(3, 3), stride=(1, 1), padding=(1, 1), bias=False)\n",
              "      (bn2): BatchNorm2d(512, eps=1e-05, momentum=0.1, affine=True, track_running_stats=True)\n",
              "    )\n",
              "    (2): BasicBlock(\n",
              "      (conv1): Conv2d(512, 512, kernel_size=(3, 3), stride=(1, 1), padding=(1, 1), bias=False)\n",
              "      (bn1): BatchNorm2d(512, eps=1e-05, momentum=0.1, affine=True, track_running_stats=True)\n",
              "      (relu): ReLU(inplace=True)\n",
              "      (conv2): Conv2d(512, 512, kernel_size=(3, 3), stride=(1, 1), padding=(1, 1), bias=False)\n",
              "      (bn2): BatchNorm2d(512, eps=1e-05, momentum=0.1, affine=True, track_running_stats=True)\n",
              "    )\n",
              "  )\n",
              "  (avgpool): AdaptiveAvgPool2d(output_size=(1, 1))\n",
              "  (fc): Linear(in_features=512, out_features=1000, bias=True)\n",
              ")"
            ]
          },
          "metadata": {
            "tags": []
          },
          "execution_count": 39
        }
      ]
    },
    {
      "cell_type": "markdown",
      "metadata": {
        "id": "1ehOmsmcCoLM"
      },
      "source": [
        "## Training and Testing "
      ]
    },
    {
      "cell_type": "code",
      "metadata": {
        "id": "_ztrqhI5Cx_y"
      },
      "source": [
        "import torch\n",
        "import torch.nn as nn\n",
        "import torchvision\n",
        "import torchvision.transforms as transforms"
      ],
      "execution_count": null,
      "outputs": []
    },
    {
      "cell_type": "code",
      "metadata": {
        "id": "7TKOGwZHCpv_"
      },
      "source": [
        "# Hyper-parameters\n",
        "num_epochs = 80\n",
        "learning_rate = 0.001"
      ],
      "execution_count": null,
      "outputs": []
    },
    {
      "cell_type": "code",
      "metadata": {
        "id": "bwtLM4SUCsxP"
      },
      "source": [
        "# Image preprocessing modules\n",
        "transform = transforms.Compose([\n",
        "    transforms.Pad(4),\n",
        "    transforms.RandomHorizontalFlip(),\n",
        "    transforms.RandomCrop(32),\n",
        "    transforms.ToTensor()])"
      ],
      "execution_count": null,
      "outputs": []
    },
    {
      "cell_type": "code",
      "metadata": {
        "id": "23MoeftcCvKv"
      },
      "source": [
        "# Hyper-parameters\n",
        "num_epochs = 80\n",
        "learning_rate = 0.001"
      ],
      "execution_count": null,
      "outputs": []
    },
    {
      "cell_type": "code",
      "metadata": {
        "id": "H46dyZs0C3QY"
      },
      "source": [
        "# Image preprocessing modules\n",
        "transform = transforms.Compose([\n",
        "    transforms.Pad(4),\n",
        "    transforms.RandomHorizontalFlip(),\n",
        "    transforms.RandomCrop(32),\n",
        "    transforms.ToTensor()])"
      ],
      "execution_count": null,
      "outputs": []
    },
    {
      "cell_type": "code",
      "metadata": {
        "colab": {
          "base_uri": "https://localhost:8080/",
          "height": 99,
          "referenced_widgets": [
            "5eca3c934d5b4c0aae502465936cf71b",
            "5e1a3b32369946179bd1560dfa541be7",
            "c32c7172b48d41df875aeff0a57a3b44",
            "77f86e3e8fe849eaa0f4ad0a1c65a4d8",
            "93beb6a00c1144988199f52b651fa5b7",
            "36974dafb85145fcbfa213232c166b3c",
            "7610aafddb3c4fe98fe49731b2a81e1c",
            "6f46c00224c2482ca1c253dfbbaef5b7"
          ]
        },
        "id": "rair1szTC5n_",
        "outputId": "a310b148-2ee9-4c8e-c99a-8e6bb121e7c1"
      },
      "source": [
        "# CIFAR-10 dataset\n",
        "train_dataset = torchvision.datasets.CIFAR10(root='../../data/',\n",
        "                                             train=True, \n",
        "                                             transform=transform,\n",
        "                                             download=True)\n",
        "\n",
        "test_dataset = torchvision.datasets.CIFAR10(root='../../data/',\n",
        "                                            train=False, \n",
        "                                            transform=transforms.ToTensor())"
      ],
      "execution_count": null,
      "outputs": [
        {
          "output_type": "stream",
          "text": [
            "Downloading https://www.cs.toronto.edu/~kriz/cifar-10-python.tar.gz to ../../data/cifar-10-python.tar.gz\n"
          ],
          "name": "stdout"
        },
        {
          "output_type": "display_data",
          "data": {
            "application/vnd.jupyter.widget-view+json": {
              "model_id": "5eca3c934d5b4c0aae502465936cf71b",
              "version_minor": 0,
              "version_major": 2
            },
            "text/plain": [
              "HBox(children=(FloatProgress(value=0.0, max=170498071.0), HTML(value='')))"
            ]
          },
          "metadata": {
            "tags": []
          }
        },
        {
          "output_type": "stream",
          "text": [
            "\n",
            "Extracting ../../data/cifar-10-python.tar.gz to ../../data/\n"
          ],
          "name": "stdout"
        }
      ]
    },
    {
      "cell_type": "code",
      "metadata": {
        "id": "-q6UtnjuC8QK"
      },
      "source": [
        "# Data loader\n",
        "train_loader = torch.utils.data.DataLoader(dataset=train_dataset,\n",
        "                                           batch_size=100, \n",
        "                                           shuffle=True)\n",
        "\n",
        "test_loader = torch.utils.data.DataLoader(dataset=test_dataset,\n",
        "                                          batch_size=100, \n",
        "                                          shuffle=False)"
      ],
      "execution_count": null,
      "outputs": []
    },
    {
      "cell_type": "code",
      "metadata": {
        "id": "3tTGaX7lDA26"
      },
      "source": [
        "# Loss and optimizer\n",
        "criterion = nn.CrossEntropyLoss()\n",
        "optimizer = torch.optim.Adam(model.parameters(), lr=learning_rate)"
      ],
      "execution_count": null,
      "outputs": []
    },
    {
      "cell_type": "code",
      "metadata": {
        "id": "R4avK8vxDGHk"
      },
      "source": [
        "# For updating learning rate\n",
        "def update_lr(optimizer, lr):    \n",
        "    for param_group in optimizer.param_groups:\n",
        "        param_group['lr'] = lr"
      ],
      "execution_count": null,
      "outputs": []
    },
    {
      "cell_type": "code",
      "metadata": {
        "colab": {
          "base_uri": "https://localhost:8080/"
        },
        "id": "8yfm5UwTDKZK",
        "outputId": "c9284151-3a2d-4034-d1ca-e5316a14fb40"
      },
      "source": [
        "# Train the model\n",
        "total_step = len(train_loader)\n",
        "curr_lr = learning_rate\n",
        "for epoch in range(num_epochs):\n",
        "    for i, (images, labels) in enumerate(train_loader):\n",
        "        images = images.to(device)\n",
        "        labels = labels.to(device)\n",
        "\n",
        "        # Forward pass\n",
        "        outputs = model(images)\n",
        "        loss = criterion(outputs, labels)\n",
        "\n",
        "        # Backward and optimize\n",
        "        optimizer.zero_grad()\n",
        "        loss.backward()\n",
        "        optimizer.step()\n",
        "\n",
        "        if (i+1) % 100 == 0:\n",
        "            print (\"Epoch [{}/{}], Step [{}/{}] Loss: {:.4f}\"\n",
        "                   .format(epoch+1, num_epochs, i+1, total_step, loss.item()))\n",
        "\n",
        "    # Decay learning rate\n",
        "    if (epoch+1) % 20 == 0:\n",
        "        curr_lr /= 3\n",
        "        update_lr(optimizer, curr_lr)"
      ],
      "execution_count": null,
      "outputs": [
        {
          "output_type": "stream",
          "text": [
            "Epoch [1/80], Step [100/500] Loss: 1.7778\n",
            "Epoch [1/80], Step [200/500] Loss: 1.5907\n",
            "Epoch [1/80], Step [300/500] Loss: 1.4552\n",
            "Epoch [1/80], Step [400/500] Loss: 1.4281\n",
            "Epoch [1/80], Step [500/500] Loss: 1.1356\n",
            "Epoch [2/80], Step [100/500] Loss: 1.2551\n",
            "Epoch [2/80], Step [200/500] Loss: 1.4720\n",
            "Epoch [2/80], Step [300/500] Loss: 1.2662\n",
            "Epoch [2/80], Step [400/500] Loss: 0.9641\n",
            "Epoch [2/80], Step [500/500] Loss: 1.0169\n",
            "Epoch [3/80], Step [100/500] Loss: 1.2081\n",
            "Epoch [3/80], Step [200/500] Loss: 0.9845\n",
            "Epoch [3/80], Step [300/500] Loss: 1.0354\n",
            "Epoch [3/80], Step [400/500] Loss: 0.8931\n",
            "Epoch [3/80], Step [500/500] Loss: 1.0235\n",
            "Epoch [4/80], Step [100/500] Loss: 1.1874\n",
            "Epoch [4/80], Step [200/500] Loss: 1.0035\n",
            "Epoch [4/80], Step [300/500] Loss: 0.9879\n",
            "Epoch [4/80], Step [400/500] Loss: 1.0200\n",
            "Epoch [4/80], Step [500/500] Loss: 0.8355\n",
            "Epoch [5/80], Step [100/500] Loss: 0.6397\n",
            "Epoch [5/80], Step [200/500] Loss: 0.8216\n",
            "Epoch [5/80], Step [300/500] Loss: 0.8740\n",
            "Epoch [5/80], Step [400/500] Loss: 0.8915\n",
            "Epoch [5/80], Step [500/500] Loss: 0.8683\n",
            "Epoch [6/80], Step [100/500] Loss: 0.7525\n",
            "Epoch [6/80], Step [200/500] Loss: 0.9800\n",
            "Epoch [6/80], Step [300/500] Loss: 0.7385\n",
            "Epoch [6/80], Step [400/500] Loss: 0.8055\n",
            "Epoch [6/80], Step [500/500] Loss: 0.6537\n",
            "Epoch [7/80], Step [100/500] Loss: 0.9922\n",
            "Epoch [7/80], Step [200/500] Loss: 0.8681\n",
            "Epoch [7/80], Step [300/500] Loss: 0.7144\n",
            "Epoch [7/80], Step [400/500] Loss: 0.7054\n",
            "Epoch [7/80], Step [500/500] Loss: 0.4349\n",
            "Epoch [8/80], Step [100/500] Loss: 0.6436\n",
            "Epoch [8/80], Step [200/500] Loss: 0.9118\n",
            "Epoch [8/80], Step [300/500] Loss: 0.8927\n",
            "Epoch [8/80], Step [400/500] Loss: 0.9365\n",
            "Epoch [8/80], Step [500/500] Loss: 0.8868\n",
            "Epoch [9/80], Step [100/500] Loss: 0.6192\n",
            "Epoch [9/80], Step [200/500] Loss: 0.6325\n",
            "Epoch [9/80], Step [300/500] Loss: 0.6037\n",
            "Epoch [9/80], Step [400/500] Loss: 0.5589\n",
            "Epoch [9/80], Step [500/500] Loss: 0.5502\n",
            "Epoch [10/80], Step [100/500] Loss: 0.6722\n",
            "Epoch [10/80], Step [200/500] Loss: 0.5716\n",
            "Epoch [10/80], Step [300/500] Loss: 0.4746\n",
            "Epoch [10/80], Step [400/500] Loss: 0.5109\n",
            "Epoch [10/80], Step [500/500] Loss: 0.5698\n",
            "Epoch [11/80], Step [100/500] Loss: 0.6674\n",
            "Epoch [11/80], Step [200/500] Loss: 0.6845\n",
            "Epoch [11/80], Step [300/500] Loss: 0.6140\n",
            "Epoch [11/80], Step [400/500] Loss: 0.5692\n",
            "Epoch [11/80], Step [500/500] Loss: 0.6390\n",
            "Epoch [12/80], Step [100/500] Loss: 0.5240\n",
            "Epoch [12/80], Step [200/500] Loss: 0.6104\n",
            "Epoch [12/80], Step [300/500] Loss: 0.7089\n",
            "Epoch [12/80], Step [400/500] Loss: 0.7405\n",
            "Epoch [12/80], Step [500/500] Loss: 0.5143\n",
            "Epoch [13/80], Step [100/500] Loss: 0.5439\n",
            "Epoch [13/80], Step [200/500] Loss: 0.5654\n",
            "Epoch [13/80], Step [300/500] Loss: 0.4914\n",
            "Epoch [13/80], Step [400/500] Loss: 0.5922\n",
            "Epoch [13/80], Step [500/500] Loss: 0.6287\n",
            "Epoch [14/80], Step [100/500] Loss: 0.4450\n",
            "Epoch [14/80], Step [200/500] Loss: 0.5667\n",
            "Epoch [14/80], Step [300/500] Loss: 0.5047\n",
            "Epoch [14/80], Step [400/500] Loss: 0.5489\n",
            "Epoch [14/80], Step [500/500] Loss: 0.4041\n",
            "Epoch [15/80], Step [100/500] Loss: 0.4124\n",
            "Epoch [15/80], Step [200/500] Loss: 0.3366\n",
            "Epoch [15/80], Step [300/500] Loss: 0.6619\n",
            "Epoch [15/80], Step [400/500] Loss: 0.4697\n",
            "Epoch [15/80], Step [500/500] Loss: 0.6344\n",
            "Epoch [16/80], Step [100/500] Loss: 0.4014\n",
            "Epoch [16/80], Step [200/500] Loss: 0.5137\n",
            "Epoch [16/80], Step [300/500] Loss: 0.4662\n",
            "Epoch [16/80], Step [400/500] Loss: 0.4113\n",
            "Epoch [16/80], Step [500/500] Loss: 0.5970\n",
            "Epoch [17/80], Step [100/500] Loss: 0.4713\n",
            "Epoch [17/80], Step [200/500] Loss: 0.5712\n",
            "Epoch [17/80], Step [300/500] Loss: 0.4841\n",
            "Epoch [17/80], Step [400/500] Loss: 0.5408\n",
            "Epoch [17/80], Step [500/500] Loss: 0.3856\n",
            "Epoch [18/80], Step [100/500] Loss: 0.5780\n",
            "Epoch [18/80], Step [200/500] Loss: 0.4701\n",
            "Epoch [18/80], Step [300/500] Loss: 0.5041\n",
            "Epoch [18/80], Step [400/500] Loss: 0.5525\n",
            "Epoch [18/80], Step [500/500] Loss: 0.4338\n",
            "Epoch [19/80], Step [100/500] Loss: 0.3884\n",
            "Epoch [19/80], Step [200/500] Loss: 0.5968\n",
            "Epoch [19/80], Step [300/500] Loss: 0.4695\n",
            "Epoch [19/80], Step [400/500] Loss: 0.5703\n",
            "Epoch [19/80], Step [500/500] Loss: 0.2699\n",
            "Epoch [20/80], Step [100/500] Loss: 0.9014\n",
            "Epoch [20/80], Step [200/500] Loss: 0.4381\n",
            "Epoch [20/80], Step [300/500] Loss: 0.5222\n",
            "Epoch [20/80], Step [400/500] Loss: 0.4600\n",
            "Epoch [20/80], Step [500/500] Loss: 0.3449\n",
            "Epoch [21/80], Step [100/500] Loss: 0.4952\n",
            "Epoch [21/80], Step [200/500] Loss: 0.2629\n",
            "Epoch [21/80], Step [300/500] Loss: 0.2945\n",
            "Epoch [21/80], Step [400/500] Loss: 0.4093\n",
            "Epoch [21/80], Step [500/500] Loss: 0.3780\n",
            "Epoch [22/80], Step [100/500] Loss: 0.3250\n",
            "Epoch [22/80], Step [200/500] Loss: 0.3320\n",
            "Epoch [22/80], Step [300/500] Loss: 0.3270\n",
            "Epoch [22/80], Step [400/500] Loss: 0.3488\n",
            "Epoch [22/80], Step [500/500] Loss: 0.3653\n",
            "Epoch [23/80], Step [100/500] Loss: 0.3186\n",
            "Epoch [23/80], Step [200/500] Loss: 0.3353\n",
            "Epoch [23/80], Step [300/500] Loss: 0.3279\n",
            "Epoch [23/80], Step [400/500] Loss: 0.2865\n",
            "Epoch [23/80], Step [500/500] Loss: 0.3268\n",
            "Epoch [24/80], Step [100/500] Loss: 0.3460\n",
            "Epoch [24/80], Step [200/500] Loss: 0.2660\n",
            "Epoch [24/80], Step [300/500] Loss: 0.3083\n",
            "Epoch [24/80], Step [400/500] Loss: 0.2672\n",
            "Epoch [24/80], Step [500/500] Loss: 0.2543\n",
            "Epoch [25/80], Step [100/500] Loss: 0.3758\n",
            "Epoch [25/80], Step [200/500] Loss: 0.1779\n",
            "Epoch [25/80], Step [300/500] Loss: 0.4802\n",
            "Epoch [25/80], Step [400/500] Loss: 0.2500\n",
            "Epoch [25/80], Step [500/500] Loss: 0.4613\n",
            "Epoch [26/80], Step [100/500] Loss: 0.4322\n",
            "Epoch [26/80], Step [200/500] Loss: 0.1986\n",
            "Epoch [26/80], Step [300/500] Loss: 0.3166\n",
            "Epoch [26/80], Step [400/500] Loss: 0.2512\n",
            "Epoch [26/80], Step [500/500] Loss: 0.3462\n",
            "Epoch [27/80], Step [100/500] Loss: 0.2761\n",
            "Epoch [27/80], Step [200/500] Loss: 0.2623\n",
            "Epoch [27/80], Step [300/500] Loss: 0.2358\n",
            "Epoch [27/80], Step [400/500] Loss: 0.2447\n",
            "Epoch [27/80], Step [500/500] Loss: 0.2949\n",
            "Epoch [28/80], Step [100/500] Loss: 0.2856\n",
            "Epoch [28/80], Step [200/500] Loss: 0.2582\n",
            "Epoch [28/80], Step [300/500] Loss: 0.2242\n",
            "Epoch [28/80], Step [400/500] Loss: 0.3886\n",
            "Epoch [28/80], Step [500/500] Loss: 0.4977\n",
            "Epoch [29/80], Step [100/500] Loss: 0.2098\n",
            "Epoch [29/80], Step [200/500] Loss: 0.4072\n",
            "Epoch [29/80], Step [300/500] Loss: 0.3188\n",
            "Epoch [29/80], Step [400/500] Loss: 0.3402\n",
            "Epoch [29/80], Step [500/500] Loss: 0.5447\n",
            "Epoch [30/80], Step [100/500] Loss: 0.1554\n",
            "Epoch [30/80], Step [200/500] Loss: 0.2771\n",
            "Epoch [30/80], Step [300/500] Loss: 0.3712\n",
            "Epoch [30/80], Step [400/500] Loss: 0.3620\n",
            "Epoch [30/80], Step [500/500] Loss: 0.1201\n",
            "Epoch [31/80], Step [100/500] Loss: 0.1862\n",
            "Epoch [31/80], Step [200/500] Loss: 0.1569\n",
            "Epoch [31/80], Step [300/500] Loss: 0.2328\n",
            "Epoch [31/80], Step [400/500] Loss: 0.2816\n",
            "Epoch [31/80], Step [500/500] Loss: 0.4011\n",
            "Epoch [32/80], Step [100/500] Loss: 0.2337\n",
            "Epoch [32/80], Step [200/500] Loss: 0.2184\n",
            "Epoch [32/80], Step [300/500] Loss: 0.2671\n",
            "Epoch [32/80], Step [400/500] Loss: 0.3278\n",
            "Epoch [32/80], Step [500/500] Loss: 0.1282\n",
            "Epoch [33/80], Step [100/500] Loss: 0.2779\n",
            "Epoch [33/80], Step [200/500] Loss: 0.2955\n",
            "Epoch [33/80], Step [300/500] Loss: 0.3878\n",
            "Epoch [33/80], Step [400/500] Loss: 0.2456\n",
            "Epoch [33/80], Step [500/500] Loss: 0.2072\n",
            "Epoch [34/80], Step [100/500] Loss: 0.2659\n",
            "Epoch [34/80], Step [200/500] Loss: 0.3434\n",
            "Epoch [34/80], Step [300/500] Loss: 0.2232\n",
            "Epoch [34/80], Step [400/500] Loss: 0.2224\n",
            "Epoch [34/80], Step [500/500] Loss: 0.2059\n",
            "Epoch [35/80], Step [100/500] Loss: 0.4013\n",
            "Epoch [35/80], Step [200/500] Loss: 0.1852\n",
            "Epoch [35/80], Step [300/500] Loss: 0.2221\n",
            "Epoch [35/80], Step [400/500] Loss: 0.1977\n",
            "Epoch [35/80], Step [500/500] Loss: 0.3820\n",
            "Epoch [36/80], Step [100/500] Loss: 0.1451\n",
            "Epoch [36/80], Step [200/500] Loss: 0.3068\n",
            "Epoch [36/80], Step [300/500] Loss: 0.3495\n",
            "Epoch [36/80], Step [400/500] Loss: 0.2269\n",
            "Epoch [36/80], Step [500/500] Loss: 0.2194\n",
            "Epoch [37/80], Step [100/500] Loss: 0.1651\n",
            "Epoch [37/80], Step [200/500] Loss: 0.3338\n",
            "Epoch [37/80], Step [300/500] Loss: 0.0989\n",
            "Epoch [37/80], Step [400/500] Loss: 0.2900\n",
            "Epoch [37/80], Step [500/500] Loss: 0.2092\n",
            "Epoch [38/80], Step [100/500] Loss: 0.1834\n",
            "Epoch [38/80], Step [200/500] Loss: 0.2702\n",
            "Epoch [38/80], Step [300/500] Loss: 0.1799\n",
            "Epoch [38/80], Step [400/500] Loss: 0.3429\n",
            "Epoch [38/80], Step [500/500] Loss: 0.3222\n",
            "Epoch [39/80], Step [100/500] Loss: 0.0916\n",
            "Epoch [39/80], Step [200/500] Loss: 0.2102\n",
            "Epoch [39/80], Step [300/500] Loss: 0.1960\n",
            "Epoch [39/80], Step [400/500] Loss: 0.2036\n",
            "Epoch [39/80], Step [500/500] Loss: 0.2388\n",
            "Epoch [40/80], Step [100/500] Loss: 0.2874\n",
            "Epoch [40/80], Step [200/500] Loss: 0.2222\n",
            "Epoch [40/80], Step [300/500] Loss: 0.2294\n",
            "Epoch [40/80], Step [400/500] Loss: 0.3363\n",
            "Epoch [40/80], Step [500/500] Loss: 0.2698\n",
            "Epoch [41/80], Step [100/500] Loss: 0.1835\n",
            "Epoch [41/80], Step [200/500] Loss: 0.1192\n",
            "Epoch [41/80], Step [300/500] Loss: 0.1860\n",
            "Epoch [41/80], Step [400/500] Loss: 0.0679\n",
            "Epoch [41/80], Step [500/500] Loss: 0.1358\n",
            "Epoch [42/80], Step [100/500] Loss: 0.2412\n",
            "Epoch [42/80], Step [200/500] Loss: 0.1816\n",
            "Epoch [42/80], Step [300/500] Loss: 0.2616\n",
            "Epoch [42/80], Step [400/500] Loss: 0.2488\n",
            "Epoch [42/80], Step [500/500] Loss: 0.2922\n",
            "Epoch [43/80], Step [100/500] Loss: 0.2314\n",
            "Epoch [43/80], Step [200/500] Loss: 0.2046\n",
            "Epoch [43/80], Step [300/500] Loss: 0.2198\n",
            "Epoch [43/80], Step [400/500] Loss: 0.1802\n",
            "Epoch [43/80], Step [500/500] Loss: 0.2232\n",
            "Epoch [44/80], Step [100/500] Loss: 0.1811\n",
            "Epoch [44/80], Step [200/500] Loss: 0.2175\n",
            "Epoch [44/80], Step [300/500] Loss: 0.2005\n",
            "Epoch [44/80], Step [400/500] Loss: 0.0878\n",
            "Epoch [44/80], Step [500/500] Loss: 0.1476\n",
            "Epoch [45/80], Step [100/500] Loss: 0.1118\n",
            "Epoch [45/80], Step [200/500] Loss: 0.0742\n",
            "Epoch [45/80], Step [300/500] Loss: 0.2330\n",
            "Epoch [45/80], Step [400/500] Loss: 0.1363\n",
            "Epoch [45/80], Step [500/500] Loss: 0.0821\n",
            "Epoch [46/80], Step [100/500] Loss: 0.1428\n",
            "Epoch [46/80], Step [200/500] Loss: 0.1017\n",
            "Epoch [46/80], Step [300/500] Loss: 0.1322\n",
            "Epoch [46/80], Step [400/500] Loss: 0.0799\n",
            "Epoch [46/80], Step [500/500] Loss: 0.1565\n",
            "Epoch [47/80], Step [100/500] Loss: 0.1934\n",
            "Epoch [47/80], Step [200/500] Loss: 0.1242\n",
            "Epoch [47/80], Step [300/500] Loss: 0.1832\n",
            "Epoch [47/80], Step [400/500] Loss: 0.2230\n",
            "Epoch [47/80], Step [500/500] Loss: 0.2010\n",
            "Epoch [48/80], Step [100/500] Loss: 0.2220\n",
            "Epoch [48/80], Step [200/500] Loss: 0.2126\n",
            "Epoch [48/80], Step [300/500] Loss: 0.1753\n",
            "Epoch [48/80], Step [400/500] Loss: 0.2399\n",
            "Epoch [48/80], Step [500/500] Loss: 0.1350\n",
            "Epoch [49/80], Step [100/500] Loss: 0.1627\n",
            "Epoch [49/80], Step [200/500] Loss: 0.1464\n",
            "Epoch [49/80], Step [300/500] Loss: 0.1472\n",
            "Epoch [49/80], Step [400/500] Loss: 0.1448\n",
            "Epoch [49/80], Step [500/500] Loss: 0.2077\n",
            "Epoch [50/80], Step [100/500] Loss: 0.1792\n",
            "Epoch [50/80], Step [200/500] Loss: 0.1117\n",
            "Epoch [50/80], Step [300/500] Loss: 0.1351\n",
            "Epoch [50/80], Step [400/500] Loss: 0.0621\n",
            "Epoch [50/80], Step [500/500] Loss: 0.1103\n",
            "Epoch [51/80], Step [100/500] Loss: 0.1008\n",
            "Epoch [51/80], Step [200/500] Loss: 0.1792\n",
            "Epoch [51/80], Step [300/500] Loss: 0.0953\n",
            "Epoch [51/80], Step [400/500] Loss: 0.1428\n",
            "Epoch [51/80], Step [500/500] Loss: 0.0933\n",
            "Epoch [52/80], Step [100/500] Loss: 0.0925\n",
            "Epoch [52/80], Step [200/500] Loss: 0.1636\n",
            "Epoch [52/80], Step [300/500] Loss: 0.1596\n",
            "Epoch [52/80], Step [400/500] Loss: 0.2582\n",
            "Epoch [52/80], Step [500/500] Loss: 0.1061\n",
            "Epoch [53/80], Step [100/500] Loss: 0.0829\n",
            "Epoch [53/80], Step [200/500] Loss: 0.1038\n",
            "Epoch [53/80], Step [300/500] Loss: 0.1087\n",
            "Epoch [53/80], Step [400/500] Loss: 0.2149\n",
            "Epoch [53/80], Step [500/500] Loss: 0.1796\n",
            "Epoch [54/80], Step [100/500] Loss: 0.1738\n",
            "Epoch [54/80], Step [200/500] Loss: 0.0939\n",
            "Epoch [54/80], Step [300/500] Loss: 0.1263\n",
            "Epoch [54/80], Step [400/500] Loss: 0.2769\n",
            "Epoch [54/80], Step [500/500] Loss: 0.1450\n",
            "Epoch [55/80], Step [100/500] Loss: 0.1369\n",
            "Epoch [55/80], Step [200/500] Loss: 0.0892\n",
            "Epoch [55/80], Step [300/500] Loss: 0.1888\n",
            "Epoch [55/80], Step [400/500] Loss: 0.0950\n",
            "Epoch [55/80], Step [500/500] Loss: 0.0847\n",
            "Epoch [56/80], Step [100/500] Loss: 0.1063\n",
            "Epoch [56/80], Step [200/500] Loss: 0.0786\n",
            "Epoch [56/80], Step [300/500] Loss: 0.0842\n",
            "Epoch [56/80], Step [400/500] Loss: 0.1019\n",
            "Epoch [56/80], Step [500/500] Loss: 0.1611\n",
            "Epoch [57/80], Step [100/500] Loss: 0.1420\n",
            "Epoch [57/80], Step [200/500] Loss: 0.0665\n",
            "Epoch [57/80], Step [300/500] Loss: 0.1763\n",
            "Epoch [57/80], Step [400/500] Loss: 0.2747\n",
            "Epoch [57/80], Step [500/500] Loss: 0.1191\n",
            "Epoch [58/80], Step [100/500] Loss: 0.1037\n",
            "Epoch [58/80], Step [200/500] Loss: 0.2195\n",
            "Epoch [58/80], Step [300/500] Loss: 0.2041\n",
            "Epoch [58/80], Step [400/500] Loss: 0.1457\n",
            "Epoch [58/80], Step [500/500] Loss: 0.0652\n",
            "Epoch [59/80], Step [100/500] Loss: 0.1914\n",
            "Epoch [59/80], Step [200/500] Loss: 0.0740\n",
            "Epoch [59/80], Step [300/500] Loss: 0.1098\n",
            "Epoch [59/80], Step [400/500] Loss: 0.1160\n",
            "Epoch [59/80], Step [500/500] Loss: 0.2813\n",
            "Epoch [60/80], Step [100/500] Loss: 0.0647\n",
            "Epoch [60/80], Step [200/500] Loss: 0.1566\n",
            "Epoch [60/80], Step [300/500] Loss: 0.1414\n",
            "Epoch [60/80], Step [400/500] Loss: 0.1199\n",
            "Epoch [60/80], Step [500/500] Loss: 0.0894\n",
            "Epoch [61/80], Step [100/500] Loss: 0.1650\n",
            "Epoch [61/80], Step [200/500] Loss: 0.1314\n",
            "Epoch [61/80], Step [300/500] Loss: 0.0868\n",
            "Epoch [61/80], Step [400/500] Loss: 0.1175\n",
            "Epoch [61/80], Step [500/500] Loss: 0.0849\n",
            "Epoch [62/80], Step [100/500] Loss: 0.1516\n",
            "Epoch [62/80], Step [200/500] Loss: 0.1583\n",
            "Epoch [62/80], Step [300/500] Loss: 0.1676\n",
            "Epoch [62/80], Step [400/500] Loss: 0.2592\n",
            "Epoch [62/80], Step [500/500] Loss: 0.0650\n",
            "Epoch [63/80], Step [100/500] Loss: 0.1151\n",
            "Epoch [63/80], Step [200/500] Loss: 0.1017\n",
            "Epoch [63/80], Step [300/500] Loss: 0.1627\n",
            "Epoch [63/80], Step [400/500] Loss: 0.0806\n",
            "Epoch [63/80], Step [500/500] Loss: 0.0306\n",
            "Epoch [64/80], Step [100/500] Loss: 0.1465\n",
            "Epoch [64/80], Step [200/500] Loss: 0.0721\n",
            "Epoch [64/80], Step [300/500] Loss: 0.0668\n",
            "Epoch [64/80], Step [400/500] Loss: 0.1151\n",
            "Epoch [64/80], Step [500/500] Loss: 0.0440\n",
            "Epoch [65/80], Step [100/500] Loss: 0.1172\n",
            "Epoch [65/80], Step [200/500] Loss: 0.0757\n",
            "Epoch [65/80], Step [300/500] Loss: 0.0906\n",
            "Epoch [65/80], Step [400/500] Loss: 0.0580\n",
            "Epoch [65/80], Step [500/500] Loss: 0.1318\n",
            "Epoch [66/80], Step [100/500] Loss: 0.1261\n",
            "Epoch [66/80], Step [200/500] Loss: 0.1006\n",
            "Epoch [66/80], Step [300/500] Loss: 0.1474\n",
            "Epoch [66/80], Step [400/500] Loss: 0.0917\n",
            "Epoch [66/80], Step [500/500] Loss: 0.0484\n",
            "Epoch [67/80], Step [100/500] Loss: 0.1253\n",
            "Epoch [67/80], Step [200/500] Loss: 0.1013\n",
            "Epoch [67/80], Step [300/500] Loss: 0.1551\n",
            "Epoch [67/80], Step [400/500] Loss: 0.1109\n",
            "Epoch [67/80], Step [500/500] Loss: 0.0578\n",
            "Epoch [68/80], Step [100/500] Loss: 0.1785\n",
            "Epoch [68/80], Step [200/500] Loss: 0.1304\n",
            "Epoch [68/80], Step [300/500] Loss: 0.0855\n",
            "Epoch [68/80], Step [400/500] Loss: 0.1046\n",
            "Epoch [68/80], Step [500/500] Loss: 0.0924\n",
            "Epoch [69/80], Step [100/500] Loss: 0.1007\n",
            "Epoch [69/80], Step [200/500] Loss: 0.0799\n",
            "Epoch [69/80], Step [300/500] Loss: 0.1495\n",
            "Epoch [69/80], Step [400/500] Loss: 0.0660\n",
            "Epoch [69/80], Step [500/500] Loss: 0.0757\n",
            "Epoch [70/80], Step [100/500] Loss: 0.1641\n",
            "Epoch [70/80], Step [200/500] Loss: 0.0748\n",
            "Epoch [70/80], Step [300/500] Loss: 0.0884\n",
            "Epoch [70/80], Step [400/500] Loss: 0.1725\n",
            "Epoch [70/80], Step [500/500] Loss: 0.1586\n",
            "Epoch [71/80], Step [100/500] Loss: 0.0871\n",
            "Epoch [71/80], Step [200/500] Loss: 0.2924\n",
            "Epoch [71/80], Step [300/500] Loss: 0.0413\n",
            "Epoch [71/80], Step [400/500] Loss: 0.1068\n",
            "Epoch [71/80], Step [500/500] Loss: 0.1358\n",
            "Epoch [72/80], Step [100/500] Loss: 0.0698\n",
            "Epoch [72/80], Step [200/500] Loss: 0.0901\n",
            "Epoch [72/80], Step [300/500] Loss: 0.1691\n",
            "Epoch [72/80], Step [400/500] Loss: 0.0353\n",
            "Epoch [72/80], Step [500/500] Loss: 0.0752\n",
            "Epoch [73/80], Step [100/500] Loss: 0.2550\n",
            "Epoch [73/80], Step [200/500] Loss: 0.1031\n",
            "Epoch [73/80], Step [300/500] Loss: 0.0660\n",
            "Epoch [73/80], Step [400/500] Loss: 0.0797\n",
            "Epoch [73/80], Step [500/500] Loss: 0.0838\n",
            "Epoch [74/80], Step [100/500] Loss: 0.0594\n",
            "Epoch [74/80], Step [200/500] Loss: 0.1284\n",
            "Epoch [74/80], Step [300/500] Loss: 0.0490\n",
            "Epoch [74/80], Step [400/500] Loss: 0.0378\n",
            "Epoch [74/80], Step [500/500] Loss: 0.0487\n",
            "Epoch [75/80], Step [100/500] Loss: 0.1367\n",
            "Epoch [75/80], Step [200/500] Loss: 0.1382\n",
            "Epoch [75/80], Step [300/500] Loss: 0.1466\n",
            "Epoch [75/80], Step [400/500] Loss: 0.0445\n",
            "Epoch [75/80], Step [500/500] Loss: 0.0906\n",
            "Epoch [76/80], Step [100/500] Loss: 0.0684\n",
            "Epoch [76/80], Step [200/500] Loss: 0.2365\n",
            "Epoch [76/80], Step [300/500] Loss: 0.1223\n",
            "Epoch [76/80], Step [400/500] Loss: 0.1046\n",
            "Epoch [76/80], Step [500/500] Loss: 0.1591\n",
            "Epoch [77/80], Step [100/500] Loss: 0.1330\n",
            "Epoch [77/80], Step [200/500] Loss: 0.0677\n",
            "Epoch [77/80], Step [300/500] Loss: 0.0573\n",
            "Epoch [77/80], Step [400/500] Loss: 0.0603\n",
            "Epoch [77/80], Step [500/500] Loss: 0.1050\n",
            "Epoch [78/80], Step [100/500] Loss: 0.0786\n",
            "Epoch [78/80], Step [200/500] Loss: 0.0510\n",
            "Epoch [78/80], Step [300/500] Loss: 0.1730\n",
            "Epoch [78/80], Step [400/500] Loss: 0.0768\n",
            "Epoch [78/80], Step [500/500] Loss: 0.1577\n",
            "Epoch [79/80], Step [100/500] Loss: 0.1637\n",
            "Epoch [79/80], Step [200/500] Loss: 0.1000\n",
            "Epoch [79/80], Step [300/500] Loss: 0.0536\n",
            "Epoch [79/80], Step [400/500] Loss: 0.1023\n",
            "Epoch [79/80], Step [500/500] Loss: 0.0735\n",
            "Epoch [80/80], Step [100/500] Loss: 0.1622\n",
            "Epoch [80/80], Step [200/500] Loss: 0.0934\n",
            "Epoch [80/80], Step [300/500] Loss: 0.0998\n",
            "Epoch [80/80], Step [400/500] Loss: 0.0882\n",
            "Epoch [80/80], Step [500/500] Loss: 0.0712\n"
          ],
          "name": "stdout"
        }
      ]
    },
    {
      "cell_type": "code",
      "metadata": {
        "colab": {
          "base_uri": "https://localhost:8080/"
        },
        "id": "-OLIrYjXDSpG",
        "outputId": "87e49fc7-4783-4d1d-bb34-1e70b7e63de7"
      },
      "source": [
        "# Test the model\n",
        "model.eval()\n",
        "with torch.no_grad():\n",
        "    correct = 0\n",
        "    total = 0\n",
        "    for images, labels in test_loader:\n",
        "        images = images.to(device)\n",
        "        labels = labels.to(device)\n",
        "        outputs = model(images)\n",
        "        _, predicted = torch.max(outputs.data, 1)\n",
        "        total += labels.size(0)\n",
        "        correct += (predicted == labels).sum().item()\n",
        "\n",
        "    print('Accuracy of the model on the test images: {} %'.format(100 * correct / total))"
      ],
      "execution_count": null,
      "outputs": [
        {
          "output_type": "stream",
          "text": [
            "Accuracy of the model on the test images: 86.12 %\n"
          ],
          "name": "stdout"
        }
      ]
    },
    {
      "cell_type": "code",
      "metadata": {
        "id": "IzYQXwv-DeR7"
      },
      "source": [
        "# Save the model checkpoint\n",
        "torch.save(model.state_dict(),'resnet.ckpt')"
      ],
      "execution_count": null,
      "outputs": []
    }
  ]
}